{
 "cells": [
  {
   "attachments": {},
   "cell_type": "markdown",
   "metadata": {},
   "source": [
    "# Importar Librerías"
   ]
  },
  {
   "cell_type": "code",
   "execution_count": 2,
   "metadata": {},
   "outputs": [],
   "source": [
    "import datetime\n",
    "import pickle\n",
    "import polars as pl\n",
    "import numpy as np\n",
    "import pandas as pd\n",
    "from sklearn.preprocessing import StandardScaler"
   ]
  },
  {
   "attachments": {},
   "cell_type": "markdown",
   "metadata": {},
   "source": [
    "# Cargar Datos"
   ]
  },
  {
   "cell_type": "code",
   "execution_count": 68,
   "metadata": {},
   "outputs": [],
   "source": [
    "cols_df1 = [\n",
    "    'CLIENTEAFILIADOBENEFICIARIO',\n",
    "    'AUTORIZACION',\n",
    "    'FECHASERVICIO',\n",
    "    'TIPOATENCION',\n",
    "    'PRESTADOR',\n",
    "    'TipoPrestador',\n",
    "    'ESPECIALIDAD',\n",
    "    'PRESTACION',\n",
    "    'TIPOPRESTACION',\n",
    "    'SERVICIOSALUD',\n",
    "    'MONTOUNITARIO',\n",
    "    'CANTIDAD',\n",
    "    'MONTORECLAMADO',\n",
    "    'MONTOAJUSTADO',\n",
    "    'MONTODIFERENCIAAFILIADO',\n",
    "    'MONTOCOPAGO',\n",
    "    'AUTORIZACIONRELACIONADA',\n",
    "    'MONTOASEGURADORA',\n",
    "    'TipoInstitucionPrestador'\n",
    "    ]\n",
    "\n",
    "cols_df2 = [\n",
    "    'CLIENTEAFILIADOBENEFICIARIO',\n",
    "    'AUTORIZACION',\n",
    "    'FECHASERVICIO',\n",
    "    'TIPOATENCION',\n",
    "    'PRESTADOR',\n",
    "    'TipoPrestador',\n",
    "    'ESPECIALIDAD',\n",
    "    'PRESTACION',\n",
    "    'TIPOPRESTACION',\n",
    "    'SERVICIOSALUD',\n",
    "    'MONTOAJUSTADO',\n",
    "    'MONTOCOPAGO',\n",
    "    'AUTORIZACIONRELACIONADA',\n",
    "    'MONTOASEGURADORA',\n",
    "    'MONTOEXCEPCION',\n",
    "    'MONTOCONCESION',\n",
    "    'MONTOAUTORIZADO'\n",
    "    ]\n",
    "\n",
    "n = 100000"
   ]
  },
  {
   "cell_type": "code",
   "execution_count": 69,
   "metadata": {},
   "outputs": [
    {
     "name": "stdout",
     "output_type": "stream",
     "text": [
      "<class 'pandas.core.frame.DataFrame'>\n",
      "(100000, 19)\n"
     ]
    }
   ],
   "source": [
    "# Data Autorizaciones\n",
    "\n",
    "df1 = pl.read_parquet(\n",
    "    '../Datos/dataAutorizaciones20221208.parquet',\n",
    "    columns = cols_df1\n",
    ")\n",
    "\n",
    "df1 = df1.head(n)\n",
    "df1 = df1.to_pandas()\n",
    "\n",
    "print(type(df1))\n",
    "print(df1.shape)"
   ]
  },
  {
   "cell_type": "code",
   "execution_count": 70,
   "metadata": {},
   "outputs": [
    {
     "name": "stdout",
     "output_type": "stream",
     "text": [
      "<class 'pandas.core.frame.DataFrame'>\n",
      "(100000, 17)\n"
     ]
    }
   ],
   "source": [
    "# Data Distribuciones Autorizaciones\n",
    "\n",
    "df2 = pl.read_parquet(\n",
    "    '../Datos/dataDistribucionesAutorizaciones20221208.parquet',\n",
    "    columns = cols_df2\n",
    ")\n",
    "\n",
    "df2 = df2.head(n)\n",
    "df2 = df2.to_pandas()\n",
    "\n",
    "print(type(df2))\n",
    "print(df2.shape)\n"
   ]
  },
  {
   "cell_type": "code",
   "execution_count": 71,
   "metadata": {},
   "outputs": [
    {
     "name": "stderr",
     "output_type": "stream",
     "text": [
      "C:\\Users\\User\\AppData\\Local\\Packages\\PythonSoftwareFoundation.Python.3.9_qbz5n2kfra8p0\\LocalCache\\local-packages\\Python39\\site-packages\\openpyxl\\worksheet\\_reader.py:312: UserWarning: Unknown extension is not supported and will be removed\n",
      "  warn(msg)\n"
     ]
    }
   ],
   "source": [
    "# CUPS frecuentes en emergencias\n",
    "cups_df = pd.read_excel(\n",
    "    '../Datos/CUPS frecuencias y otros (002).xlsx',engine='openpyxl'\n",
    ")\n",
    "\n",
    "# CUPS cantidades esperadas\n",
    "valores_referencia_cups_df = pd.read_excel(\n",
    "    '../Datos/CUPS frecuencias y otros (002).xlsx', \n",
    "    sheet_name=1,engine='openpyxl'\n",
    ")\n",
    "\n",
    "# Indicador de dias de habitación\n",
    "\n",
    "# Read File\n",
    "salas_df = pd.read_excel(\n",
    "    '../Datos/salas.xlsx', engine='openpyxl'\n",
    ")\n",
    "\n",
    "salas_list = salas_df['DESCRIPCION'].tolist()"
   ]
  },
  {
   "attachments": {},
   "cell_type": "markdown",
   "metadata": {},
   "source": [
    "# Unir Datasets"
   ]
  },
  {
   "cell_type": "code",
   "execution_count": 72,
   "metadata": {},
   "outputs": [],
   "source": [
    "def consolidate_dataframes(df1: pd.DataFrame, df2: pd.DataFrame) -> pd.DataFrame:\n",
    "    # Encuentra intersección de autorizaciones\n",
    "    autorizaciones = set(df1.AUTORIZACION.unique()).intersection(df2.AUTORIZACION.unique())\n",
    "\n",
    "    # Filtrar y seleccionar columnas relevantes\n",
    "    selected_columns_df1 = [\n",
    "    'CLIENTEAFILIADOBENEFICIARIO',\n",
    "    'AUTORIZACION',\n",
    "    'FECHASERVICIO',\n",
    "    'TIPOATENCION',\n",
    "    'PRESTADOR',\n",
    "    'TipoPrestador',\n",
    "    'ESPECIALIDAD',\n",
    "    'PRESTACION',\n",
    "    'TIPOPRESTACION',\n",
    "    'SERVICIOSALUD',\n",
    "    'MONTOUNITARIO',\n",
    "    'CANTIDAD',\n",
    "    'MONTORECLAMADO',\n",
    "    'MONTOAJUSTADO',\n",
    "    'MONTODIFERENCIAAFILIADO',\n",
    "    'MONTOCOPAGO',\n",
    "    'AUTORIZACIONRELACIONADA',\n",
    "    'MONTOASEGURADORA',\n",
    "    'TipoInstitucionPrestador'\n",
    "    ]\n",
    "    \n",
    "    selected_columns_df2 = [\n",
    "    'CLIENTEAFILIADOBENEFICIARIO',\n",
    "    'AUTORIZACION',\n",
    "    'FECHASERVICIO',\n",
    "    'TIPOATENCION',\n",
    "    'PRESTADOR',\n",
    "    'TipoPrestador',\n",
    "    'ESPECIALIDAD',\n",
    "    'PRESTACION',\n",
    "    'TIPOPRESTACION',\n",
    "    'SERVICIOSALUD',\n",
    "    'MONTOAJUSTADO',\n",
    "    'MONTOCOPAGO',\n",
    "    'AUTORIZACIONRELACIONADA',\n",
    "    'MONTOASEGURADORA',\n",
    "    'MONTOEXCEPCION',\n",
    "    'MONTOCONCESION',\n",
    "    'MONTOAUTORIZADO'\n",
    "    ]\n",
    "    \n",
    "    filtered_df1 = df1[df1.AUTORIZACION.isin(autorizaciones)][selected_columns_df1]\n",
    "    filtered_df2 = df2[df2.AUTORIZACION.isin(autorizaciones)][selected_columns_df2]\n",
    "\n",
    "    # Agrupar montos en el dataset de distribución\n",
    "    groupby_columns = [\n",
    "        'AUTORIZACION',\n",
    "        'CLIENTEAFILIADOBENEFICIARIO',\n",
    "        'PRESTACION',\n",
    "        'PRESTADOR',\n",
    "        'FECHASERVICIO'\n",
    "    ]\n",
    "    \n",
    "    aggregated_df2 = filtered_df2.groupby(groupby_columns)[['MONTOASEGURADORA', 'MONTOEXCEPCION', 'MONTOCONCESION', 'MONTOAUTORIZADO']].sum().reset_index()\n",
    "\n",
    "    # Consolidar las dos bases de datos\n",
    "    consolidated_df = filtered_df1.merge(\n",
    "        aggregated_df2,\n",
    "        on=groupby_columns\n",
    "    )\n",
    "    \n",
    "    # Eliminar columnas\n",
    "    consolidated_df.drop(columns=['MONTOASEGURADORA_x'], inplace=True)\n",
    "\n",
    "    # Renombrar columnas\n",
    "    \n",
    "    consolidated_df.rename(\n",
    "        columns={\n",
    "            'MONTOASEGURADORA_y': 'MONTOASEGURADORA',\n",
    "            'MONTODIFERENCIAAFILIADO': 'MONTOUSUARIO',\n",
    "            'TipoPrestador': 'TIPOPRESTADOR',\n",
    "        },\n",
    "        inplace=True\n",
    "    )\n",
    "    \n",
    "    return consolidated_df\n",
    "\n",
    "# Uso de la función\n",
    "df = consolidate_dataframes(df1, df2)\n",
    "\n"
   ]
  },
  {
   "cell_type": "code",
   "execution_count": 8,
   "metadata": {},
   "outputs": [
    {
     "name": "stdout",
     "output_type": "stream",
     "text": [
      "(17614, 22)\n"
     ]
    }
   ],
   "source": [
    "\n",
    "print(df.shape)"
   ]
  },
  {
   "cell_type": "code",
   "execution_count": null,
   "metadata": {},
   "outputs": [],
   "source": [
    "del(df1, df2)"
   ]
  },
  {
   "attachments": {},
   "cell_type": "markdown",
   "metadata": {},
   "source": [
    "# Preprocesamiento"
   ]
  },
  {
   "cell_type": "code",
   "execution_count": 73,
   "metadata": {},
   "outputs": [],
   "source": [
    "def clean_and_format_data(df):\n",
    "    df['PRESTACION'] = df['PRESTACION'].str.strip() # Eliminar espacios al final y al comienzo de Prestacion\n",
    "    df['FECHASERVICIO'] = pd.to_datetime(df['FECHASERVICIO']) # Dar formato a Fechas de Servicio\n",
    "    # Obtener mes de fecha de servicio\n",
    "    df['FECHASERVICIO_MONTH'] = df['FECHASERVICIO'].dt.month_name() \n",
    "    df['FECHASERVICIO_MONTH_NUMBER'] = df['FECHASERVICIO'].dt.month\n",
    "    \n",
    "    \n",
    "clean_and_format_data(df)    "
   ]
  },
  {
   "cell_type": "code",
   "execution_count": null,
   "metadata": {},
   "outputs": [],
   "source": [
    "df.shape"
   ]
  },
  {
   "cell_type": "code",
   "execution_count": null,
   "metadata": {},
   "outputs": [],
   "source": [
    "df.head(1)"
   ]
  },
  {
   "cell_type": "code",
   "execution_count": null,
   "metadata": {},
   "outputs": [],
   "source": [
    "df.loc[df['AUTORIZACION']==46857903].head(1)"
   ]
  },
  {
   "cell_type": "code",
   "execution_count": 74,
   "metadata": {},
   "outputs": [],
   "source": [
    "def diferencia_montos(df):\n",
    "    df['DIFERENCIA_MONTO_RECLAMADO_AUTORIZADO'] = df['MONTORECLAMADO'] - df['MONTOAUTORIZADO'] ### Calcular Diferencia de montos reclamado y autorizado\n",
    "    df['DIFERENCIA_MONTO_RECLAMADO_AUTORIZADO_USUARIO'] = df['MONTORECLAMADO'] - (df['MONTOAUTORIZADO'] + df['MONTOUSUARIO'])### Calcular Diferencia de montos reclamado y autorizado y usuario\n",
    "    \n",
    "    ### Calcular Valores Absolutos\n",
    "    df['MONTOAJUSTADO_ABS'] = abs(df['MONTOAJUSTADO'])\n",
    "    df['MONTOCONCESION_ABS'] = abs(df['MONTOCONCESION'])\n",
    "    df['DIFERENCIA_ABSOLUTA_MONTO_RECLAMADO_AUTORIZADO'] = abs(df['DIFERENCIA_MONTO_RECLAMADO_AUTORIZADO'])\n",
    "    \n",
    "\n",
    "\n",
    "\n",
    "diferencia_montos(df)  "
   ]
  },
  {
   "cell_type": "code",
   "execution_count": null,
   "metadata": {},
   "outputs": [],
   "source": [
    "df.head()"
   ]
  },
  {
   "cell_type": "code",
   "execution_count": 77,
   "metadata": {},
   "outputs": [],
   "source": [
    "def calcular_fechas_1(df, salas_list):\n",
    "    \n",
    "    # Calcular Dias de habitación\n",
    "    dias_habitacion_mask = df['PRESTACION'].isin(salas_list)\n",
    "    df.loc[dias_habitacion_mask, 'DIAS_HABITACION'] = df['CANTIDAD']\n",
    "    \n",
    "    # Calcular la fecha de fin de servicio\n",
    "    def calculate_end_date(ser):\n",
    "        if ser['DIAS_HABITACION']== np.nan:\n",
    "            return \n",
    "        \n",
    "        start_date = ser['FECHASERVICIO']\n",
    "        dias_habitacion = ser['CANTIDAD']\n",
    "        end_date = start_date + datetime.timedelta(days=dias_habitacion)\n",
    "        return end_date\n",
    "        \n",
    "    df['FECHASERVICIO_FIN'] = df.apply(lambda x:calculate_end_date(x), axis=1)\n",
    "    \n",
    "\n",
    "calcular_fechas_1(df, salas_list)"
   ]
  },
  {
   "cell_type": "code",
   "execution_count": null,
   "metadata": {},
   "outputs": [],
   "source": [
    "print(df.shape)\n"
   ]
  },
  {
   "cell_type": "code",
   "execution_count": null,
   "metadata": {},
   "outputs": [],
   "source": [
    "df.head(1)"
   ]
  },
  {
   "cell_type": "code",
   "execution_count": null,
   "metadata": {},
   "outputs": [],
   "source": []
  },
  {
   "cell_type": "code",
   "execution_count": 78,
   "metadata": {},
   "outputs": [],
   "source": [
    "# Alertas para Reglas de Negocio, relacionada a montos\n",
    "\n",
    "especialidades_claves = [\n",
    "    'CENTROS MEDICOS',\n",
    "    'ATENCION FARMACEUTICA', \n",
    "    'CTROS. DIAGNOSTICOS',\n",
    "    'MEDICINA FISICA Y REHABILITACION', \n",
    "    'LABORATORIO CLINICO DE HEMATOLOGIA Y BAN',\n",
    "]\n",
    "\n",
    "def tipo_especialidad(df, especialidades_claves):\n",
    "    df['TIPO_ESPECIALIDAD'] = df['ESPECIALIDAD']\n",
    "    df.loc[~df['TIPO_ESPECIALIDAD'].isin(especialidades_claves), 'TIPO_ESPECIALIDAD'] = 'OTROS'\n",
    "    \n",
    "\n",
    "tipo_especialidad(df, especialidades_claves)"
   ]
  },
  {
   "cell_type": "code",
   "execution_count": null,
   "metadata": {},
   "outputs": [],
   "source": [
    "df.shape"
   ]
  },
  {
   "cell_type": "code",
   "execution_count": 79,
   "metadata": {},
   "outputs": [],
   "source": [
    "def alertas_montos_1(df):\n",
    "    # Alertas para Reglas de Negocio, relacionada a montos\n",
    "    df['ERROR_MONTO_RECLAMADO'] = np.where(df['DIFERENCIA_MONTO_RECLAMADO_AUTORIZADO_USUARIO'] != 0, 1, 0)\n",
    "    df['TIENE_MONTO_EXCEPCION'] = np.where(abs(df['MONTOEXCEPCION']) > 0, 1, 0)\n",
    "    df['ERROR_MONTO_AUTORIZADO2'] = np.where(abs(df['MONTOAUTORIZADO'] - df['MONTOASEGURADORA'] - df['MONTOCONCESION'] - df['MONTOEXCEPCION']) > 0.1, 1, 0)\n",
    "    df['ERROR_CONSECION'] = np.where(df['MONTOCONCESION_ABS'] > 0.2 * df['MONTOAUTORIZADO'], 1, 0)\n",
    "    df['ERROR_MONTO_AUTORIZADO1'] = np.where(df['MONTOAUTORIZADO'] > df['MONTORECLAMADO'], 1, 0)\n",
    "    \n",
    "alertas_montos_1(df)"
   ]
  },
  {
   "cell_type": "code",
   "execution_count": null,
   "metadata": {},
   "outputs": [],
   "source": [
    "print(df.shape)\n"
   ]
  },
  {
   "cell_type": "code",
   "execution_count": null,
   "metadata": {},
   "outputs": [],
   "source": [
    "df.head(1)"
   ]
  },
  {
   "cell_type": "code",
   "execution_count": 80,
   "metadata": {},
   "outputs": [],
   "source": [
    "def alertas_dias_habitacion(df):\n",
    "    # Alertas para Reglas de Negocio, relacionada a los dias de habitación\n",
    "    df['LIM_2_DIAS_HABITACION_EXCEDIDO'] = np.where(df['DIAS_HABITACION'] > 2, 1, 0)\n",
    "    df['LIM_6_DIAS_HABITACION_EXCEDIDO'] = np.where(df['DIAS_HABITACION'] > 6, 1, 0)\n",
    "    \n",
    "alertas_dias_habitacion(df)"
   ]
  },
  {
   "cell_type": "code",
   "execution_count": null,
   "metadata": {},
   "outputs": [],
   "source": [
    "print(df.shape)\n"
   ]
  },
  {
   "cell_type": "code",
   "execution_count": null,
   "metadata": {},
   "outputs": [],
   "source": [
    "df.head(1)"
   ]
  },
  {
   "cell_type": "code",
   "execution_count": 81,
   "metadata": {},
   "outputs": [
    {
     "name": "stdout",
     "output_type": "stream",
     "text": [
      "(17614, 41)\n"
     ]
    }
   ],
   "source": [
    "def indicadores_de_atencion(df):\n",
    "    df['ATENCION_AMBULATORIA'] = np.where(df['TIPOATENCION'] == 'AMBULATORIA', 1, 0)\n",
    "    df['ATENCION_HOSPITALARIA'] = np.where(df['TIPOATENCION'] == 'HOSPITALARIA', 1, 0)\n",
    "    \n",
    "indicadores_de_atencion(df)\n",
    "print(df.shape)\n"
   ]
  },
  {
   "cell_type": "code",
   "execution_count": null,
   "metadata": {},
   "outputs": [],
   "source": [
    "df.head(1)"
   ]
  },
  {
   "cell_type": "code",
   "execution_count": 82,
   "metadata": {},
   "outputs": [
    {
     "name": "stdout",
     "output_type": "stream",
     "text": [
      "(17614, 48)\n"
     ]
    }
   ],
   "source": [
    "def indicadores_de_prestador(df):\n",
    "    # Indicadores de prestador\n",
    "    df['CENTROS_MEDICOS'] = np.where(df['TIPO_ESPECIALIDAD'] == 'CENTROS MEDICOS', 1, 0)\n",
    "    df['CENTRO_DIAGNOSTICO'] = np.where(df['TIPO_ESPECIALIDAD'] == 'CTROS. DIAGNOSTICOS', 1, 0)\n",
    "    df['LABORATORIO_CLINICO'] = np.where(df['TIPO_ESPECIALIDAD'] == 'LABORATORIO CLINICO DE HEMATOLOGIA Y BAN', 1, 0)\n",
    "    df['ATENCION_FARMACEUTICA'] = np.where(df['TIPO_ESPECIALIDAD'] == 'ATENCION FARMACEUTICA', 1, 0)\n",
    "    df['OTRA_ESPECIALIDAD'] = np.where(df['TIPO_ESPECIALIDAD'] == 'OTROS', 1, 0)\n",
    "    df['MEDICO_ESPECIALISTA'] = np.where(df['TIPOPRESTADOR'] == 'MEDICOS Y/O ESPECIALISTAS', 1, 0)\n",
    "    df['ES_CONSULTA'] = np.where(df['PRESTACION'].str.contains('CONSULTA'), 1, 0)\n",
    "    \n",
    "indicadores_de_prestador(df)\n",
    "print(df.shape)\n"
   ]
  },
  {
   "cell_type": "code",
   "execution_count": null,
   "metadata": {},
   "outputs": [],
   "source": [
    "df.head(1)"
   ]
  },
  {
   "cell_type": "code",
   "execution_count": 83,
   "metadata": {},
   "outputs": [
    {
     "name": "stdout",
     "output_type": "stream",
     "text": [
      "(17614, 53)\n"
     ]
    }
   ],
   "source": [
    "def indicadores_de_procedimiento(df):\n",
    "    # Indicadores de procedimiento\n",
    "    df['OTROS_SERVICIOS'] = np.where(df['PRESTACION'] == 'OTROS SERVICIOS NO CUBIERTOS', 1, 0)\n",
    "    df['MEDICINAS_INTERNAMIENTO'] = np.where(df['PRESTACION'] == 'Medicinas Durante Internamiento todo tipo', 1, 0)\n",
    "    df['MATERIALES_DESECHABLES'] = np.where(df['PRESTACION'] == 'MATERIALES DESECHABLES', 1, 0)\n",
    "    \n",
    "\n",
    "def metricas(df):\n",
    "    df['MONTO_USUARIO_PER_CAPITA'] = df['MONTOUSUARIO'] / df['CANTIDAD']\n",
    "    df['DIFERENCIA_RECLAMADO_AUTORIZADO'] = df['MONTORECLAMADO'] - df['MONTOAUTORIZADO']\n",
    "    \n",
    "\n",
    "indicadores_de_procedimiento(df)\n",
    "metricas(df)\n",
    "print(df.shape)"
   ]
  },
  {
   "cell_type": "code",
   "execution_count": null,
   "metadata": {},
   "outputs": [],
   "source": [
    "df.head(1)"
   ]
  },
  {
   "cell_type": "code",
   "execution_count": null,
   "metadata": {},
   "outputs": [],
   "source": [
    "df.loc[df['AUTORIZACION']==42316928].head(1)"
   ]
  },
  {
   "cell_type": "code",
   "execution_count": 84,
   "metadata": {},
   "outputs": [
    {
     "name": "stdout",
     "output_type": "stream",
     "text": [
      "(17614, 54)\n"
     ]
    }
   ],
   "source": [
    "# Calcular prestaciones que exceden el maximo esperado.\n",
    "\n",
    "def calcular_prestaciones_excedidas(consolidated_df, valores_referencia_cups_df):\n",
    "    # Combinar los DataFrames en función de la columna 'PRESTACION' en consolidated_df\n",
    "    # y la columna 'cupsNombre' en valores_referencia_cups_df\n",
    "    merged_df = consolidated_df.merge(\n",
    "        valores_referencia_cups_df[['cupsNombre', 'cupsMaxVecesDia']],\n",
    "        left_on='PRESTACION',\n",
    "        right_on='cupsNombre',\n",
    "        how='left'\n",
    "    )\n",
    "\n",
    "    # Crear una nueva columna 'LIM_CANTIDAD_PRESTACION_EXCEDIDO' que es 1 si 'CANTIDAD'\n",
    "    # excede 'cupsMaxVecesDia' y 0 en caso contrario\n",
    "    merged_df['LIM_CANTIDAD_PRESTACION_EXCEDIDO'] = (merged_df['CANTIDAD'] > merged_df['cupsMaxVecesDia']).astype(int)\n",
    "    \n",
    "    # Eliminar las columnas innecesarias del resultado\n",
    "    result_df = merged_df.drop(columns=['cupsMaxVecesDia', 'cupsNombre'])\n",
    "    \n",
    "    # Actualizar el DataFrame original con el resultado\n",
    "    consolidated_df[result_df.columns] = result_df\n",
    "\n",
    "\n",
    "calcular_prestaciones_excedidas(df, valores_referencia_cups_df)\n",
    "print(df.shape)"
   ]
  },
  {
   "cell_type": "code",
   "execution_count": null,
   "metadata": {},
   "outputs": [],
   "source": [
    "df.loc[df['AUTORIZACION']==42316928].head(1)"
   ]
  },
  {
   "cell_type": "code",
   "execution_count": null,
   "metadata": {},
   "outputs": [],
   "source": [
    "df_test = df.copy()"
   ]
  },
  {
   "cell_type": "code",
   "execution_count": null,
   "metadata": {},
   "outputs": [],
   "source": [
    "print(df_test.shape)\n",
    "print(df.shape)"
   ]
  },
  {
   "cell_type": "code",
   "execution_count": 85,
   "metadata": {},
   "outputs": [
    {
     "data": {
      "text/plain": [
       "(17614, 55)"
      ]
     },
     "execution_count": 85,
     "metadata": {},
     "output_type": "execute_result"
    }
   ],
   "source": [
    "# Visita a diferente especialista, misma especialidad, mayor a 2 por mes \n",
    "\n",
    "def misma_especialidad_diff_especialista(consolidated_df, lim_especialista=2):\n",
    "    # Filtrar por pacientes que hayan visitado a diferentes especialistas en la misma especialidad más de dos veces al mes\n",
    "    cant_especialistas_diferentes = consolidated_df[\n",
    "        (consolidated_df['MEDICO_ESPECIALISTA'] == 1) & (consolidated_df['ES_CONSULTA'] == 1)\n",
    "    ].groupby(\n",
    "        ['CLIENTEAFILIADOBENEFICIARIO', 'ESPECIALIDAD', 'FECHASERVICIO_MONTH_NUMBER', 'FECHASERVICIO_MONTH']\n",
    "    ).agg(\n",
    "        CANT_ESPECIALISTAS_DIFERENTES=pd.NamedAgg(column='PRESTADOR', aggfunc='nunique'),\n",
    "        AUTORIZACIONES=pd.NamedAgg(column='AUTORIZACION', aggfunc='unique'),\n",
    "    ).sort_values(by='CANT_ESPECIALISTAS_DIFERENTES', ascending=False)\n",
    "    \n",
    "    # Filtrar por pacientes que hayan visitado a más de dos especialistas diferentes en un mes\n",
    "    cant_especialistas_diferentes = cant_especialistas_diferentes[cant_especialistas_diferentes['CANT_ESPECIALISTAS_DIFERENTES'] > lim_especialista]\n",
    "    cant_especialistas_diferentes.reset_index(inplace=True)\n",
    "    \n",
    "    # Explode para tener una autorización por fila\n",
    "    cant_especialistas_diferentes = cant_especialistas_diferentes.explode('AUTORIZACIONES')\n",
    "    autorizaciones_especialistas_diferentes = cant_especialistas_diferentes['AUTORIZACIONES'].unique()\n",
    "    \n",
    "    # Crear nueva columna en consolidated_df\n",
    "    consolidated_df['MISMA_ESPECIALIDAD_DIFF_ESPECIALISTA'] = (\n",
    "        (consolidated_df['MEDICO_ESPECIALISTA'] == 1) & \n",
    "        (consolidated_df['ES_CONSULTA'] == 1) &\n",
    "        (consolidated_df['AUTORIZACION'].isin(autorizaciones_especialistas_diferentes) )\n",
    "    )*1\n",
    "    \n",
    "misma_especialidad_diff_especialista(df)\n",
    "df.shape"
   ]
  },
  {
   "cell_type": "code",
   "execution_count": null,
   "metadata": {},
   "outputs": [],
   "source": [
    "df_test.loc[df_test['AUTORIZACION']==42316928].head(1)"
   ]
  },
  {
   "cell_type": "code",
   "execution_count": 86,
   "metadata": {},
   "outputs": [
    {
     "name": "stdout",
     "output_type": "stream",
     "text": [
      "(17614, 56)\n"
     ]
    }
   ],
   "source": [
    "# Visita al mismo especialista mayor a 2 por mes\n",
    "\n",
    "def visita_mismo_especialista(consolidated_df, lim_consultas_mes=2):\n",
    "    \n",
    "    # Agrupar por 'CLIENTEAFILIADOBENEFICIARIO', 'PRESTADOR', 'FECHASERVICIO_MONTH_NUMBER' y 'FECHASERVICIO_MONTH'\n",
    "    cant_visitas_especialista = consolidated_df[\n",
    "        (consolidated_df['MEDICO_ESPECIALISTA'] == 1) &\n",
    "        (consolidated_df['ES_CONSULTA'] == 1)\n",
    "    ].groupby(\n",
    "        ['CLIENTEAFILIADOBENEFICIARIO', 'PRESTADOR', pd.Grouper(key='FECHASERVICIO', freq='M')]\n",
    "    ).agg(\n",
    "        NUM_VISITAS=pd.NamedAgg(column='FECHASERVICIO', aggfunc='nunique'),\n",
    "        AUTORIZACIONES=pd.NamedAgg(column='AUTORIZACION', aggfunc='unique'),\n",
    "    ).reset_index()\n",
    "\n",
    "    # Filtrar por el límite máximo de visitas permitido por mes\n",
    "    cant_visitas_especialista = cant_visitas_especialista[cant_visitas_especialista['NUM_VISITAS'] > lim_consultas_mes]\n",
    "\n",
    "    # Expandir la columna 'AUTORIZACIONES'\n",
    "    cant_visitas_especialista = cant_visitas_especialista.explode('AUTORIZACIONES')\n",
    "\n",
    "    # Obtener las autorizaciones que exceden el límite de visitas\n",
    "    autorizaciones_visitas_especialista = cant_visitas_especialista['AUTORIZACIONES'].unique()\n",
    "\n",
    "    # Agregar el indicador 'LIM_CONSULTAS_EXCEDIDO_MES'\n",
    "    consolidated_df['LIM_CONSULTAS_EXCEDIDO_MES'] = (\n",
    "        (consolidated_df['MEDICO_ESPECIALISTA'] == 1) &\n",
    "        (consolidated_df['ES_CONSULTA'] == 1) &\n",
    "        (consolidated_df['AUTORIZACION'].isin(autorizaciones_visitas_especialista))\n",
    "    )*1\n",
    "\n",
    "\n",
    "visita_mismo_especialista(df)\n",
    "print(df.shape)"
   ]
  },
  {
   "cell_type": "code",
   "execution_count": null,
   "metadata": {},
   "outputs": [],
   "source": [
    "df_test.loc[df_test['AUTORIZACION']==42316928].head(1)"
   ]
  },
  {
   "cell_type": "code",
   "execution_count": null,
   "metadata": {},
   "outputs": [],
   "source": [
    "df.loc[df['AUTORIZACION']==43866305]"
   ]
  },
  {
   "cell_type": "code",
   "execution_count": null,
   "metadata": {},
   "outputs": [],
   "source": [
    "df.shape"
   ]
  },
  {
   "cell_type": "code",
   "execution_count": 87,
   "metadata": {},
   "outputs": [
    {
     "name": "stdout",
     "output_type": "stream",
     "text": [
      "(17614, 58)\n"
     ]
    }
   ],
   "source": [
    "## Límite Emergencias excedido en el mes\n",
    "\n",
    "def limite_emergencias_excedido(df):\n",
    "    # Crear la columna \"ES_EMERGENCIA\" usando np.where\n",
    "    df['ES_EMERGENCIA'] = np.where(df['SERVICIOSALUD'].str.contains('EMERGENCIA'), 1, 0)\n",
    "    \n",
    "    # Contar la cantidad de autorizaciones de emergencias por mes y cliente\n",
    "    freq_emergencias_mes = df.loc[df['ES_EMERGENCIA'] == 1].groupby([\n",
    "        'CLIENTEAFILIADOBENEFICIARIO', 'FECHASERVICIO_MONTH_NUMBER', 'FECHASERVICIO_MONTH'\n",
    "    ]).agg({\n",
    "        'AUTORIZACION': ['nunique', 'unique']\n",
    "    })\n",
    "    \n",
    "    # Desagregar la columna \"AUTORIZACIONES\" y filtrar las autorizaciones que exceden el límite de emergencias\n",
    "    freq_emergencias_mes = freq_emergencias_mes.explode(('AUTORIZACION', 'unique'))\n",
    "    freq_emergencias_mes = freq_emergencias_mes.loc[\n",
    "        freq_emergencias_mes[('AUTORIZACION', 'nunique')] > 2\n",
    "    ]\n",
    "    \n",
    "    autorizaciones_emergencias_excedida = freq_emergencias_mes[('AUTORIZACION', 'unique')].unique()\n",
    "    \n",
    "    # Crear la columna \"LIM_EMERGENCIAS_EXCEDIDO_MES\" usando np.where\n",
    "    df['LIM_EMERGENCIAS_EXCEDIDO_MES'] = np.where(\n",
    "        (df['ES_EMERGENCIA'] == 1) & (df['AUTORIZACION'].isin(autorizaciones_emergencias_excedida)), 1, 0\n",
    "    )\n",
    "    \n",
    "\n",
    "\n",
    "limite_emergencias_excedido(df)\n",
    "print(df.shape)"
   ]
  },
  {
   "cell_type": "code",
   "execution_count": null,
   "metadata": {},
   "outputs": [],
   "source": [
    "df_test.loc[df_test['AUTORIZACION']==42316928].head(1)"
   ]
  },
  {
   "cell_type": "code",
   "execution_count": 88,
   "metadata": {},
   "outputs": [],
   "source": [
    "# Consultas que no generan medicamento pt1\n",
    "\n",
    "def df_autorizaciones_cond_consulta(consolidated_df):\n",
    "    # Filtrar las filas con MEDICO_ESPECIALISTA == 1 y ES_CONSULTA == 1\n",
    "    consultas_df = consolidated_df[(consolidated_df['MEDICO_ESPECIALISTA'] == 1) & (consolidated_df['ES_CONSULTA'] == 1)]\n",
    "    \n",
    "    # Obtener los valores únicos de la columna 'AUTORIZACION' y convertirlos en un conjunto (set)\n",
    "    autorizaciones_cond_consulta = set(consultas_df['AUTORIZACION'].unique())\n",
    "    \n",
    "    return autorizaciones_cond_consulta\n",
    "\n",
    "# Llamar a la función y guardar el resultado en la variable autorizaciones_cond_consulta\n",
    "autorizaciones_cond_consulta = df_autorizaciones_cond_consulta(df)\n",
    "\n"
   ]
  },
  {
   "cell_type": "code",
   "execution_count": null,
   "metadata": {},
   "outputs": [],
   "source": [
    "print(len(autorizaciones_cond_consulta))"
   ]
  },
  {
   "cell_type": "code",
   "execution_count": 89,
   "metadata": {},
   "outputs": [],
   "source": [
    "# Consultas que no generan medicamento pt2\n",
    "\n",
    "def generar_nuevas_consultas(consolidated_df, autorizaciones):\n",
    "    # Filtrar el DataFrame utilizando las autorizaciones del conjunto (set) proporcionado\n",
    "    consultas_atipicas_df = consolidated_df[consolidated_df['AUTORIZACION'].isin(autorizaciones)]\n",
    "    consultas_sample = consultas_atipicas_df[['CLIENTEAFILIADOBENEFICIARIO', 'FECHASERVICIO']].dropna()\n",
    "\n",
    "    # Ajustar la fecha en 16 días\n",
    "    consultas_sample['FECHASERVICIO'] = consultas_sample['FECHASERVICIO'] - pd.offsets.Day(16)\n",
    "\n",
    "    records = []\n",
    "\n",
    "    # Iterar sobre las filas de consultas_sample y generar un DataFrame con nuevas fechas\n",
    "    for _, row in consultas_sample.iterrows():\n",
    "        tmp_usuario = row['CLIENTEAFILIADOBENEFICIARIO']\n",
    "        tmp_fecha_inicio = row['FECHASERVICIO']\n",
    "\n",
    "        tmp_df = pd.DataFrame()\n",
    "        tmp_df['FECHASERVICIO'] = pd.date_range(tmp_fecha_inicio, periods=32, freq='D')\n",
    "        tmp_df['CLIENTEAFILIADOBENEFICIARIO'] = tmp_usuario\n",
    "\n",
    "        records += tmp_df.to_records(index=False).tolist()\n",
    "\n",
    "    # Crear un nuevo DataFrame con las nuevas fechas de consulta\n",
    "    new_consultas_dates_df = pd.DataFrame(\n",
    "        records,\n",
    "        columns=['FECHASERVICIO', 'CLIENTEAFILIADOBENEFICIARIO'],\n",
    "    )\n",
    "\n",
    "    # Convertir la columna 'FECHASERVICIO' al tipo de dato datetime\n",
    "    new_consultas_dates_df['FECHASERVICIO'] = pd.to_datetime(\n",
    "        new_consultas_dates_df['FECHASERVICIO'],\n",
    "        errors='coerce'\n",
    "    )\n",
    "\n",
    "    return new_consultas_dates_df\n",
    "\n",
    "# Llamar a la función y guardar el resultado en la variable new_consultas_dates_df\n",
    "new_consultas_dates_df = generar_nuevas_consultas(df, autorizaciones_cond_consulta)\n"
   ]
  },
  {
   "cell_type": "code",
   "execution_count": 90,
   "metadata": {},
   "outputs": [
    {
     "name": "stdout",
     "output_type": "stream",
     "text": [
      "(17614, 59)\n"
     ]
    }
   ],
   "source": [
    "# Consultas que no generan medicamento pt3\n",
    "\n",
    "def agregar_columna_consultas_sin_lab_med(consolidated_df, new_consultas_dates_df):\n",
    "    # Combinar consolidated_df y new_consultas_dates_df usando CLIENTEAFILIADOBENEFICIARIO y FECHASERVICIO\n",
    "    consultas_tracking_df = consolidated_df.merge(\n",
    "        new_consultas_dates_df,\n",
    "        on=['CLIENTEAFILIADOBENEFICIARIO', 'FECHASERVICIO']\n",
    "    )\n",
    "\n",
    "    # Agrupar por cliente y contar el número de prestaciones\n",
    "    sample = consultas_tracking_df.groupby(['CLIENTEAFILIADOBENEFICIARIO']).agg(\n",
    "        NUM_PRESTACIONES=pd.NamedAgg(column='PRESTACION', aggfunc='count'),\n",
    "    )\n",
    "\n",
    "    # Filtrar los usuarios con una única prestación\n",
    "    usuarios = sample[sample['NUM_PRESTACIONES'] == 1].index.tolist()\n",
    "\n",
    "    # Filtrar el DataFrame por los usuarios y excluir las filas con la especialidad 'PSICOLOGIA'\n",
    "    sample_consultas_tracking_df = consultas_tracking_df[\n",
    "        consultas_tracking_df['CLIENTEAFILIADOBENEFICIARIO'].isin(usuarios)\n",
    "    ]\n",
    "    sample_consultas_tracking_df = sample_consultas_tracking_df[\n",
    "        sample_consultas_tracking_df['ESPECIALIDAD'] != 'PSICOLOGIA'\n",
    "    ]\n",
    "\n",
    "    # Obtener las autorizaciones únicas\n",
    "    autorizaciones_cond_consulta_sin_lab_meds = sample_consultas_tracking_df['AUTORIZACION'].unique()\n",
    "\n",
    "    # Agregar la columna 'CONSULTAS_SIN_LAB_MED' al DataFrame original\n",
    "    consolidated_df['CONSULTAS_SIN_LAB_MED'] = (\n",
    "        consolidated_df['AUTORIZACION'].isin(autorizaciones_cond_consulta_sin_lab_meds)\n",
    "    ) * 1\n",
    "\n",
    "# Llamar a la función para aplicar los cambios en el DataFrame original\n",
    "agregar_columna_consultas_sin_lab_med(df, new_consultas_dates_df)\n",
    "print(df.shape)"
   ]
  },
  {
   "cell_type": "code",
   "execution_count": null,
   "metadata": {},
   "outputs": [],
   "source": [
    "df_test.loc[df_test['AUTORIZACION']==42316928].head(1)"
   ]
  },
  {
   "cell_type": "code",
   "execution_count": null,
   "metadata": {},
   "outputs": [],
   "source": []
  },
  {
   "cell_type": "code",
   "execution_count": 91,
   "metadata": {},
   "outputs": [],
   "source": [
    "# Distribución de medicamentos > 20% pt1\n",
    "\n",
    "def calcular_porcentaje_tipo_prestacion(consolidated_df):\n",
    "    # Asignar el valor de la columna AUTORIZACION a AUTORIZACIONRELACIONADA donde AUTORIZACION está en autorizaciones_padres_list\n",
    "    autorizaciones_padres_list = consolidated_df['AUTORIZACIONRELACIONADA'].dropna().unique().tolist()\n",
    "    consolidated_df.loc[consolidated_df['AUTORIZACION'].isin(autorizaciones_padres_list), 'AUTORIZACIONRELACIONADA'] = consolidated_df['AUTORIZACION']\n",
    "\n",
    "    # Agrupar y calcular las métricas para cada grupo\n",
    "    eventos_agrupados_df = consolidated_df.groupby(\n",
    "        ['AUTORIZACIONRELACIONADA', 'TIPOPRESTACION']\n",
    "    ).agg(\n",
    "        NUM_AUTORIZACIONES=pd.NamedAgg(column='AUTORIZACION', aggfunc='nunique'),\n",
    "        NUM_PROCEDIMIENTOS=pd.NamedAgg(column='PRESTACION', aggfunc='count'),\n",
    "        MONTO_RECLAMADO=pd.NamedAgg(column='MONTORECLAMADO', aggfunc='sum'),\n",
    "        MONTO_AUTORIZADO=pd.NamedAgg(column='MONTOAUTORIZADO', aggfunc='sum'),\n",
    "    ).sort_values(by=['MONTO_RECLAMADO'], ascending=False)\n",
    "\n",
    "    # Crear una tabla dinámica con MONTO_RECLAMADO como valor\n",
    "    eventos_agrupados_pivot_df = eventos_agrupados_df.pivot_table(\n",
    "        values=['MONTO_RECLAMADO'],\n",
    "        columns=['TIPOPRESTACION'],\n",
    "        index='AUTORIZACIONRELACIONADA'\n",
    "    ).fillna(0)\n",
    "\n",
    "    # Calcular el total de MONTO_RECLAMADO para cada AUTORIZACIONRELACIONADA\n",
    "    eventos_agrupados_pivot_df['TOTAL'] = eventos_agrupados_pivot_df.sum(axis='columns')\n",
    "\n",
    "    # Calcular el porcentaje de MONTO_RECLAMADO por TIPOPRESTACION\n",
    "    eventos_agrupados_pivot_percent_df = (eventos_agrupados_pivot_df.T / eventos_agrupados_pivot_df['TOTAL'].T).T\n",
    "    eventos_agrupados_pivot_percent_df.columns = eventos_agrupados_pivot_percent_df.columns.droplevel(0)\n",
    "    eventos_agrupados_pivot_percent_df.reset_index(inplace=True)\n",
    "\n",
    "    return eventos_agrupados_pivot_percent_df\n",
    "\n",
    "# Llamar a la función y guardar el resultado en la variable eventos_agrupados_pivot_percent_df\n",
    "eventos_agrupados_pivot_percent_df = calcular_porcentaje_tipo_prestacion(df)\n",
    "\n"
   ]
  },
  {
   "cell_type": "code",
   "execution_count": null,
   "metadata": {},
   "outputs": [],
   "source": [
    "eventos_agrupados_pivot_percent_df.shape"
   ]
  },
  {
   "cell_type": "code",
   "execution_count": null,
   "metadata": {},
   "outputs": [],
   "source": [
    "eventos_agrupados_pivot_percent_df.head()"
   ]
  },
  {
   "cell_type": "code",
   "execution_count": null,
   "metadata": {},
   "outputs": [],
   "source": [
    "dftest.shape"
   ]
  },
  {
   "cell_type": "code",
   "execution_count": 92,
   "metadata": {},
   "outputs": [
    {
     "name": "stdout",
     "output_type": "stream",
     "text": [
      "(17614, 60)\n"
     ]
    }
   ],
   "source": [
    "# Distribución de medicamentos > 20% pt2\n",
    "\n",
    "def calcular_lim_dist_meds_excedido(df, eventos_agrupados_pivot_percent_df):\n",
    "    # Preparar las variables para el proceso de \"melt\"\n",
    "    value_vars = eventos_agrupados_pivot_percent_df.columns.tolist()\n",
    "    id_vars = value_vars.pop(0)\n",
    "    \n",
    "    # Aplicar el proceso de \"melt\" en el DataFrame\n",
    "    eventos_melt = pd.melt(\n",
    "        eventos_agrupados_pivot_percent_df,\n",
    "        id_vars=id_vars,\n",
    "        value_vars=value_vars,\n",
    "    )\n",
    "\n",
    "    # Renombrar y filtrar el DataFrame\n",
    "    eventos_melt = eventos_melt.rename(columns={'value': '% Total Monto del Evento'})\n",
    "    eventos_melt = eventos_melt[eventos_melt['TIPOPRESTACION'] != '']\n",
    "    eventos_melt = eventos_melt[eventos_melt['% Total Monto del Evento'] > 0]\n",
    "    \n",
    "    # Aplicar la máscara y obtener los outliers\n",
    "    eventos_melt_mask = (eventos_melt[\"% Total Monto del Evento\"] > 0.2) & (eventos_melt[\"TIPOPRESTACION\"].str.contains('MEDICIMENTOS'))\n",
    "    eventos_melt_outliers = eventos_melt[eventos_melt_mask]\n",
    "\n",
    "    # Obtener las autorizaciones únicas\n",
    "    autorizaciones_padres_dist_meds = eventos_melt_outliers.AUTORIZACIONRELACIONADA.unique()\n",
    "\n",
    "    # Calcular la columna LIM_DIST_MEDS_EXCEDIDO y agregarla al DataFrame\n",
    "    df['LIM_DIST_MEDS_EXCEDIDO'] = (df['AUTORIZACIONRELACIONADA'].isin(autorizaciones_padres_dist_meds)) * 1\n",
    "    \n",
    "    return df\n",
    "\n",
    "# Llamar a la función y actualizar el DataFrame consolidated_df\n",
    "calcular_lim_dist_meds_excedido(df, eventos_agrupados_pivot_percent_df)\n",
    "print(df.shape)"
   ]
  },
  {
   "cell_type": "code",
   "execution_count": null,
   "metadata": {},
   "outputs": [],
   "source": [
    "df_test['LIM_DIST_MEDS_EXCEDIDO'].value_counts()"
   ]
  },
  {
   "cell_type": "code",
   "execution_count": null,
   "metadata": {},
   "outputs": [],
   "source": [
    "dftest.shape"
   ]
  },
  {
   "cell_type": "code",
   "execution_count": 93,
   "metadata": {},
   "outputs": [],
   "source": [
    "# Montos Atípicos\n",
    "\n",
    "\n",
    "def calcular_atipicos(df: pd.DataFrame, columnas: list) -> pd.DataFrame:\n",
    "    for columna in columnas:\n",
    "        x_df = df[columna]\n",
    "        \n",
    "        # Calcular el primer cuartil, tercer cuartil e IQR (rango intercuartil)\n",
    "        Q1 = x_df.quantile(q=.25)\n",
    "        Q3 = x_df.quantile(q=.75)\n",
    "        IQR = Q3 - Q1\n",
    "\n",
    "        # Calcular la columna ATIPICO para cada columna en la lista y agregarla al DataFrame\n",
    "        df['ATIPICO_' + columna] = ((x_df < (Q1 - 2 * IQR)) | (x_df > (Q3 + 2 * IQR))) * 1\n",
    "\n",
    "\n",
    "\n",
    "# Columnas para las cuales calcular valores atípicos\n",
    "montos = [\n",
    "    'MONTOAJUSTADO', \n",
    "    'MONTOUSUARIO',\n",
    "    'MONTOASEGURADORA',\n",
    "    'MONTOEXCEPCION',\n",
    "    'MONTOCONCESION',\n",
    "    'MONTOAUTORIZADO',\n",
    "    'MONTOAJUSTADO_ABS',\n",
    "    'MONTOCONCESION_ABS',\n",
    "    'MONTO_USUARIO_PER_CAPITA'\n",
    "]\n",
    "\n",
    "# Llamar a la función y actualizar el DataFrame consolidated_df\n",
    "calcular_atipicos(df, montos)\n"
   ]
  },
  {
   "cell_type": "code",
   "execution_count": 94,
   "metadata": {},
   "outputs": [
    {
     "data": {
      "text/plain": [
       "(17614, 69)"
      ]
     },
     "execution_count": 94,
     "metadata": {},
     "output_type": "execute_result"
    }
   ],
   "source": [
    "df.shape"
   ]
  },
  {
   "cell_type": "code",
   "execution_count": 95,
   "metadata": {},
   "outputs": [],
   "source": [
    "jorge = pd.read_parquet('../Datos/consolidated_df_jorge.parquet')"
   ]
  },
  {
   "cell_type": "code",
   "execution_count": 96,
   "metadata": {},
   "outputs": [
    {
     "data": {
      "text/plain": [
       "(17614, 69)"
      ]
     },
     "execution_count": 96,
     "metadata": {},
     "output_type": "execute_result"
    }
   ],
   "source": [
    "jorge.shape"
   ]
  },
  {
   "cell_type": "code",
   "execution_count": 31,
   "metadata": {},
   "outputs": [
    {
     "name": "stdout",
     "output_type": "stream",
     "text": [
      "Los DF SON DIFERENTES!\n"
     ]
    }
   ],
   "source": [
    "if df.equals(consolidated_df):\n",
    "    print(\"Los DF son iguales\")\n",
    "else:\n",
    "    print(\"Los DF SON DIFERENTES!\")"
   ]
  },
  {
   "cell_type": "code",
   "execution_count": 97,
   "metadata": {},
   "outputs": [
    {
     "data": {
      "text/html": [
       "<div>\n",
       "<style scoped>\n",
       "    .dataframe tbody tr th:only-of-type {\n",
       "        vertical-align: middle;\n",
       "    }\n",
       "\n",
       "    .dataframe tbody tr th {\n",
       "        vertical-align: top;\n",
       "    }\n",
       "\n",
       "    .dataframe thead th {\n",
       "        text-align: right;\n",
       "    }\n",
       "</style>\n",
       "<table border=\"1\" class=\"dataframe\">\n",
       "  <thead>\n",
       "    <tr style=\"text-align: right;\">\n",
       "      <th></th>\n",
       "      <th>PRESTACION</th>\n",
       "      <th>CLIENTEAFILIADOBENEFICIARIO</th>\n",
       "      <th>AUTORIZACION</th>\n",
       "      <th>FECHASERVICIO</th>\n",
       "      <th>TIPOATENCION</th>\n",
       "      <th>PRESTADOR</th>\n",
       "      <th>TIPOPRESTADOR</th>\n",
       "      <th>ESPECIALIDAD</th>\n",
       "      <th>TIPOPRESTACION</th>\n",
       "      <th>SERVICIOSALUD</th>\n",
       "      <th>...</th>\n",
       "      <th>LIM_DIST_MEDS_EXCEDIDO</th>\n",
       "      <th>ATIPICO_MONTOAJUSTADO</th>\n",
       "      <th>ATIPICO_MONTOUSUARIO</th>\n",
       "      <th>ATIPICO_MONTOASEGURADORA</th>\n",
       "      <th>ATIPICO_MONTOEXCEPCION</th>\n",
       "      <th>ATIPICO_MONTOCONCESION</th>\n",
       "      <th>ATIPICO_MONTOAUTORIZADO</th>\n",
       "      <th>ATIPICO_MONTOAJUSTADO_ABS</th>\n",
       "      <th>ATIPICO_MONTOCONCESION_ABS</th>\n",
       "      <th>ATIPICO_MONTO_USUARIO_PER_CAPITA</th>\n",
       "    </tr>\n",
       "  </thead>\n",
       "  <tbody>\n",
       "    <tr>\n",
       "      <th>0</th>\n",
       "      <td>ACIDO URICO&lt; O:P&gt;</td>\n",
       "      <td>N-644925</td>\n",
       "      <td>47527093</td>\n",
       "      <td>2022-07-26</td>\n",
       "      <td>AMBULATORIA</td>\n",
       "      <td>LABORATORIO DE REFERENCIA, S. A.</td>\n",
       "      <td>PRESTADORES DE SERVICIOS DE APOYO DIAGNOSTICOS</td>\n",
       "      <td>LABORATORIO CLINICO DE HEMATOLOGIA Y BAN</td>\n",
       "      <td>QUIMICA SANGUINEA Y DE OTROS FLUIDOS CORPORALES</td>\n",
       "      <td>LABORATORIOS</td>\n",
       "      <td>...</td>\n",
       "      <td>0</td>\n",
       "      <td>0</td>\n",
       "      <td>0</td>\n",
       "      <td>0</td>\n",
       "      <td>0</td>\n",
       "      <td>0</td>\n",
       "      <td>0</td>\n",
       "      <td>0</td>\n",
       "      <td>0</td>\n",
       "      <td>0</td>\n",
       "    </tr>\n",
       "  </tbody>\n",
       "</table>\n",
       "<p>1 rows × 69 columns</p>\n",
       "</div>"
      ],
      "text/plain": [
       "          PRESTACION CLIENTEAFILIADOBENEFICIARIO  AUTORIZACION FECHASERVICIO  \\\n",
       "0  ACIDO URICO< O:P>                    N-644925      47527093    2022-07-26   \n",
       "\n",
       "  TIPOATENCION                         PRESTADOR  \\\n",
       "0  AMBULATORIA  LABORATORIO DE REFERENCIA, S. A.   \n",
       "\n",
       "                                    TIPOPRESTADOR  \\\n",
       "0  PRESTADORES DE SERVICIOS DE APOYO DIAGNOSTICOS   \n",
       "\n",
       "                               ESPECIALIDAD  \\\n",
       "0  LABORATORIO CLINICO DE HEMATOLOGIA Y BAN   \n",
       "\n",
       "                                    TIPOPRESTACION SERVICIOSALUD  ...  \\\n",
       "0  QUIMICA SANGUINEA Y DE OTROS FLUIDOS CORPORALES  LABORATORIOS  ...   \n",
       "\n",
       "   LIM_DIST_MEDS_EXCEDIDO  ATIPICO_MONTOAJUSTADO  ATIPICO_MONTOUSUARIO  \\\n",
       "0                       0                      0                     0   \n",
       "\n",
       "   ATIPICO_MONTOASEGURADORA  ATIPICO_MONTOEXCEPCION  ATIPICO_MONTOCONCESION  \\\n",
       "0                         0                       0                       0   \n",
       "\n",
       "   ATIPICO_MONTOAUTORIZADO ATIPICO_MONTOAJUSTADO_ABS  \\\n",
       "0                        0                         0   \n",
       "\n",
       "   ATIPICO_MONTOCONCESION_ABS  ATIPICO_MONTO_USUARIO_PER_CAPITA  \n",
       "0                           0                                 0  \n",
       "\n",
       "[1 rows x 69 columns]"
      ]
     },
     "execution_count": 97,
     "metadata": {},
     "output_type": "execute_result"
    }
   ],
   "source": [
    "jorge.head(1)"
   ]
  },
  {
   "cell_type": "code",
   "execution_count": 98,
   "metadata": {},
   "outputs": [
    {
     "data": {
      "text/html": [
       "<div>\n",
       "<style scoped>\n",
       "    .dataframe tbody tr th:only-of-type {\n",
       "        vertical-align: middle;\n",
       "    }\n",
       "\n",
       "    .dataframe tbody tr th {\n",
       "        vertical-align: top;\n",
       "    }\n",
       "\n",
       "    .dataframe thead th {\n",
       "        text-align: right;\n",
       "    }\n",
       "</style>\n",
       "<table border=\"1\" class=\"dataframe\">\n",
       "  <thead>\n",
       "    <tr style=\"text-align: right;\">\n",
       "      <th></th>\n",
       "      <th>CLIENTEAFILIADOBENEFICIARIO</th>\n",
       "      <th>AUTORIZACION</th>\n",
       "      <th>FECHASERVICIO</th>\n",
       "      <th>TIPOATENCION</th>\n",
       "      <th>PRESTADOR</th>\n",
       "      <th>TIPOPRESTADOR</th>\n",
       "      <th>ESPECIALIDAD</th>\n",
       "      <th>PRESTACION</th>\n",
       "      <th>TIPOPRESTACION</th>\n",
       "      <th>SERVICIOSALUD</th>\n",
       "      <th>...</th>\n",
       "      <th>LIM_DIST_MEDS_EXCEDIDO</th>\n",
       "      <th>ATIPICO_MONTOAJUSTADO</th>\n",
       "      <th>ATIPICO_MONTOUSUARIO</th>\n",
       "      <th>ATIPICO_MONTOASEGURADORA</th>\n",
       "      <th>ATIPICO_MONTOEXCEPCION</th>\n",
       "      <th>ATIPICO_MONTOCONCESION</th>\n",
       "      <th>ATIPICO_MONTOAUTORIZADO</th>\n",
       "      <th>ATIPICO_MONTOAJUSTADO_ABS</th>\n",
       "      <th>ATIPICO_MONTOCONCESION_ABS</th>\n",
       "      <th>ATIPICO_MONTO_USUARIO_PER_CAPITA</th>\n",
       "    </tr>\n",
       "  </thead>\n",
       "  <tbody>\n",
       "    <tr>\n",
       "      <th>0</th>\n",
       "      <td>N-1366372</td>\n",
       "      <td>46857903</td>\n",
       "      <td>2022-05-18</td>\n",
       "      <td>AMBULATORIA</td>\n",
       "      <td>CLINICA DR. PEROZO SRL</td>\n",
       "      <td>CLINICAS, HOSPITALES Y CENTROS MEDICOS</td>\n",
       "      <td>CENTROS MEDICOS</td>\n",
       "      <td>MATERIALES DESECHABLES</td>\n",
       "      <td>SERVICIOS ESPECIALES DE HOSPITALIZACION</td>\n",
       "      <td>EMERGENCIA TRIAGE III</td>\n",
       "      <td>...</td>\n",
       "      <td>0</td>\n",
       "      <td>0</td>\n",
       "      <td>0</td>\n",
       "      <td>0</td>\n",
       "      <td>0</td>\n",
       "      <td>0</td>\n",
       "      <td>0</td>\n",
       "      <td>0</td>\n",
       "      <td>0</td>\n",
       "      <td>0</td>\n",
       "    </tr>\n",
       "  </tbody>\n",
       "</table>\n",
       "<p>1 rows × 69 columns</p>\n",
       "</div>"
      ],
      "text/plain": [
       "  CLIENTEAFILIADOBENEFICIARIO  AUTORIZACION FECHASERVICIO TIPOATENCION  \\\n",
       "0                   N-1366372      46857903    2022-05-18  AMBULATORIA   \n",
       "\n",
       "                PRESTADOR                           TIPOPRESTADOR  \\\n",
       "0  CLINICA DR. PEROZO SRL  CLINICAS, HOSPITALES Y CENTROS MEDICOS   \n",
       "\n",
       "      ESPECIALIDAD              PRESTACION  \\\n",
       "0  CENTROS MEDICOS  MATERIALES DESECHABLES   \n",
       "\n",
       "                            TIPOPRESTACION          SERVICIOSALUD  ...  \\\n",
       "0  SERVICIOS ESPECIALES DE HOSPITALIZACION  EMERGENCIA TRIAGE III  ...   \n",
       "\n",
       "   LIM_DIST_MEDS_EXCEDIDO  ATIPICO_MONTOAJUSTADO  ATIPICO_MONTOUSUARIO  \\\n",
       "0                       0                      0                     0   \n",
       "\n",
       "   ATIPICO_MONTOASEGURADORA  ATIPICO_MONTOEXCEPCION  ATIPICO_MONTOCONCESION  \\\n",
       "0                         0                       0                       0   \n",
       "\n",
       "   ATIPICO_MONTOAUTORIZADO ATIPICO_MONTOAJUSTADO_ABS  \\\n",
       "0                        0                         0   \n",
       "\n",
       "   ATIPICO_MONTOCONCESION_ABS  ATIPICO_MONTO_USUARIO_PER_CAPITA  \n",
       "0                           0                                 0  \n",
       "\n",
       "[1 rows x 69 columns]"
      ]
     },
     "execution_count": 98,
     "metadata": {},
     "output_type": "execute_result"
    }
   ],
   "source": [
    "df.head(1)"
   ]
  },
  {
   "cell_type": "code",
   "execution_count": 99,
   "metadata": {},
   "outputs": [
    {
     "name": "stdout",
     "output_type": "stream",
     "text": [
      "Los nombres de columnas son iguales.\n"
     ]
    }
   ],
   "source": [
    "# Extraer los nombres de columnas de ambos DataFrames\n",
    "df_columns = df.columns.tolist()\n",
    "jorge_columns = jorge.columns.tolist()\n",
    "\n",
    "# Ordenar alfabéticamente los nombres de columnas\n",
    "df_columns.sort()\n",
    "jorge_columns.sort()\n",
    "\n",
    "# Comparar si los nombres de columnas son iguales\n",
    "if df_columns == jorge_columns:\n",
    "    print(\"Los nombres de columnas son iguales.\")\n",
    "else:\n",
    "    print(\"Los nombres de columnas son diferentes.\")\n"
   ]
  },
  {
   "cell_type": "code",
   "execution_count": 110,
   "metadata": {},
   "outputs": [
    {
     "data": {
      "text/plain": [
       "['ATENCION_AMBULATORIA',\n",
       " 'ATENCION_FARMACEUTICA',\n",
       " 'ATENCION_HOSPITALARIA',\n",
       " 'ATIPICO_MONTOAJUSTADO',\n",
       " 'ATIPICO_MONTOAJUSTADO_ABS',\n",
       " 'ATIPICO_MONTOASEGURADORA',\n",
       " 'ATIPICO_MONTOAUTORIZADO',\n",
       " 'ATIPICO_MONTOCONCESION',\n",
       " 'ATIPICO_MONTOCONCESION_ABS',\n",
       " 'ATIPICO_MONTOEXCEPCION',\n",
       " 'ATIPICO_MONTOUSUARIO',\n",
       " 'ATIPICO_MONTO_USUARIO_PER_CAPITA',\n",
       " 'AUTORIZACION',\n",
       " 'AUTORIZACIONRELACIONADA',\n",
       " 'CANTIDAD',\n",
       " 'CENTROS_MEDICOS',\n",
       " 'CENTRO_DIAGNOSTICO',\n",
       " 'CLIENTEAFILIADOBENEFICIARIO',\n",
       " 'CONSULTAS_SIN_LAB_MED',\n",
       " 'DIAS_HABITACION',\n",
       " 'DIFERENCIA_ABSOLUTA_MONTO_RECLAMADO_AUTORIZADO',\n",
       " 'DIFERENCIA_MONTO_RECLAMADO_AUTORIZADO',\n",
       " 'DIFERENCIA_MONTO_RECLAMADO_AUTORIZADO_USUARIO',\n",
       " 'DIFERENCIA_RECLAMADO_AUTORIZADO',\n",
       " 'ERROR_CONSECION',\n",
       " 'ERROR_MONTO_AUTORIZADO1',\n",
       " 'ERROR_MONTO_AUTORIZADO2',\n",
       " 'ERROR_MONTO_RECLAMADO',\n",
       " 'ESPECIALIDAD',\n",
       " 'ES_CONSULTA',\n",
       " 'ES_EMERGENCIA',\n",
       " 'FECHASERVICIO',\n",
       " 'FECHASERVICIO_FIN',\n",
       " 'FECHASERVICIO_MONTH',\n",
       " 'FECHASERVICIO_MONTH_NUMBER',\n",
       " 'LABORATORIO_CLINICO',\n",
       " 'LIM_2_DIAS_HABITACION_EXCEDIDO',\n",
       " 'LIM_6_DIAS_HABITACION_EXCEDIDO',\n",
       " 'LIM_CANTIDAD_PRESTACION_EXCEDIDO',\n",
       " 'LIM_CONSULTAS_EXCEDIDO_MES',\n",
       " 'LIM_DIST_MEDS_EXCEDIDO',\n",
       " 'LIM_EMERGENCIAS_EXCEDIDO_MES',\n",
       " 'MATERIALES_DESECHABLES',\n",
       " 'MEDICINAS_INTERNAMIENTO',\n",
       " 'MEDICO_ESPECIALISTA',\n",
       " 'MISMA_ESPECIALIDAD_DIFF_ESPECIALISTA',\n",
       " 'MONTOAJUSTADO',\n",
       " 'MONTOAJUSTADO_ABS',\n",
       " 'MONTOASEGURADORA',\n",
       " 'MONTOAUTORIZADO',\n",
       " 'MONTOCONCESION',\n",
       " 'MONTOCONCESION_ABS',\n",
       " 'MONTOCOPAGO',\n",
       " 'MONTOEXCEPCION',\n",
       " 'MONTORECLAMADO',\n",
       " 'MONTOUNITARIO',\n",
       " 'MONTOUSUARIO',\n",
       " 'MONTO_USUARIO_PER_CAPITA',\n",
       " 'OTRA_ESPECIALIDAD',\n",
       " 'OTROS_SERVICIOS',\n",
       " 'PRESTACION',\n",
       " 'PRESTADOR',\n",
       " 'SERVICIOSALUD',\n",
       " 'TIENE_MONTO_EXCEPCION',\n",
       " 'TIPOATENCION',\n",
       " 'TIPOPRESTACION',\n",
       " 'TIPOPRESTADOR',\n",
       " 'TIPO_ESPECIALIDAD',\n",
       " 'TipoInstitucionPrestador']"
      ]
     },
     "execution_count": 110,
     "metadata": {},
     "output_type": "execute_result"
    }
   ],
   "source": [
    "df_columns"
   ]
  },
  {
   "cell_type": "code",
   "execution_count": 109,
   "metadata": {},
   "outputs": [
    {
     "data": {
      "text/html": [
       "<div>\n",
       "<style scoped>\n",
       "    .dataframe tbody tr th:only-of-type {\n",
       "        vertical-align: middle;\n",
       "    }\n",
       "\n",
       "    .dataframe tbody tr th {\n",
       "        vertical-align: top;\n",
       "    }\n",
       "\n",
       "    .dataframe thead th {\n",
       "        text-align: right;\n",
       "    }\n",
       "</style>\n",
       "<table border=\"1\" class=\"dataframe\">\n",
       "  <thead>\n",
       "    <tr style=\"text-align: right;\">\n",
       "      <th></th>\n",
       "      <th>PRESTACION</th>\n",
       "      <th>CLIENTEAFILIADOBENEFICIARIO</th>\n",
       "      <th>AUTORIZACION</th>\n",
       "      <th>FECHASERVICIO</th>\n",
       "      <th>TIPOATENCION</th>\n",
       "      <th>PRESTADOR</th>\n",
       "      <th>TIPOPRESTADOR</th>\n",
       "      <th>ESPECIALIDAD</th>\n",
       "      <th>TIPOPRESTACION</th>\n",
       "      <th>SERVICIOSALUD</th>\n",
       "      <th>...</th>\n",
       "      <th>LIM_DIST_MEDS_EXCEDIDO</th>\n",
       "      <th>ATIPICO_MONTOAJUSTADO</th>\n",
       "      <th>ATIPICO_MONTOUSUARIO</th>\n",
       "      <th>ATIPICO_MONTOASEGURADORA</th>\n",
       "      <th>ATIPICO_MONTOEXCEPCION</th>\n",
       "      <th>ATIPICO_MONTOCONCESION</th>\n",
       "      <th>ATIPICO_MONTOAUTORIZADO</th>\n",
       "      <th>ATIPICO_MONTOAJUSTADO_ABS</th>\n",
       "      <th>ATIPICO_MONTOCONCESION_ABS</th>\n",
       "      <th>ATIPICO_MONTO_USUARIO_PER_CAPITA</th>\n",
       "    </tr>\n",
       "  </thead>\n",
       "  <tbody>\n",
       "    <tr>\n",
       "      <th>0</th>\n",
       "      <td>ACIDO URICO&lt; O:P&gt;</td>\n",
       "      <td>N-644925</td>\n",
       "      <td>47527093</td>\n",
       "      <td>2022-07-26</td>\n",
       "      <td>AMBULATORIA</td>\n",
       "      <td>LABORATORIO DE REFERENCIA, S. A.</td>\n",
       "      <td>PRESTADORES DE SERVICIOS DE APOYO DIAGNOSTICOS</td>\n",
       "      <td>LABORATORIO CLINICO DE HEMATOLOGIA Y BAN</td>\n",
       "      <td>QUIMICA SANGUINEA Y DE OTROS FLUIDOS CORPORALES</td>\n",
       "      <td>LABORATORIOS</td>\n",
       "      <td>...</td>\n",
       "      <td>0</td>\n",
       "      <td>0</td>\n",
       "      <td>0</td>\n",
       "      <td>0</td>\n",
       "      <td>0</td>\n",
       "      <td>0</td>\n",
       "      <td>0</td>\n",
       "      <td>0</td>\n",
       "      <td>0</td>\n",
       "      <td>0</td>\n",
       "    </tr>\n",
       "    <tr>\n",
       "      <th>1</th>\n",
       "      <td>ACIDO URICO&lt; O:P&gt;</td>\n",
       "      <td>N-796869</td>\n",
       "      <td>47570405</td>\n",
       "      <td>2022-08-01</td>\n",
       "      <td>AMBULATORIA</td>\n",
       "      <td>LABORATORIO DE REFERENCIA, S. A.</td>\n",
       "      <td>PRESTADORES DE SERVICIOS DE APOYO DIAGNOSTICOS</td>\n",
       "      <td>LABORATORIO CLINICO DE HEMATOLOGIA Y BAN</td>\n",
       "      <td>QUIMICA SANGUINEA Y DE OTROS FLUIDOS CORPORALES</td>\n",
       "      <td>LABORATORIOS</td>\n",
       "      <td>...</td>\n",
       "      <td>0</td>\n",
       "      <td>0</td>\n",
       "      <td>0</td>\n",
       "      <td>0</td>\n",
       "      <td>0</td>\n",
       "      <td>0</td>\n",
       "      <td>0</td>\n",
       "      <td>0</td>\n",
       "      <td>0</td>\n",
       "      <td>0</td>\n",
       "    </tr>\n",
       "    <tr>\n",
       "      <th>2</th>\n",
       "      <td>ACIDO URICO&lt; O:P&gt;</td>\n",
       "      <td>N-239664</td>\n",
       "      <td>46076598</td>\n",
       "      <td>2022-02-24</td>\n",
       "      <td>AMBULATORIA</td>\n",
       "      <td>LABORATORIO DE REFERENCIA, S. A.</td>\n",
       "      <td>PRESTADORES DE SERVICIOS DE APOYO DIAGNOSTICOS</td>\n",
       "      <td>LABORATORIO CLINICO DE HEMATOLOGIA Y BAN</td>\n",
       "      <td>QUIMICA SANGUINEA Y DE OTROS FLUIDOS CORPORALES</td>\n",
       "      <td>LABORATORIOS</td>\n",
       "      <td>...</td>\n",
       "      <td>0</td>\n",
       "      <td>0</td>\n",
       "      <td>0</td>\n",
       "      <td>0</td>\n",
       "      <td>0</td>\n",
       "      <td>0</td>\n",
       "      <td>0</td>\n",
       "      <td>0</td>\n",
       "      <td>0</td>\n",
       "      <td>0</td>\n",
       "    </tr>\n",
       "    <tr>\n",
       "      <th>3</th>\n",
       "      <td>ACIDO URICO&lt; O:P&gt;</td>\n",
       "      <td>N-525689</td>\n",
       "      <td>42899323</td>\n",
       "      <td>2021-03-06</td>\n",
       "      <td>AMBULATORIA</td>\n",
       "      <td>LABORATORIO DE REFERENCIA, S. A.</td>\n",
       "      <td>PRESTADORES DE SERVICIOS DE APOYO DIAGNOSTICOS</td>\n",
       "      <td>LABORATORIO CLINICO DE HEMATOLOGIA Y BAN</td>\n",
       "      <td>QUIMICA SANGUINEA Y DE OTROS FLUIDOS CORPORALES</td>\n",
       "      <td>LABORATORIOS</td>\n",
       "      <td>...</td>\n",
       "      <td>0</td>\n",
       "      <td>0</td>\n",
       "      <td>0</td>\n",
       "      <td>0</td>\n",
       "      <td>0</td>\n",
       "      <td>0</td>\n",
       "      <td>0</td>\n",
       "      <td>0</td>\n",
       "      <td>0</td>\n",
       "      <td>0</td>\n",
       "    </tr>\n",
       "    <tr>\n",
       "      <th>4</th>\n",
       "      <td>ACIDO URICO&lt; O:P&gt;</td>\n",
       "      <td>N-644925</td>\n",
       "      <td>45793382</td>\n",
       "      <td>2022-01-26</td>\n",
       "      <td>AMBULATORIA</td>\n",
       "      <td>LABORATORIO DE REFERENCIA, S. A.</td>\n",
       "      <td>PRESTADORES DE SERVICIOS DE APOYO DIAGNOSTICOS</td>\n",
       "      <td>LABORATORIO CLINICO DE HEMATOLOGIA Y BAN</td>\n",
       "      <td>QUIMICA SANGUINEA Y DE OTROS FLUIDOS CORPORALES</td>\n",
       "      <td>LABORATORIOS</td>\n",
       "      <td>...</td>\n",
       "      <td>0</td>\n",
       "      <td>0</td>\n",
       "      <td>0</td>\n",
       "      <td>0</td>\n",
       "      <td>0</td>\n",
       "      <td>0</td>\n",
       "      <td>0</td>\n",
       "      <td>0</td>\n",
       "      <td>0</td>\n",
       "      <td>0</td>\n",
       "    </tr>\n",
       "    <tr>\n",
       "      <th>...</th>\n",
       "      <td>...</td>\n",
       "      <td>...</td>\n",
       "      <td>...</td>\n",
       "      <td>...</td>\n",
       "      <td>...</td>\n",
       "      <td>...</td>\n",
       "      <td>...</td>\n",
       "      <td>...</td>\n",
       "      <td>...</td>\n",
       "      <td>...</td>\n",
       "      <td>...</td>\n",
       "      <td>...</td>\n",
       "      <td>...</td>\n",
       "      <td>...</td>\n",
       "      <td>...</td>\n",
       "      <td>...</td>\n",
       "      <td>...</td>\n",
       "      <td>...</td>\n",
       "      <td>...</td>\n",
       "      <td>...</td>\n",
       "      <td>...</td>\n",
       "    </tr>\n",
       "    <tr>\n",
       "      <th>17609</th>\n",
       "      <td>VITAMINA B 12</td>\n",
       "      <td>N-241627</td>\n",
       "      <td>43868718</td>\n",
       "      <td>2021-06-23</td>\n",
       "      <td>AMBULATORIA</td>\n",
       "      <td>LABORATORIO DE REFERENCIA, S. A.</td>\n",
       "      <td>PRESTADORES DE SERVICIOS DE APOYO DIAGNOSTICOS</td>\n",
       "      <td>LABORATORIO CLINICO DE HEMATOLOGIA Y BAN</td>\n",
       "      <td>QUIMICA SANGUINEA Y DE OTROS FLUIDOS CORPORALES</td>\n",
       "      <td>LABORATORIOS</td>\n",
       "      <td>...</td>\n",
       "      <td>0</td>\n",
       "      <td>0</td>\n",
       "      <td>0</td>\n",
       "      <td>0</td>\n",
       "      <td>0</td>\n",
       "      <td>0</td>\n",
       "      <td>0</td>\n",
       "      <td>0</td>\n",
       "      <td>0</td>\n",
       "      <td>0</td>\n",
       "    </tr>\n",
       "    <tr>\n",
       "      <th>17610</th>\n",
       "      <td>VITAMINA B 12</td>\n",
       "      <td>N-525689</td>\n",
       "      <td>42899323</td>\n",
       "      <td>2021-03-06</td>\n",
       "      <td>AMBULATORIA</td>\n",
       "      <td>LABORATORIO DE REFERENCIA, S. A.</td>\n",
       "      <td>PRESTADORES DE SERVICIOS DE APOYO DIAGNOSTICOS</td>\n",
       "      <td>LABORATORIO CLINICO DE HEMATOLOGIA Y BAN</td>\n",
       "      <td>QUIMICA SANGUINEA Y DE OTROS FLUIDOS CORPORALES</td>\n",
       "      <td>LABORATORIOS</td>\n",
       "      <td>...</td>\n",
       "      <td>0</td>\n",
       "      <td>0</td>\n",
       "      <td>0</td>\n",
       "      <td>0</td>\n",
       "      <td>0</td>\n",
       "      <td>0</td>\n",
       "      <td>0</td>\n",
       "      <td>0</td>\n",
       "      <td>0</td>\n",
       "      <td>0</td>\n",
       "    </tr>\n",
       "    <tr>\n",
       "      <th>17611</th>\n",
       "      <td>VITAMINA D 25 DIHIDROXI</td>\n",
       "      <td>N-644925</td>\n",
       "      <td>47527093</td>\n",
       "      <td>2022-07-26</td>\n",
       "      <td>AMBULATORIA</td>\n",
       "      <td>LABORATORIO DE REFERENCIA, S. A.</td>\n",
       "      <td>PRESTADORES DE SERVICIOS DE APOYO DIAGNOSTICOS</td>\n",
       "      <td>LABORATORIO CLINICO DE HEMATOLOGIA Y BAN</td>\n",
       "      <td>QUIMICA SANGUINEA Y DE OTROS FLUIDOS CORPORALES</td>\n",
       "      <td>LABORATORIOS</td>\n",
       "      <td>...</td>\n",
       "      <td>0</td>\n",
       "      <td>0</td>\n",
       "      <td>0</td>\n",
       "      <td>0</td>\n",
       "      <td>0</td>\n",
       "      <td>0</td>\n",
       "      <td>0</td>\n",
       "      <td>0</td>\n",
       "      <td>0</td>\n",
       "      <td>0</td>\n",
       "    </tr>\n",
       "    <tr>\n",
       "      <th>17612</th>\n",
       "      <td>VITAMINA D 25 DIHIDROXI</td>\n",
       "      <td>N-241627</td>\n",
       "      <td>43868718</td>\n",
       "      <td>2021-06-23</td>\n",
       "      <td>AMBULATORIA</td>\n",
       "      <td>LABORATORIO DE REFERENCIA, S. A.</td>\n",
       "      <td>PRESTADORES DE SERVICIOS DE APOYO DIAGNOSTICOS</td>\n",
       "      <td>LABORATORIO CLINICO DE HEMATOLOGIA Y BAN</td>\n",
       "      <td>QUIMICA SANGUINEA Y DE OTROS FLUIDOS CORPORALES</td>\n",
       "      <td>LABORATORIOS</td>\n",
       "      <td>...</td>\n",
       "      <td>0</td>\n",
       "      <td>0</td>\n",
       "      <td>0</td>\n",
       "      <td>0</td>\n",
       "      <td>0</td>\n",
       "      <td>0</td>\n",
       "      <td>0</td>\n",
       "      <td>0</td>\n",
       "      <td>0</td>\n",
       "      <td>0</td>\n",
       "    </tr>\n",
       "    <tr>\n",
       "      <th>17613</th>\n",
       "      <td>VITAMINA D 25 DIHIDROXI</td>\n",
       "      <td>N-525689</td>\n",
       "      <td>42899323</td>\n",
       "      <td>2021-03-06</td>\n",
       "      <td>AMBULATORIA</td>\n",
       "      <td>LABORATORIO DE REFERENCIA, S. A.</td>\n",
       "      <td>PRESTADORES DE SERVICIOS DE APOYO DIAGNOSTICOS</td>\n",
       "      <td>LABORATORIO CLINICO DE HEMATOLOGIA Y BAN</td>\n",
       "      <td>QUIMICA SANGUINEA Y DE OTROS FLUIDOS CORPORALES</td>\n",
       "      <td>LABORATORIOS</td>\n",
       "      <td>...</td>\n",
       "      <td>0</td>\n",
       "      <td>0</td>\n",
       "      <td>0</td>\n",
       "      <td>0</td>\n",
       "      <td>0</td>\n",
       "      <td>0</td>\n",
       "      <td>0</td>\n",
       "      <td>0</td>\n",
       "      <td>0</td>\n",
       "      <td>0</td>\n",
       "    </tr>\n",
       "  </tbody>\n",
       "</table>\n",
       "<p>17614 rows × 69 columns</p>\n",
       "</div>"
      ],
      "text/plain": [
       "                    PRESTACION CLIENTEAFILIADOBENEFICIARIO  AUTORIZACION  \\\n",
       "0            ACIDO URICO< O:P>                    N-644925      47527093   \n",
       "1            ACIDO URICO< O:P>                    N-796869      47570405   \n",
       "2            ACIDO URICO< O:P>                    N-239664      46076598   \n",
       "3            ACIDO URICO< O:P>                    N-525689      42899323   \n",
       "4            ACIDO URICO< O:P>                    N-644925      45793382   \n",
       "...                        ...                         ...           ...   \n",
       "17609            VITAMINA B 12                    N-241627      43868718   \n",
       "17610            VITAMINA B 12                    N-525689      42899323   \n",
       "17611  VITAMINA D 25 DIHIDROXI                    N-644925      47527093   \n",
       "17612  VITAMINA D 25 DIHIDROXI                    N-241627      43868718   \n",
       "17613  VITAMINA D 25 DIHIDROXI                    N-525689      42899323   \n",
       "\n",
       "      FECHASERVICIO TIPOATENCION                         PRESTADOR  \\\n",
       "0        2022-07-26  AMBULATORIA  LABORATORIO DE REFERENCIA, S. A.   \n",
       "1        2022-08-01  AMBULATORIA  LABORATORIO DE REFERENCIA, S. A.   \n",
       "2        2022-02-24  AMBULATORIA  LABORATORIO DE REFERENCIA, S. A.   \n",
       "3        2021-03-06  AMBULATORIA  LABORATORIO DE REFERENCIA, S. A.   \n",
       "4        2022-01-26  AMBULATORIA  LABORATORIO DE REFERENCIA, S. A.   \n",
       "...             ...          ...                               ...   \n",
       "17609    2021-06-23  AMBULATORIA  LABORATORIO DE REFERENCIA, S. A.   \n",
       "17610    2021-03-06  AMBULATORIA  LABORATORIO DE REFERENCIA, S. A.   \n",
       "17611    2022-07-26  AMBULATORIA  LABORATORIO DE REFERENCIA, S. A.   \n",
       "17612    2021-06-23  AMBULATORIA  LABORATORIO DE REFERENCIA, S. A.   \n",
       "17613    2021-03-06  AMBULATORIA  LABORATORIO DE REFERENCIA, S. A.   \n",
       "\n",
       "                                        TIPOPRESTADOR  \\\n",
       "0      PRESTADORES DE SERVICIOS DE APOYO DIAGNOSTICOS   \n",
       "1      PRESTADORES DE SERVICIOS DE APOYO DIAGNOSTICOS   \n",
       "2      PRESTADORES DE SERVICIOS DE APOYO DIAGNOSTICOS   \n",
       "3      PRESTADORES DE SERVICIOS DE APOYO DIAGNOSTICOS   \n",
       "4      PRESTADORES DE SERVICIOS DE APOYO DIAGNOSTICOS   \n",
       "...                                               ...   \n",
       "17609  PRESTADORES DE SERVICIOS DE APOYO DIAGNOSTICOS   \n",
       "17610  PRESTADORES DE SERVICIOS DE APOYO DIAGNOSTICOS   \n",
       "17611  PRESTADORES DE SERVICIOS DE APOYO DIAGNOSTICOS   \n",
       "17612  PRESTADORES DE SERVICIOS DE APOYO DIAGNOSTICOS   \n",
       "17613  PRESTADORES DE SERVICIOS DE APOYO DIAGNOSTICOS   \n",
       "\n",
       "                                   ESPECIALIDAD  \\\n",
       "0      LABORATORIO CLINICO DE HEMATOLOGIA Y BAN   \n",
       "1      LABORATORIO CLINICO DE HEMATOLOGIA Y BAN   \n",
       "2      LABORATORIO CLINICO DE HEMATOLOGIA Y BAN   \n",
       "3      LABORATORIO CLINICO DE HEMATOLOGIA Y BAN   \n",
       "4      LABORATORIO CLINICO DE HEMATOLOGIA Y BAN   \n",
       "...                                         ...   \n",
       "17609  LABORATORIO CLINICO DE HEMATOLOGIA Y BAN   \n",
       "17610  LABORATORIO CLINICO DE HEMATOLOGIA Y BAN   \n",
       "17611  LABORATORIO CLINICO DE HEMATOLOGIA Y BAN   \n",
       "17612  LABORATORIO CLINICO DE HEMATOLOGIA Y BAN   \n",
       "17613  LABORATORIO CLINICO DE HEMATOLOGIA Y BAN   \n",
       "\n",
       "                                        TIPOPRESTACION SERVICIOSALUD  ...  \\\n",
       "0      QUIMICA SANGUINEA Y DE OTROS FLUIDOS CORPORALES  LABORATORIOS  ...   \n",
       "1      QUIMICA SANGUINEA Y DE OTROS FLUIDOS CORPORALES  LABORATORIOS  ...   \n",
       "2      QUIMICA SANGUINEA Y DE OTROS FLUIDOS CORPORALES  LABORATORIOS  ...   \n",
       "3      QUIMICA SANGUINEA Y DE OTROS FLUIDOS CORPORALES  LABORATORIOS  ...   \n",
       "4      QUIMICA SANGUINEA Y DE OTROS FLUIDOS CORPORALES  LABORATORIOS  ...   \n",
       "...                                                ...           ...  ...   \n",
       "17609  QUIMICA SANGUINEA Y DE OTROS FLUIDOS CORPORALES  LABORATORIOS  ...   \n",
       "17610  QUIMICA SANGUINEA Y DE OTROS FLUIDOS CORPORALES  LABORATORIOS  ...   \n",
       "17611  QUIMICA SANGUINEA Y DE OTROS FLUIDOS CORPORALES  LABORATORIOS  ...   \n",
       "17612  QUIMICA SANGUINEA Y DE OTROS FLUIDOS CORPORALES  LABORATORIOS  ...   \n",
       "17613  QUIMICA SANGUINEA Y DE OTROS FLUIDOS CORPORALES  LABORATORIOS  ...   \n",
       "\n",
       "       LIM_DIST_MEDS_EXCEDIDO  ATIPICO_MONTOAJUSTADO  ATIPICO_MONTOUSUARIO  \\\n",
       "0                           0                      0                     0   \n",
       "1                           0                      0                     0   \n",
       "2                           0                      0                     0   \n",
       "3                           0                      0                     0   \n",
       "4                           0                      0                     0   \n",
       "...                       ...                    ...                   ...   \n",
       "17609                       0                      0                     0   \n",
       "17610                       0                      0                     0   \n",
       "17611                       0                      0                     0   \n",
       "17612                       0                      0                     0   \n",
       "17613                       0                      0                     0   \n",
       "\n",
       "       ATIPICO_MONTOASEGURADORA  ATIPICO_MONTOEXCEPCION  \\\n",
       "0                             0                       0   \n",
       "1                             0                       0   \n",
       "2                             0                       0   \n",
       "3                             0                       0   \n",
       "4                             0                       0   \n",
       "...                         ...                     ...   \n",
       "17609                         0                       0   \n",
       "17610                         0                       0   \n",
       "17611                         0                       0   \n",
       "17612                         0                       0   \n",
       "17613                         0                       0   \n",
       "\n",
       "       ATIPICO_MONTOCONCESION  ATIPICO_MONTOAUTORIZADO  \\\n",
       "0                           0                        0   \n",
       "1                           0                        0   \n",
       "2                           0                        0   \n",
       "3                           0                        0   \n",
       "4                           0                        0   \n",
       "...                       ...                      ...   \n",
       "17609                       0                        0   \n",
       "17610                       0                        0   \n",
       "17611                       0                        0   \n",
       "17612                       0                        0   \n",
       "17613                       0                        0   \n",
       "\n",
       "      ATIPICO_MONTOAJUSTADO_ABS  ATIPICO_MONTOCONCESION_ABS  \\\n",
       "0                             0                           0   \n",
       "1                             0                           0   \n",
       "2                             0                           0   \n",
       "3                             0                           0   \n",
       "4                             0                           0   \n",
       "...                         ...                         ...   \n",
       "17609                         0                           0   \n",
       "17610                         0                           0   \n",
       "17611                         0                           0   \n",
       "17612                         0                           0   \n",
       "17613                         0                           0   \n",
       "\n",
       "       ATIPICO_MONTO_USUARIO_PER_CAPITA  \n",
       "0                                     0  \n",
       "1                                     0  \n",
       "2                                     0  \n",
       "3                                     0  \n",
       "4                                     0  \n",
       "...                                 ...  \n",
       "17609                                 0  \n",
       "17610                                 0  \n",
       "17611                                 0  \n",
       "17612                                 0  \n",
       "17613                                 0  \n",
       "\n",
       "[17614 rows x 69 columns]"
      ]
     },
     "execution_count": 109,
     "metadata": {},
     "output_type": "execute_result"
    }
   ],
   "source": [
    "jorge"
   ]
  },
  {
   "cell_type": "code",
   "execution_count": 111,
   "metadata": {},
   "outputs": [],
   "source": [
    "jorge.to_csv('jorge.csv')"
   ]
  },
  {
   "cell_type": "code",
   "execution_count": 100,
   "metadata": {},
   "outputs": [],
   "source": [
    "alex = df.copy()"
   ]
  },
  {
   "cell_type": "code",
   "execution_count": 101,
   "metadata": {},
   "outputs": [],
   "source": [
    "# Extraer los nombres de las columnas de \"consolidated_df\"\n",
    "column_names = list(jorge.columns)\n",
    "\n",
    "# Reordenar las columnas en \"df\" según los nombres de columnas en \"consolidated_df\"\n",
    "alex = alex[column_names]\n"
   ]
  },
  {
   "cell_type": "code",
   "execution_count": 104,
   "metadata": {},
   "outputs": [],
   "source": [
    "alex_m = alex.loc[alex['AUTORIZACION']==47527093].reset_index().drop('index', axis=1).sort_values(by='PRESTACION')"
   ]
  },
  {
   "cell_type": "code",
   "execution_count": 105,
   "metadata": {},
   "outputs": [],
   "source": [
    "jorge_m = jorge.loc[jorge['AUTORIZACION']==47527093].reset_index().drop('index', axis=1).sort_values(by='PRESTACION')"
   ]
  },
  {
   "cell_type": "code",
   "execution_count": 106,
   "metadata": {},
   "outputs": [
    {
     "name": "stdout",
     "output_type": "stream",
     "text": [
      "(31, 69)\n",
      "(31, 69)\n"
     ]
    }
   ],
   "source": [
    "print(alex_m.shape)\n",
    "print(jorge_m.shape)"
   ]
  },
  {
   "cell_type": "code",
   "execution_count": 64,
   "metadata": {},
   "outputs": [
    {
     "data": {
      "text/html": [
       "<div>\n",
       "<style scoped>\n",
       "    .dataframe tbody tr th:only-of-type {\n",
       "        vertical-align: middle;\n",
       "    }\n",
       "\n",
       "    .dataframe tbody tr th {\n",
       "        vertical-align: top;\n",
       "    }\n",
       "\n",
       "    .dataframe thead th {\n",
       "        text-align: right;\n",
       "    }\n",
       "</style>\n",
       "<table border=\"1\" class=\"dataframe\">\n",
       "  <thead>\n",
       "    <tr style=\"text-align: right;\">\n",
       "      <th></th>\n",
       "      <th>PRESTACION</th>\n",
       "      <th>CLIENTEAFILIADOBENEFICIARIO</th>\n",
       "      <th>AUTORIZACION</th>\n",
       "      <th>FECHASERVICIO</th>\n",
       "      <th>TIPOATENCION</th>\n",
       "      <th>PRESTADOR</th>\n",
       "      <th>TIPOPRESTADOR</th>\n",
       "      <th>ESPECIALIDAD</th>\n",
       "      <th>TIPOPRESTACION</th>\n",
       "      <th>SERVICIOSALUD</th>\n",
       "      <th>...</th>\n",
       "      <th>LIM_DIST_MEDS_EXCEDIDO</th>\n",
       "      <th>ATIPICO_MONTOAJUSTADO</th>\n",
       "      <th>ATIPICO_MONTOUSUARIO</th>\n",
       "      <th>ATIPICO_MONTOASEGURADORA</th>\n",
       "      <th>ATIPICO_MONTOEXCEPCION</th>\n",
       "      <th>ATIPICO_MONTOCONCESION</th>\n",
       "      <th>ATIPICO_MONTOAUTORIZADO</th>\n",
       "      <th>ATIPICO_MONTOAJUSTADO_ABS</th>\n",
       "      <th>ATIPICO_MONTOCONCESION_ABS</th>\n",
       "      <th>ATIPICO_MONTO_USUARIO_PER_CAPITA</th>\n",
       "    </tr>\n",
       "  </thead>\n",
       "  <tbody>\n",
       "    <tr>\n",
       "      <th>20</th>\n",
       "      <td>ACIDO URICO&lt; O:P&gt;</td>\n",
       "      <td>N-644925</td>\n",
       "      <td>47527093</td>\n",
       "      <td>2022-07-26</td>\n",
       "      <td>AMBULATORIA</td>\n",
       "      <td>LABORATORIO DE REFERENCIA, S. A.</td>\n",
       "      <td>PRESTADORES DE SERVICIOS DE APOYO DIAGNOSTICOS</td>\n",
       "      <td>LABORATORIO CLINICO DE HEMATOLOGIA Y BAN</td>\n",
       "      <td>QUIMICA SANGUINEA Y DE OTROS FLUIDOS CORPORALES</td>\n",
       "      <td>LABORATORIOS</td>\n",
       "      <td>...</td>\n",
       "      <td>0</td>\n",
       "      <td>0</td>\n",
       "      <td>0</td>\n",
       "      <td>0</td>\n",
       "      <td>0</td>\n",
       "      <td>0</td>\n",
       "      <td>0</td>\n",
       "      <td>0</td>\n",
       "      <td>0</td>\n",
       "      <td>0</td>\n",
       "    </tr>\n",
       "  </tbody>\n",
       "</table>\n",
       "<p>1 rows × 69 columns</p>\n",
       "</div>"
      ],
      "text/plain": [
       "           PRESTACION CLIENTEAFILIADOBENEFICIARIO  AUTORIZACION FECHASERVICIO  \\\n",
       "20  ACIDO URICO< O:P>                    N-644925      47527093    2022-07-26   \n",
       "\n",
       "   TIPOATENCION                         PRESTADOR  \\\n",
       "20  AMBULATORIA  LABORATORIO DE REFERENCIA, S. A.   \n",
       "\n",
       "                                     TIPOPRESTADOR  \\\n",
       "20  PRESTADORES DE SERVICIOS DE APOYO DIAGNOSTICOS   \n",
       "\n",
       "                                ESPECIALIDAD  \\\n",
       "20  LABORATORIO CLINICO DE HEMATOLOGIA Y BAN   \n",
       "\n",
       "                                     TIPOPRESTACION SERVICIOSALUD  ...  \\\n",
       "20  QUIMICA SANGUINEA Y DE OTROS FLUIDOS CORPORALES  LABORATORIOS  ...   \n",
       "\n",
       "    LIM_DIST_MEDS_EXCEDIDO  ATIPICO_MONTOAJUSTADO  ATIPICO_MONTOUSUARIO  \\\n",
       "20                       0                      0                     0   \n",
       "\n",
       "    ATIPICO_MONTOASEGURADORA  ATIPICO_MONTOEXCEPCION  ATIPICO_MONTOCONCESION  \\\n",
       "20                         0                       0                       0   \n",
       "\n",
       "    ATIPICO_MONTOAUTORIZADO ATIPICO_MONTOAJUSTADO_ABS  \\\n",
       "20                        0                         0   \n",
       "\n",
       "    ATIPICO_MONTOCONCESION_ABS  ATIPICO_MONTO_USUARIO_PER_CAPITA  \n",
       "20                           0                                 0  \n",
       "\n",
       "[1 rows x 69 columns]"
      ]
     },
     "execution_count": 64,
     "metadata": {},
     "output_type": "execute_result"
    }
   ],
   "source": [
    "a.head(1)"
   ]
  },
  {
   "cell_type": "code",
   "execution_count": 65,
   "metadata": {},
   "outputs": [
    {
     "data": {
      "text/html": [
       "<div>\n",
       "<style scoped>\n",
       "    .dataframe tbody tr th:only-of-type {\n",
       "        vertical-align: middle;\n",
       "    }\n",
       "\n",
       "    .dataframe tbody tr th {\n",
       "        vertical-align: top;\n",
       "    }\n",
       "\n",
       "    .dataframe thead th {\n",
       "        text-align: right;\n",
       "    }\n",
       "</style>\n",
       "<table border=\"1\" class=\"dataframe\">\n",
       "  <thead>\n",
       "    <tr style=\"text-align: right;\">\n",
       "      <th></th>\n",
       "      <th>PRESTACION</th>\n",
       "      <th>CLIENTEAFILIADOBENEFICIARIO</th>\n",
       "      <th>AUTORIZACION</th>\n",
       "      <th>FECHASERVICIO</th>\n",
       "      <th>TIPOATENCION</th>\n",
       "      <th>PRESTADOR</th>\n",
       "      <th>TIPOPRESTADOR</th>\n",
       "      <th>ESPECIALIDAD</th>\n",
       "      <th>TIPOPRESTACION</th>\n",
       "      <th>SERVICIOSALUD</th>\n",
       "      <th>...</th>\n",
       "      <th>LIM_DIST_MEDS_EXCEDIDO</th>\n",
       "      <th>ATIPICO_MONTOAJUSTADO</th>\n",
       "      <th>ATIPICO_MONTOUSUARIO</th>\n",
       "      <th>ATIPICO_MONTOASEGURADORA</th>\n",
       "      <th>ATIPICO_MONTOEXCEPCION</th>\n",
       "      <th>ATIPICO_MONTOCONCESION</th>\n",
       "      <th>ATIPICO_MONTOAUTORIZADO</th>\n",
       "      <th>ATIPICO_MONTOAJUSTADO_ABS</th>\n",
       "      <th>ATIPICO_MONTOCONCESION_ABS</th>\n",
       "      <th>ATIPICO_MONTO_USUARIO_PER_CAPITA</th>\n",
       "    </tr>\n",
       "  </thead>\n",
       "  <tbody>\n",
       "    <tr>\n",
       "      <th>0</th>\n",
       "      <td>ACIDO URICO&lt; O:P&gt;</td>\n",
       "      <td>N-644925</td>\n",
       "      <td>47527093</td>\n",
       "      <td>2022-07-26</td>\n",
       "      <td>AMBULATORIA</td>\n",
       "      <td>LABORATORIO DE REFERENCIA, S. A.</td>\n",
       "      <td>PRESTADORES DE SERVICIOS DE APOYO DIAGNOSTICOS</td>\n",
       "      <td>LABORATORIO CLINICO DE HEMATOLOGIA Y BAN</td>\n",
       "      <td>QUIMICA SANGUINEA Y DE OTROS FLUIDOS CORPORALES</td>\n",
       "      <td>LABORATORIOS</td>\n",
       "      <td>...</td>\n",
       "      <td>0</td>\n",
       "      <td>0</td>\n",
       "      <td>0</td>\n",
       "      <td>0</td>\n",
       "      <td>0</td>\n",
       "      <td>0</td>\n",
       "      <td>0</td>\n",
       "      <td>0</td>\n",
       "      <td>0</td>\n",
       "      <td>0</td>\n",
       "    </tr>\n",
       "  </tbody>\n",
       "</table>\n",
       "<p>1 rows × 69 columns</p>\n",
       "</div>"
      ],
      "text/plain": [
       "          PRESTACION CLIENTEAFILIADOBENEFICIARIO  AUTORIZACION FECHASERVICIO  \\\n",
       "0  ACIDO URICO< O:P>                    N-644925      47527093    2022-07-26   \n",
       "\n",
       "  TIPOATENCION                         PRESTADOR  \\\n",
       "0  AMBULATORIA  LABORATORIO DE REFERENCIA, S. A.   \n",
       "\n",
       "                                    TIPOPRESTADOR  \\\n",
       "0  PRESTADORES DE SERVICIOS DE APOYO DIAGNOSTICOS   \n",
       "\n",
       "                               ESPECIALIDAD  \\\n",
       "0  LABORATORIO CLINICO DE HEMATOLOGIA Y BAN   \n",
       "\n",
       "                                    TIPOPRESTACION SERVICIOSALUD  ...  \\\n",
       "0  QUIMICA SANGUINEA Y DE OTROS FLUIDOS CORPORALES  LABORATORIOS  ...   \n",
       "\n",
       "   LIM_DIST_MEDS_EXCEDIDO  ATIPICO_MONTOAJUSTADO  ATIPICO_MONTOUSUARIO  \\\n",
       "0                       0                      0                     0   \n",
       "\n",
       "   ATIPICO_MONTOASEGURADORA  ATIPICO_MONTOEXCEPCION  ATIPICO_MONTOCONCESION  \\\n",
       "0                         0                       0                       0   \n",
       "\n",
       "   ATIPICO_MONTOAUTORIZADO ATIPICO_MONTOAJUSTADO_ABS  \\\n",
       "0                        0                         0   \n",
       "\n",
       "   ATIPICO_MONTOCONCESION_ABS  ATIPICO_MONTO_USUARIO_PER_CAPITA  \n",
       "0                           0                                 0  \n",
       "\n",
       "[1 rows x 69 columns]"
      ]
     },
     "execution_count": 65,
     "metadata": {},
     "output_type": "execute_result"
    }
   ],
   "source": [
    "b.head(1)"
   ]
  },
  {
   "cell_type": "code",
   "execution_count": 107,
   "metadata": {},
   "outputs": [
    {
     "name": "stdout",
     "output_type": "stream",
     "text": [
      "LOS DF SON DIFERENTES\n"
     ]
    }
   ],
   "source": [
    "if alex_m.equals(jorge_m):\n",
    "    print(\"Los DF son iguales\")\n",
    "else:\n",
    "    print(\"LOS DF SON DIFERENTES\")"
   ]
  },
  {
   "cell_type": "code",
   "execution_count": 108,
   "metadata": {},
   "outputs": [],
   "source": [
    "alex_m.to_csv('alex_m.csv')\n",
    "jorge_m.to_csv('jorge_m.csv')"
   ]
  },
  {
   "attachments": {},
   "cell_type": "markdown",
   "metadata": {},
   "source": [
    "# Cálculo de las métricas previas a la predicción"
   ]
  },
  {
   "cell_type": "code",
   "execution_count": null,
   "metadata": {},
   "outputs": [],
   "source": [
    "measures = {\n",
    "    'CANTIDAD_AUTORIZACIONES': pd.NamedAgg(column='AUTORIZACION', aggfunc='nunique'),\n",
    "    'LIM_CANTIDAD_PRESTACION_EXCEDIDO': pd.NamedAgg(column='LIM_CANTIDAD_PRESTACION_EXCEDIDO', aggfunc='sum'), #\n",
    "    'MISMA_ESPECIALIDAD_DIFF_ESPECIALISTA': pd.NamedAgg(column='MISMA_ESPECIALIDAD_DIFF_ESPECIALISTA', aggfunc='sum'), #\n",
    "    'LIM_CONSULTAS_EXCEDIDO_MES': pd.NamedAgg(column='LIM_CONSULTAS_EXCEDIDO_MES', aggfunc='sum'), #\n",
    "    'ES_EMERGENCIA': pd.NamedAgg(column='ES_EMERGENCIA', aggfunc='sum'),  \n",
    "    'LIM_EMERGENCIAS_EXCEDIDO_MES': pd.NamedAgg(column='LIM_EMERGENCIAS_EXCEDIDO_MES', aggfunc='sum'), #     \n",
    "    'ATIPICO_MONTO_ASEGURADORA': pd.NamedAgg(column='ATIPICO_MONTOASEGURADORA', aggfunc='sum'), # N/A\n",
    "    'ATIPICO_MONTO_CONCESION': pd.NamedAgg(column='ATIPICO_MONTOCONCESION', aggfunc='sum'), # N/A\n",
    "    'ATIPICO_MONTO_EXCEPCION': pd.NamedAgg(column='ATIPICO_MONTOEXCEPCION', aggfunc='sum'), # N/A\n",
    "    'ATIPICO_MONTO_USUARIO': pd.NamedAgg(column='ATIPICO_MONTOUSUARIO', aggfunc='sum'), # N/A\n",
    "    'ATIPICO_MONTO_AJUSTADO': pd.NamedAgg(column='ATIPICO_MONTOAJUSTADO', aggfunc='sum'), # N/A\n",
    "    'ATIPICO_MONTO_USUARIO_PER_CAPITA': pd.NamedAgg(column='ATIPICO_MONTO_USUARIO_PER_CAPITA', aggfunc='sum'), #N/A\n",
    "    'ERRORES_MONTO_RECLAMADO': pd.NamedAgg(column='ERROR_MONTO_RECLAMADO', aggfunc='sum'),\n",
    "    'ERRORES_MONTO_AUTORIZADO1': pd.NamedAgg(column='ERROR_MONTO_AUTORIZADO1', aggfunc='sum'),\n",
    "    'ERRORES_MONTO_AUTORIZADO2': pd.NamedAgg(column='ERROR_MONTO_AUTORIZADO2', aggfunc='sum'),\n",
    "    'CANTIDAD_DIAS_HABITACION': pd.NamedAgg(column='DIAS_HABITACION', aggfunc='sum'),\n",
    "    'LIM_6_DIAS_HABITACION_EXCEDIDO': pd.NamedAgg(column='LIM_6_DIAS_HABITACION_EXCEDIDO', aggfunc='sum'),\n",
    "    'PRESTACION_MEDICINAS_INTERNAMIENTO': pd.NamedAgg(column='MEDICINAS_INTERNAMIENTO', aggfunc='sum'),\n",
    "    'PRESTACION_MATERIALES_DESECHABLES': pd.NamedAgg(column='MATERIALES_DESECHABLES', aggfunc='sum'),\n",
    "    'PRESTACION_OTROS_SERVICIOS': pd.NamedAgg(column='OTROS_SERVICIOS', aggfunc='sum'),\n",
    "    'N_PRESTACIONES': pd.NamedAgg(column='PRESTACION', aggfunc='count'),        \n",
    "    'ERRORES_CONSECION': pd.NamedAgg(column='ERROR_CONSECION', aggfunc='sum'),\n",
    "    'CONSULTAS_SIN_LAB_MED': pd.NamedAgg(column='CONSULTAS_SIN_LAB_MED', aggfunc='sum'), #\n",
    "    'LIM_DIST_MEDS_EXCEDIDO': pd.NamedAgg(column='LIM_DIST_MEDS_EXCEDIDO', aggfunc='sum') #\n",
    "   }\n",
    "\n",
    "df_medidas = dftest.groupby(\n",
    "    ['PRESTADOR', 'TipoInstitucionPrestador']\n",
    ").agg(\n",
    "    **measures\n",
    ").sort_values(\n",
    "    by='CANTIDAD_AUTORIZACIONES', \n",
    "    ascending=False\n",
    ").reset_index()"
   ]
  },
  {
   "cell_type": "code",
   "execution_count": null,
   "metadata": {},
   "outputs": [],
   "source": [
    "df_medidas.shape"
   ]
  },
  {
   "cell_type": "code",
   "execution_count": null,
   "metadata": {},
   "outputs": [],
   "source": [
    "df_medidas.head(3)"
   ]
  },
  {
   "cell_type": "code",
   "execution_count": null,
   "metadata": {},
   "outputs": [],
   "source": []
  }
 ],
 "metadata": {
  "kernelspec": {
   "display_name": "Python 3",
   "language": "python",
   "name": "python3"
  },
  "language_info": {
   "codemirror_mode": {
    "name": "ipython",
    "version": 3
   },
   "file_extension": ".py",
   "mimetype": "text/x-python",
   "name": "python",
   "nbconvert_exporter": "python",
   "pygments_lexer": "ipython3",
   "version": "3.9.13"
  },
  "orig_nbformat": 4
 },
 "nbformat": 4,
 "nbformat_minor": 2
}
