{
 "cells": [
  {
   "attachments": {},
   "cell_type": "markdown",
   "metadata": {},
   "source": [
    "# Importar Librerías"
   ]
  },
  {
   "cell_type": "code",
   "execution_count": 1,
   "metadata": {},
   "outputs": [],
   "source": [
    "import datetime\n",
    "import pickle\n",
    "import polars as pl\n",
    "import numpy as np\n",
    "import pandas as pd\n",
    "from sklearn.preprocessing import StandardScaler"
   ]
  },
  {
   "attachments": {},
   "cell_type": "markdown",
   "metadata": {},
   "source": [
    "# Cargar Datos"
   ]
  },
  {
   "cell_type": "code",
   "execution_count": 2,
   "metadata": {},
   "outputs": [],
   "source": [
    "cols_df1 = [\n",
    "    'CLIENTEAFILIADOBENEFICIARIO',\n",
    "    'AUTORIZACION',\n",
    "    'FECHASERVICIO',\n",
    "    'TIPOATENCION',\n",
    "    'PRESTADOR',\n",
    "    'TipoPrestador',\n",
    "    'ESPECIALIDAD',\n",
    "    'PRESTACION',\n",
    "    'TIPOPRESTACION',\n",
    "    'SERVICIOSALUD',\n",
    "    'MONTOUNITARIO',\n",
    "    'CANTIDAD',\n",
    "    'MONTORECLAMADO',\n",
    "    'MONTOAJUSTADO',\n",
    "    'MONTODIFERENCIAAFILIADO',\n",
    "    'MONTOCOPAGO',\n",
    "    'AUTORIZACIONRELACIONADA',\n",
    "    'MONTOASEGURADORA',\n",
    "    'TipoInstitucionPrestador'\n",
    "    ]\n",
    "\n",
    "cols_df2 = [\n",
    "    'CLIENTEAFILIADOBENEFICIARIO',\n",
    "    'AUTORIZACION',\n",
    "    'FECHASERVICIO',\n",
    "    'TIPOATENCION',\n",
    "    'PRESTADOR',\n",
    "    'TipoPrestador',\n",
    "    'ESPECIALIDAD',\n",
    "    'PRESTACION',\n",
    "    'TIPOPRESTACION',\n",
    "    'SERVICIOSALUD',\n",
    "    'MONTOAJUSTADO',\n",
    "    'MONTOCOPAGO',\n",
    "    'AUTORIZACIONRELACIONADA',\n",
    "    'MONTOASEGURADORA',\n",
    "    'MONTOEXCEPCION',\n",
    "    'MONTOCONCESION',\n",
    "    'MONTOAUTORIZADO'\n",
    "    ]\n"
   ]
  },
  {
   "cell_type": "code",
   "execution_count": 3,
   "metadata": {},
   "outputs": [
    {
     "name": "stdout",
     "output_type": "stream",
     "text": [
      "<class 'pandas.core.frame.DataFrame'>\n",
      "(500000, 19)\n"
     ]
    }
   ],
   "source": [
    "# Data Autorizaciones\n",
    "\n",
    "df = pl.read_parquet(\n",
    "    '../Datos/dataAutorizaciones20221208.parquet',\n",
    "    columns = cols_df1\n",
    ")\n",
    "\n",
    "df = df.sample(500000)\n",
    "df = df.to_pandas()\n",
    "\n",
    "print(type(df))\n",
    "print(df.shape)"
   ]
  },
  {
   "cell_type": "code",
   "execution_count": 4,
   "metadata": {},
   "outputs": [
    {
     "name": "stdout",
     "output_type": "stream",
     "text": [
      "<class 'pandas.core.frame.DataFrame'>\n",
      "(500000, 17)\n"
     ]
    }
   ],
   "source": [
    "# Data Distribuciones Autorizaciones\n",
    "\n",
    "df2 = pl.read_parquet(\n",
    "    '../Datos/dataDistribucionesAutorizaciones20221208.parquet',\n",
    "    columns = cols_df2\n",
    ")\n",
    "\n",
    "df2 = df2.sample(500000)\n",
    "df2 = df2.to_pandas()\n",
    "\n",
    "print(type(df2))\n",
    "print(df2.shape)\n"
   ]
  },
  {
   "cell_type": "code",
   "execution_count": 6,
   "metadata": {},
   "outputs": [
    {
     "name": "stderr",
     "output_type": "stream",
     "text": [
      "/Users/jhon.pelaez/Library/Python/3.9/lib/python/site-packages/openpyxl/worksheet/_reader.py:329: UserWarning: Unknown extension is not supported and will be removed\n",
      "  warn(msg)\n"
     ]
    }
   ],
   "source": [
    "# CUPS frecuentes en emergencias\n",
    "cups_df = pd.read_excel(\n",
    "    '../Datos/CUPS frecuencias y otros (002).xlsx',engine='openpyxl'\n",
    ")\n",
    "\n",
    "# CUPS cantidades esperadas\n",
    "valores_referencia_cups_df = pd.read_excel(\n",
    "    '../Datos/CUPS frecuencias y otros (002).xlsx', \n",
    "    sheet_name=1,engine='openpyxl'\n",
    ")\n",
    "\n",
    "# Indicador de dias de habitación\n",
    "\n",
    "# Read File\n",
    "salas_df = pd.read_excel(\n",
    "    '../Datos/salas.xlsx', engine='openpyxl'\n",
    ")\n",
    "\n",
    "salas_list = salas_df['DESCRIPCION'].tolist()"
   ]
  },
  {
   "attachments": {},
   "cell_type": "markdown",
   "metadata": {},
   "source": [
    "# Unir Datasets"
   ]
  },
  {
   "cell_type": "code",
   "execution_count": 7,
   "metadata": {},
   "outputs": [],
   "source": [
    "# Extraer autorizaciones en los dos datasets\n",
    "autorizaciones_1 = set(df.AUTORIZACION.unique())\n",
    "autoriaciones_2 = set(df2.AUTORIZACION.unique())\n",
    "autorizaciones = autorizaciones_1.intersection(autoriaciones_2)\n",
    "\n",
    "tmp_df_columns = [\n",
    "    'AUTORIZACION', \n",
    "    'CLIENTEAFILIADOBENEFICIARIO',\n",
    "    'PRESTACION', \n",
    "    'PRESTADOR', \n",
    "    'FECHASERVICIO', \n",
    "    'MONTORECLAMADO'\n",
    "]\n",
    "\n",
    "tmp_df2_columns = [\n",
    "    'AUTORIZACION', \n",
    "    'CLIENTEAFILIADOBENEFICIARIO', \n",
    "    'PRESTACION', \n",
    "    'PRESTADOR',\n",
    "    'FECHASERVICIO', \n",
    "    'MONTOASEGURADORA', \n",
    "    'MONTOEXCEPCION', \n",
    "    'MONTOCONCESION', \n",
    "    'MONTOAUTORIZADO'\n",
    "]\n",
    "\n",
    "tmp_df = df[df.AUTORIZACION.isin(autorizaciones)][tmp_df_columns]\n",
    "tmp_df2 = df2[df2.AUTORIZACION.isin(autorizaciones)][tmp_df2_columns]\n",
    "\n",
    "# agrupar montos en el dataset de distribución\n",
    "tmp_df2_new = tmp_df2.groupby(['AUTORIZACION', 'CLIENTEAFILIADOBENEFICIARIO', 'PRESTACION', 'PRESTADOR', \n",
    "                               'FECHASERVICIO'])[['MONTOASEGURADORA', 'MONTOEXCEPCION', 'MONTOCONCESION', 'MONTOAUTORIZADO']].sum().reset_index()\n",
    "\n",
    "# Consolidar las dos bases de datos\n",
    "consolidated_df = df.merge(\n",
    "    tmp_df2_new,\n",
    "    on=['AUTORIZACION', 'CLIENTEAFILIADOBENEFICIARIO','PRESTACION', 'PRESTADOR', 'FECHASERVICIO'],\n",
    ")\n",
    "\n",
    "consolidated_df.drop(columns=['MONTOASEGURADORA_x'], inplace=True)\n",
    "consolidated_df.rename(\n",
    "    columns={\n",
    "        'MONTOASEGURADORA_y': 'MONTOASEGURADORA',\n",
    "        'MONTODIFERENCIAAFILIADO': 'MONTOUSUARIO',\n",
    "        'TipoPrestador': 'TIPOPRESTADOR',\n",
    "    },\n",
    "    inplace=True\n",
    ")"
   ]
  },
  {
   "cell_type": "code",
   "execution_count": 8,
   "metadata": {},
   "outputs": [],
   "source": [
    "del(df, df2, tmp_df, tmp_df2, tmp_df2_new)"
   ]
  },
  {
   "cell_type": "code",
   "execution_count": 9,
   "metadata": {},
   "outputs": [
    {
     "data": {
      "text/plain": [
       "(16521, 22)"
      ]
     },
     "execution_count": 9,
     "metadata": {},
     "output_type": "execute_result"
    }
   ],
   "source": [
    "consolidated_df.shape"
   ]
  },
  {
   "cell_type": "code",
   "execution_count": null,
   "metadata": {},
   "outputs": [],
   "source": []
  }
 ],
 "metadata": {
  "kernelspec": {
   "display_name": "Python 3",
   "language": "python",
   "name": "python3"
  },
  "language_info": {
   "codemirror_mode": {
    "name": "ipython",
    "version": 3
   },
   "file_extension": ".py",
   "mimetype": "text/x-python",
   "name": "python",
   "nbconvert_exporter": "python",
   "pygments_lexer": "ipython3",
   "version": "3.9.6"
  },
  "orig_nbformat": 4
 },
 "nbformat": 4,
 "nbformat_minor": 2
}
