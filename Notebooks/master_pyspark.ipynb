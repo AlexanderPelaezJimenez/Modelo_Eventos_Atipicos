{
 "cells": [
  {
   "attachments": {},
   "cell_type": "markdown",
   "metadata": {},
   "source": [
    "# Importar Librerías"
   ]
  },
  {
   "cell_type": "code",
   "execution_count": 24,
   "metadata": {},
   "outputs": [],
   "source": [
    "from pyspark.sql import SparkSession\n",
    "from pyspark.sql.functions import col\n",
    "from pyspark.sql.types import StringType, StructType, StructField, DateType, StringType\n",
    "from pyspark.sql.functions import col, sum as _sum\n",
    "from pyspark.sql import DataFrame"
   ]
  },
  {
   "cell_type": "code",
   "execution_count": 25,
   "metadata": {},
   "outputs": [],
   "source": [
    "from pyspark.sql import functions as F\n",
    "from pyspark.sql.types import IntegerType\n",
    "from pyspark.sql.functions import abs"
   ]
  },
  {
   "cell_type": "code",
   "execution_count": 26,
   "metadata": {},
   "outputs": [],
   "source": [
    "from pyspark.sql.functions import when\n",
    "\n",
    "from pyspark.sql.functions import expr\n",
    "from pyspark.sql.functions import datediff\n",
    "from pyspark.sql.functions import array\n",
    "from pyspark.sql.types import DoubleType, DateType\n",
    "from pyspark.sql.functions import when, col, abs"
   ]
  },
  {
   "cell_type": "code",
   "execution_count": 27,
   "metadata": {},
   "outputs": [],
   "source": [
    "from pyspark.sql.functions import col, countDistinct, collect_list, array_contains\n",
    "from pyspark.sql.window import Window\n",
    "from pyspark.sql.types import StructType, StructField, DateType, StringType"
   ]
  },
  {
   "cell_type": "code",
   "execution_count": null,
   "metadata": {},
   "outputs": [],
   "source": [
    "import pandas as pd"
   ]
  },
  {
   "cell_type": "code",
   "execution_count": 31,
   "metadata": {},
   "outputs": [],
   "source": [
    "import datetime"
   ]
  },
  {
   "cell_type": "code",
   "execution_count": null,
   "metadata": {},
   "outputs": [],
   "source": [
    "spark = SparkSession.builder.appName(\"Pandas to PySpark conversion\").getOrCreate()"
   ]
  },
  {
   "cell_type": "code",
   "execution_count": null,
   "metadata": {},
   "outputs": [],
   "source": [
    "cols_df1 = [\n",
    "    'CLIENTEAFILIADOBENEFICIARIO',\n",
    "    'AUTORIZACION',\n",
    "    'FECHASERVICIO',\n",
    "    'TIPOATENCION',\n",
    "    'PRESTADOR',\n",
    "    'TipoPrestador',\n",
    "    'ESPECIALIDAD',\n",
    "    'PRESTACION',\n",
    "    'TIPOPRESTACION',\n",
    "    'SERVICIOSALUD',\n",
    "    'MONTOUNITARIO',\n",
    "    'CANTIDAD',\n",
    "    'MONTORECLAMADO',\n",
    "    'MONTOAJUSTADO',\n",
    "    'MONTODIFERENCIAAFILIADO',\n",
    "    'MONTOCOPAGO',\n",
    "    'AUTORIZACIONRELACIONADA',\n",
    "    'MONTOASEGURADORA',\n",
    "    'TipoInstitucionPrestador'\n",
    "    ]\n",
    "\n",
    "cols_df2 = [\n",
    "    'CLIENTEAFILIADOBENEFICIARIO',\n",
    "    'AUTORIZACION',\n",
    "    'FECHASERVICIO',\n",
    "    'TIPOATENCION',\n",
    "    'PRESTADOR',\n",
    "    'TipoPrestador',\n",
    "    'ESPECIALIDAD',\n",
    "    'PRESTACION',\n",
    "    'TIPOPRESTACION',\n",
    "    'SERVICIOSALUD',\n",
    "    'MONTOAJUSTADO',\n",
    "    'MONTOCOPAGO',\n",
    "    'AUTORIZACIONRELACIONADA',\n",
    "    'MONTOASEGURADORA',\n",
    "    'MONTOEXCEPCION',\n",
    "    'MONTOCONCESION',\n",
    "    'MONTOAUTORIZADO'\n",
    "    ]\n",
    "\n",
    "n = 100000"
   ]
  },
  {
   "cell_type": "code",
   "execution_count": 32,
   "metadata": {},
   "outputs": [],
   "source": [
    "df1 = spark.read.parquet('../Datos/dataAutorizaciones20221208.parquet',\n",
    "                         inferSchema = True).select([col(c) for c in cols_df1]).limit(n)\n",
    "\n"
   ]
  },
  {
   "cell_type": "code",
   "execution_count": null,
   "metadata": {},
   "outputs": [],
   "source": [
    "df1.show(3)"
   ]
  },
  {
   "cell_type": "code",
   "execution_count": 33,
   "metadata": {},
   "outputs": [],
   "source": [
    "df2 = spark.read.parquet('../Datos/dataDistribucionesAutorizaciones20221208.parquet',\n",
    "                         inferSchema = True).select([col(c) for c in cols_df2]).limit(n)"
   ]
  },
  {
   "cell_type": "code",
   "execution_count": null,
   "metadata": {},
   "outputs": [],
   "source": [
    "df2.show(3)"
   ]
  },
  {
   "cell_type": "code",
   "execution_count": null,
   "metadata": {},
   "outputs": [],
   "source": [
    "rows_df1 = df1.count()\n",
    "rows_df2 = df2.count()"
   ]
  },
  {
   "cell_type": "code",
   "execution_count": null,
   "metadata": {},
   "outputs": [],
   "source": [
    "print(rows_df1)\n",
    "print(rows_df2)"
   ]
  },
  {
   "cell_type": "code",
   "execution_count": null,
   "metadata": {},
   "outputs": [],
   "source": [
    "# CUPS frecuentes en emergencias\n",
    "cups_df = pd.read_excel(\n",
    "    '../Datos/CUPS frecuencias y otros (002).xlsx',engine='openpyxl'\n",
    ")\n",
    "# Convertir el dataframe de Pandas 'cups_df' a un dataframe de PySpark\n",
    "cups_df = spark.createDataFrame(cups_df)"
   ]
  },
  {
   "cell_type": "code",
   "execution_count": null,
   "metadata": {},
   "outputs": [],
   "source": [
    "# CUPS cantidades esperadas\n",
    "valores_referencia_cups_df = pd.read_excel(\n",
    "    '../Datos/CUPS frecuencias y otros (002).xlsx', \n",
    "    sheet_name=1,engine='openpyxl'\n",
    ")\n",
    "# Convertir el dataframe de Pandas 'valores_referencia_cups_df' a un dataframe de PySpark\n",
    "valores_referencia_cups_df = spark.createDataFrame(valores_referencia_cups_df)"
   ]
  },
  {
   "cell_type": "code",
   "execution_count": null,
   "metadata": {},
   "outputs": [],
   "source": [
    "# Indicador de dias de habitación\n",
    "\n",
    "# Read File\n",
    "salas_df = pd.read_excel(\n",
    "    '../Datos/salas.xlsx', engine='openpyxl'\n",
    ")\n",
    "\n",
    "salas_list = salas_df['DESCRIPCION'].tolist()\n",
    "\n",
    "# Convertir el dataframe de Pandas 'salas_df' a un dataframe de PySpark\n",
    "salas_df = spark.createDataFrame(salas_df)\n",
    "\n",
    "# Convertir la lista 'salas_list' a un objeto de PySpark equivalente (RDD)\n",
    "#salas_list = spark.sparkContext.parallelize(salas_list)"
   ]
  },
  {
   "cell_type": "code",
   "execution_count": null,
   "metadata": {},
   "outputs": [],
   "source": [
    "type(salas_list)"
   ]
  },
  {
   "cell_type": "code",
   "execution_count": 39,
   "metadata": {},
   "outputs": [],
   "source": [
    "# Unir Datasets\n",
    "\n",
    "def consolidate_dataframes(df1, df2):\n",
    "    # Encuentra intersección de autorizaciones\n",
    "    autorizaciones = df1.select(\"AUTORIZACION\").distinct().intersect(df2.select(\"AUTORIZACION\").distinct())\n",
    "    \n",
    "    \n",
    "    cols_df1 = [\n",
    "    'CLIENTEAFILIADOBENEFICIARIO',\n",
    "    'AUTORIZACION',\n",
    "    'FECHASERVICIO',\n",
    "    'TIPOATENCION',\n",
    "    'PRESTADOR',\n",
    "    'TipoPrestador',\n",
    "    'ESPECIALIDAD',\n",
    "    'PRESTACION',\n",
    "    'TIPOPRESTACION',\n",
    "    'SERVICIOSALUD',\n",
    "    'MONTOUNITARIO',\n",
    "    'CANTIDAD',\n",
    "    'MONTORECLAMADO',\n",
    "    'MONTOAJUSTADO',\n",
    "    'MONTODIFERENCIAAFILIADO',\n",
    "    'MONTOCOPAGO',\n",
    "    'AUTORIZACIONRELACIONADA',\n",
    "    'MONTOASEGURADORA',\n",
    "    'TipoInstitucionPrestador'\n",
    "    ]\n",
    "    \n",
    "    cols_df2 = [\n",
    "    'CLIENTEAFILIADOBENEFICIARIO',\n",
    "    'AUTORIZACION',\n",
    "    'FECHASERVICIO',\n",
    "    'TIPOATENCION',\n",
    "    'PRESTADOR',\n",
    "    'TipoPrestador',\n",
    "    'ESPECIALIDAD',\n",
    "    'PRESTACION',\n",
    "    'TIPOPRESTACION',\n",
    "    'SERVICIOSALUD',\n",
    "    'MONTOAJUSTADO',\n",
    "    'MONTOCOPAGO',\n",
    "    'AUTORIZACIONRELACIONADA',\n",
    "    'MONTOASEGURADORA',\n",
    "    'MONTOEXCEPCION',\n",
    "    'MONTOCONCESION',\n",
    "    'MONTOAUTORIZADO'\n",
    "    ]\n",
    "\n",
    "\n",
    "\n",
    "\n",
    "    # Filtrar y seleccionar columnas relevantes\n",
    "    filtered_df1 = df1.join(autorizaciones, on=\"AUTORIZACION\", how=\"inner\").select(cols_df1)\n",
    "    filtered_df2 = df2.join(autorizaciones, on=\"AUTORIZACION\", how=\"inner\").select(cols_df2)\n",
    "\n",
    "    # Agrupar montos en el dataset de distribución\n",
    "    groupby_columns = [\n",
    "        'AUTORIZACION',\n",
    "        'CLIENTEAFILIADOBENEFICIARIO',\n",
    "        'PRESTACION',\n",
    "        'PRESTADOR',\n",
    "        'FECHASERVICIO'\n",
    "    ]\n",
    "\n",
    "    aggregated_df2 = filtered_df2.groupBy(groupby_columns).agg(\n",
    "        _sum('MONTOASEGURADORA'),\n",
    "        _sum('MONTOEXCEPCION'),\n",
    "        _sum('MONTOCONCESION'),\n",
    "        _sum('MONTOAUTORIZADO')\n",
    "    )\n",
    "\n",
    "    # Consolidar las dos bases de datos\n",
    "    consolidated_df = filtered_df1.join(\n",
    "        aggregated_df2,\n",
    "        on=groupby_columns,\n",
    "        how='inner'\n",
    "    )\n",
    "\n",
    "    # Eliminar columnas\n",
    "    consolidated_df = consolidated_df.drop('MONTOASEGURADORA')\n",
    "\n",
    "    # Renombrar columnas    \n",
    "    consolidated_df = consolidated_df.withColumnRenamed('sum(MONTOASEGURADORA)', 'MONTOASEGURADORA') \\\n",
    "        .withColumnRenamed('sum(MONTOEXCEPCION)', 'MONTOEXCEPCION') \\\n",
    "        .withColumnRenamed('sum(MONTOCONCESION)', 'MONTOCONCESION') \\\n",
    "        .withColumnRenamed('sum(MONTOAUTORIZADO)', 'MONTOAUTORIZADO') \\\n",
    "        .withColumnRenamed('MONTODIFERENCIAAFILIADO', 'MONTOUSUARIO') \\\n",
    "        .withColumnRenamed('TipoPrestador', 'TIPOPRESTADOR')\n",
    "\n",
    "    return consolidated_df\n",
    "\n",
    "\n",
    "# Uso de la función\n",
    "df = consolidate_dataframes(df1, df2)\n",
    "\n"
   ]
  },
  {
   "cell_type": "code",
   "execution_count": 40,
   "metadata": {},
   "outputs": [
    {
     "data": {
      "text/plain": [
       "pyspark.sql.dataframe.DataFrame"
      ]
     },
     "execution_count": 40,
     "metadata": {},
     "output_type": "execute_result"
    }
   ],
   "source": [
    "type(df)"
   ]
  },
  {
   "cell_type": "code",
   "execution_count": 41,
   "metadata": {},
   "outputs": [
    {
     "name": "stdout",
     "output_type": "stream",
     "text": [
      "+------------+---------------------------+--------------------+--------------------+--------------------+------------+--------------------+---------------+--------------------+--------------------+-------------+--------+--------------+-------------+------------+-----------+-----------------------+------------------------+----------------+--------------+--------------+---------------+\n",
      "|AUTORIZACION|CLIENTEAFILIADOBENEFICIARIO|          PRESTACION|           PRESTADOR|       FECHASERVICIO|TIPOATENCION|       TIPOPRESTADOR|   ESPECIALIDAD|      TIPOPRESTACION|       SERVICIOSALUD|MONTOUNITARIO|CANTIDAD|MONTORECLAMADO|MONTOAJUSTADO|MONTOUSUARIO|MONTOCOPAGO|AUTORIZACIONRELACIONADA|TipoInstitucionPrestador|MONTOASEGURADORA|MONTOEXCEPCION|MONTOCONCESION|MONTOAUTORIZADO|\n",
      "+------------+---------------------------+--------------------+--------------------+--------------------+------------+--------------------+---------------+--------------------+--------------------+-------------+--------+--------------+-------------+------------+-----------+-----------------------+------------------------+----------------+--------------+--------------+---------------+\n",
      "|    42316928|                  N-2124705|MATERIALES DESECH...|MELOSA CLINICA BR...|2021-01-01 00:00:...| AMBULATORIA|CLINICAS, HOSPITA...|CENTROS MEDICOS|SERVICIOS ESPECIA...|EMERGENCIA TRIAGE...|        12.12|       1|         12.12|          0.0|         0.0|        0.0|                   null|         CENTROS MÉDICOS|           12.12|           0.0|           0.0|          12.12|\n",
      "+------------+---------------------------+--------------------+--------------------+--------------------+------------+--------------------+---------------+--------------------+--------------------+-------------+--------+--------------+-------------+------------+-----------+-----------------------+------------------------+----------------+--------------+--------------+---------------+\n",
      "only showing top 1 row\n",
      "\n"
     ]
    }
   ],
   "source": [
    "df.show(1)"
   ]
  },
  {
   "cell_type": "code",
   "execution_count": null,
   "metadata": {},
   "outputs": [],
   "source": [
    "del(df1, df2)"
   ]
  },
  {
   "cell_type": "code",
   "execution_count": 14,
   "metadata": {},
   "outputs": [],
   "source": [
    "def get_shape(dataframe):\n",
    "    row_count = dataframe.count()\n",
    "    column_count = len(dataframe.columns)\n",
    "    return (row_count, column_count)\n",
    "\n",
    "# Uso de la función get_shape con un DataFrame\n",
    "shape = get_shape(df)\n",
    "\n"
   ]
  },
  {
   "cell_type": "code",
   "execution_count": 15,
   "metadata": {},
   "outputs": [
    {
     "name": "stdout",
     "output_type": "stream",
     "text": [
      "(17614, 22)\n"
     ]
    }
   ],
   "source": [
    "shape = get_shape(df)\n",
    "print(shape)"
   ]
  },
  {
   "cell_type": "code",
   "execution_count": null,
   "metadata": {},
   "outputs": [],
   "source": [
    "df.filter(df['AUTORIZACION'] == 46857903).show(1)\n"
   ]
  },
  {
   "attachments": {},
   "cell_type": "markdown",
   "metadata": {},
   "source": [
    "# Preprocesamiento"
   ]
  },
  {
   "cell_type": "code",
   "execution_count": 42,
   "metadata": {},
   "outputs": [],
   "source": [
    "def clean_and_format_data(df):\n",
    "    # Eliminar espacios al final y al comienzo de Prestacion\n",
    "    df = df.withColumn('PRESTACION', F.trim(F.col('PRESTACION')))\n",
    "    \n",
    "    # Dar formato a Fechas de Servicio\n",
    "    df = df.withColumn('FECHASERVICIO', F.to_date(F.col('FECHASERVICIO')))\n",
    "    \n",
    "    # Obtener mes de fecha de servicio\n",
    "    df = df.withColumn('FECHASERVICIO_MONTH', F.date_format(F.col('FECHASERVICIO'), 'MMMM'))\n",
    "    df = df.withColumn('FECHASERVICIO_MONTH_NUMBER', F.month(F.col('FECHASERVICIO')))\n",
    "    \n",
    "    return df\n",
    "\n",
    "# Uso de la función\n",
    "df = clean_and_format_data(df)"
   ]
  },
  {
   "cell_type": "code",
   "execution_count": 43,
   "metadata": {},
   "outputs": [
    {
     "name": "stdout",
     "output_type": "stream",
     "text": [
      "+------------+---------------------------+--------------------+--------------------+-------------+------------+--------------------+---------------+--------------------+--------------------+-------------+--------+--------------+-------------+------------+-----------+-----------------------+------------------------+----------------+--------------+--------------+---------------+-------------------+--------------------------+\n",
      "|AUTORIZACION|CLIENTEAFILIADOBENEFICIARIO|          PRESTACION|           PRESTADOR|FECHASERVICIO|TIPOATENCION|       TIPOPRESTADOR|   ESPECIALIDAD|      TIPOPRESTACION|       SERVICIOSALUD|MONTOUNITARIO|CANTIDAD|MONTORECLAMADO|MONTOAJUSTADO|MONTOUSUARIO|MONTOCOPAGO|AUTORIZACIONRELACIONADA|TipoInstitucionPrestador|MONTOASEGURADORA|MONTOEXCEPCION|MONTOCONCESION|MONTOAUTORIZADO|FECHASERVICIO_MONTH|FECHASERVICIO_MONTH_NUMBER|\n",
      "+------------+---------------------------+--------------------+--------------------+-------------+------------+--------------------+---------------+--------------------+--------------------+-------------+--------+--------------+-------------+------------+-----------+-----------------------+------------------------+----------------+--------------+--------------+---------------+-------------------+--------------------------+\n",
      "|    42316928|                  N-2124705|MATERIALES DESECH...|MELOSA CLINICA BR...|   2021-01-01| AMBULATORIA|CLINICAS, HOSPITA...|CENTROS MEDICOS|SERVICIOS ESPECIA...|EMERGENCIA TRIAGE...|        12.12|       1|         12.12|          0.0|         0.0|        0.0|                   null|         CENTROS MÉDICOS|           12.12|           0.0|           0.0|          12.12|            January|                         1|\n",
      "+------------+---------------------------+--------------------+--------------------+-------------+------------+--------------------+---------------+--------------------+--------------------+-------------+--------+--------------+-------------+------------+-----------+-----------------------+------------------------+----------------+--------------+--------------+---------------+-------------------+--------------------------+\n",
      "only showing top 1 row\n",
      "\n"
     ]
    }
   ],
   "source": [
    "df.show(1)"
   ]
  },
  {
   "cell_type": "code",
   "execution_count": null,
   "metadata": {},
   "outputs": [],
   "source": [
    "shape = get_shape(df)\n",
    "print(shape)"
   ]
  },
  {
   "cell_type": "code",
   "execution_count": null,
   "metadata": {},
   "outputs": [],
   "source": [
    "df.filter(df['AUTORIZACION'] == 46857903).show(1)"
   ]
  },
  {
   "cell_type": "code",
   "execution_count": 46,
   "metadata": {},
   "outputs": [
    {
     "name": "stdout",
     "output_type": "stream",
     "text": [
      "<class 'pyspark.sql.dataframe.DataFrame'>\n"
     ]
    }
   ],
   "source": [
    "dftest = df.alias(\"dftest\")\n",
    "print(type(dftest))"
   ]
  },
  {
   "cell_type": "code",
   "execution_count": 44,
   "metadata": {},
   "outputs": [],
   "source": [
    "def diferencia_montos(df):\n",
    "    df = df.withColumn('DIFERENCIA_MONTO_RECLAMADO_AUTORIZADO', df['MONTORECLAMADO'] - df['MONTOAUTORIZADO'])\n",
    "    df = df.withColumn('DIFERENCIA_MONTO_RECLAMADO_AUTORIZADO_USUARIO', df['MONTORECLAMADO'] - (df['MONTOAUTORIZADO'] + df['MONTOUSUARIO']))\n",
    "    df = df.withColumn('MONTOAJUSTADO_ABS', abs(df['MONTOAJUSTADO']))\n",
    "    df = df.withColumn('MONTOCONCESION_ABS', abs(df['MONTOCONCESION']))\n",
    "    df = df.withColumn('DIFERENCIA_ABSOLUTA_MONTO_RECLAMADO_AUTORIZADO', abs(df['DIFERENCIA_MONTO_RECLAMADO_AUTORIZADO']))\n",
    "    return df\n",
    "\n"
   ]
  },
  {
   "cell_type": "code",
   "execution_count": 47,
   "metadata": {},
   "outputs": [
    {
     "name": "stdout",
     "output_type": "stream",
     "text": [
      "+------------+---------------------------+--------------------+--------------------+-------------+------------+--------------------+---------------+--------------------+--------------------+-------------+--------+--------------+-------------+------------+-----------+-----------------------+------------------------+----------------+--------------+--------------+---------------+-------------------+--------------------------+\n",
      "|AUTORIZACION|CLIENTEAFILIADOBENEFICIARIO|          PRESTACION|           PRESTADOR|FECHASERVICIO|TIPOATENCION|       TIPOPRESTADOR|   ESPECIALIDAD|      TIPOPRESTACION|       SERVICIOSALUD|MONTOUNITARIO|CANTIDAD|MONTORECLAMADO|MONTOAJUSTADO|MONTOUSUARIO|MONTOCOPAGO|AUTORIZACIONRELACIONADA|TipoInstitucionPrestador|MONTOASEGURADORA|MONTOEXCEPCION|MONTOCONCESION|MONTOAUTORIZADO|FECHASERVICIO_MONTH|FECHASERVICIO_MONTH_NUMBER|\n",
      "+------------+---------------------------+--------------------+--------------------+-------------+------------+--------------------+---------------+--------------------+--------------------+-------------+--------+--------------+-------------+------------+-----------+-----------------------+------------------------+----------------+--------------+--------------+---------------+-------------------+--------------------------+\n",
      "|    42316928|                  N-2124705|MATERIALES DESECH...|MELOSA CLINICA BR...|   2021-01-01| AMBULATORIA|CLINICAS, HOSPITA...|CENTROS MEDICOS|SERVICIOS ESPECIA...|EMERGENCIA TRIAGE...|        12.12|       1|         12.12|          0.0|         0.0|        0.0|                   null|         CENTROS MÉDICOS|           12.12|           0.0|           0.0|          12.12|            January|                         1|\n",
      "+------------+---------------------------+--------------------+--------------------+-------------+------------+--------------------+---------------+--------------------+--------------------+-------------+--------+--------------+-------------+------------+-----------+-----------------------+------------------------+----------------+--------------+--------------+---------------+-------------------+--------------------------+\n",
      "only showing top 1 row\n",
      "\n"
     ]
    }
   ],
   "source": [
    "dftest.show(1)"
   ]
  },
  {
   "cell_type": "code",
   "execution_count": 48,
   "metadata": {},
   "outputs": [],
   "source": [
    "dftest = diferencia_montos(dftest)"
   ]
  },
  {
   "cell_type": "code",
   "execution_count": null,
   "metadata": {},
   "outputs": [],
   "source": [
    "shape = get_shape(dftest)\n",
    "print(shape)"
   ]
  },
  {
   "cell_type": "code",
   "execution_count": 49,
   "metadata": {},
   "outputs": [
    {
     "name": "stdout",
     "output_type": "stream",
     "text": [
      "+------------+---------------------------+--------------------+--------------------+-------------+------------+--------------------+---------------+--------------------+--------------------+-------------+--------+--------------+-------------+------------+-----------+-----------------------+------------------------+----------------+--------------+--------------+---------------+-------------------+--------------------------+-------------------------------------+---------------------------------------------+-----------------+------------------+----------------------------------------------+\n",
      "|AUTORIZACION|CLIENTEAFILIADOBENEFICIARIO|          PRESTACION|           PRESTADOR|FECHASERVICIO|TIPOATENCION|       TIPOPRESTADOR|   ESPECIALIDAD|      TIPOPRESTACION|       SERVICIOSALUD|MONTOUNITARIO|CANTIDAD|MONTORECLAMADO|MONTOAJUSTADO|MONTOUSUARIO|MONTOCOPAGO|AUTORIZACIONRELACIONADA|TipoInstitucionPrestador|MONTOASEGURADORA|MONTOEXCEPCION|MONTOCONCESION|MONTOAUTORIZADO|FECHASERVICIO_MONTH|FECHASERVICIO_MONTH_NUMBER|DIFERENCIA_MONTO_RECLAMADO_AUTORIZADO|DIFERENCIA_MONTO_RECLAMADO_AUTORIZADO_USUARIO|MONTOAJUSTADO_ABS|MONTOCONCESION_ABS|DIFERENCIA_ABSOLUTA_MONTO_RECLAMADO_AUTORIZADO|\n",
      "+------------+---------------------------+--------------------+--------------------+-------------+------------+--------------------+---------------+--------------------+--------------------+-------------+--------+--------------+-------------+------------+-----------+-----------------------+------------------------+----------------+--------------+--------------+---------------+-------------------+--------------------------+-------------------------------------+---------------------------------------------+-----------------+------------------+----------------------------------------------+\n",
      "|    42316928|                  N-2124705|MATERIALES DESECH...|MELOSA CLINICA BR...|   2021-01-01| AMBULATORIA|CLINICAS, HOSPITA...|CENTROS MEDICOS|SERVICIOS ESPECIA...|EMERGENCIA TRIAGE...|        12.12|       1|         12.12|          0.0|         0.0|        0.0|                   null|         CENTROS MÉDICOS|           12.12|           0.0|           0.0|          12.12|            January|                         1|                                  0.0|                                          0.0|              0.0|               0.0|                                           0.0|\n",
      "+------------+---------------------------+--------------------+--------------------+-------------+------------+--------------------+---------------+--------------------+--------------------+-------------+--------+--------------+-------------+------------+-----------+-----------------------+------------------------+----------------+--------------+--------------+---------------+-------------------+--------------------------+-------------------------------------+---------------------------------------------+-----------------+------------------+----------------------------------------------+\n",
      "only showing top 1 row\n",
      "\n"
     ]
    }
   ],
   "source": [
    "dftest.show(1)"
   ]
  },
  {
   "cell_type": "code",
   "execution_count": 50,
   "metadata": {},
   "outputs": [],
   "source": [
    "def calcular_fechas_1(df, salas_list):\n",
    "    # Calcular Dias de habitación\n",
    "    df = df.withColumn('DIAS_HABITACION', F.when(F.col('PRESTACION').isin(salas_list), F.col('CANTIDAD')).otherwise(None))\n",
    "    \n",
    "    # Calcular la fecha de fin de servicio\n",
    "    def calculate_end_date(start_date, dias_habitacion):\n",
    "        if dias_habitacion is None:\n",
    "            return None\n",
    "        else:\n",
    "            end_date = start_date + datetime.timedelta(days=dias_habitacion)\n",
    "            return end_date\n",
    "\n",
    "    # Convertir la función de Python a una función de PySpark\n",
    "    calculate_end_date_udf = F.udf(calculate_end_date, DateType())\n",
    "\n",
    "    # Aplicar la función UDF a las columnas correspondientes y crear una nueva columna \"FECHASERVICIO_FIN\"\n",
    "    df = df.withColumn('FECHASERVICIO_FIN', calculate_end_date_udf(F.col('FECHASERVICIO'), F.col('CANTIDAD')))\n",
    "\n",
    "    return df"
   ]
  },
  {
   "cell_type": "code",
   "execution_count": 51,
   "metadata": {},
   "outputs": [],
   "source": [
    "dftest = calcular_fechas_1(dftest, salas_list)"
   ]
  },
  {
   "cell_type": "code",
   "execution_count": 52,
   "metadata": {},
   "outputs": [
    {
     "name": "stdout",
     "output_type": "stream",
     "text": [
      "+------------+---------------------------+--------------------+--------------------+-------------+------------+--------------------+---------------+--------------------+--------------------+-------------+--------+--------------+-------------+------------+-----------+-----------------------+------------------------+----------------+--------------+--------------+---------------+-------------------+--------------------------+-------------------------------------+---------------------------------------------+-----------------+------------------+----------------------------------------------+---------------+-----------------+\n",
      "|AUTORIZACION|CLIENTEAFILIADOBENEFICIARIO|          PRESTACION|           PRESTADOR|FECHASERVICIO|TIPOATENCION|       TIPOPRESTADOR|   ESPECIALIDAD|      TIPOPRESTACION|       SERVICIOSALUD|MONTOUNITARIO|CANTIDAD|MONTORECLAMADO|MONTOAJUSTADO|MONTOUSUARIO|MONTOCOPAGO|AUTORIZACIONRELACIONADA|TipoInstitucionPrestador|MONTOASEGURADORA|MONTOEXCEPCION|MONTOCONCESION|MONTOAUTORIZADO|FECHASERVICIO_MONTH|FECHASERVICIO_MONTH_NUMBER|DIFERENCIA_MONTO_RECLAMADO_AUTORIZADO|DIFERENCIA_MONTO_RECLAMADO_AUTORIZADO_USUARIO|MONTOAJUSTADO_ABS|MONTOCONCESION_ABS|DIFERENCIA_ABSOLUTA_MONTO_RECLAMADO_AUTORIZADO|DIAS_HABITACION|FECHASERVICIO_FIN|\n",
      "+------------+---------------------------+--------------------+--------------------+-------------+------------+--------------------+---------------+--------------------+--------------------+-------------+--------+--------------+-------------+------------+-----------+-----------------------+------------------------+----------------+--------------+--------------+---------------+-------------------+--------------------------+-------------------------------------+---------------------------------------------+-----------------+------------------+----------------------------------------------+---------------+-----------------+\n",
      "|    42316928|                  N-2124705|MATERIALES DESECH...|MELOSA CLINICA BR...|   2021-01-01| AMBULATORIA|CLINICAS, HOSPITA...|CENTROS MEDICOS|SERVICIOS ESPECIA...|EMERGENCIA TRIAGE...|        12.12|       1|         12.12|          0.0|         0.0|        0.0|                   null|         CENTROS MÉDICOS|           12.12|           0.0|           0.0|          12.12|            January|                         1|                                  0.0|                                          0.0|              0.0|               0.0|                                           0.0|           null|       2021-01-02|\n",
      "+------------+---------------------------+--------------------+--------------------+-------------+------------+--------------------+---------------+--------------------+--------------------+-------------+--------+--------------+-------------+------------+-----------+-----------------------+------------------------+----------------+--------------+--------------+---------------+-------------------+--------------------------+-------------------------------------+---------------------------------------------+-----------------+------------------+----------------------------------------------+---------------+-----------------+\n",
      "only showing top 1 row\n",
      "\n"
     ]
    }
   ],
   "source": [
    "dftest.show(1)"
   ]
  },
  {
   "cell_type": "code",
   "execution_count": null,
   "metadata": {},
   "outputs": [],
   "source": [
    "shape = get_shape(dftest)\n",
    "print(shape)"
   ]
  },
  {
   "cell_type": "code",
   "execution_count": 53,
   "metadata": {},
   "outputs": [],
   "source": [
    "def tipo_especialidad(df, especialidades_claves):\n",
    "    df = df.withColumn('TIPO_ESPECIALIDAD', F.when(F.col('ESPECIALIDAD').isin(especialidades_claves), F.col('ESPECIALIDAD')).otherwise('OTROS'))\n",
    "    return df\n",
    "\n",
    "# Uso de la función\n",
    "especialidades_claves = [\n",
    "    'CENTROS MEDICOS',\n",
    "    'ATENCION FARMACEUTICA', \n",
    "    'CTROS. DIAGNOSTICOS',\n",
    "    'MEDICINA FISICA Y REHABILITACION', \n",
    "    'LABORATORIO CLINICO DE HEMATOLOGIA Y BAN',\n",
    "]\n",
    "dftest = tipo_especialidad(dftest, especialidades_claves)\n",
    "\n"
   ]
  },
  {
   "cell_type": "code",
   "execution_count": 54,
   "metadata": {},
   "outputs": [
    {
     "name": "stdout",
     "output_type": "stream",
     "text": [
      "+------------+---------------------------+--------------------+--------------------+-------------+------------+--------------------+---------------+--------------------+--------------------+-------------+--------+--------------+-------------+------------+-----------+-----------------------+------------------------+----------------+--------------+--------------+---------------+-------------------+--------------------------+-------------------------------------+---------------------------------------------+-----------------+------------------+----------------------------------------------+---------------+-----------------+-----------------+\n",
      "|AUTORIZACION|CLIENTEAFILIADOBENEFICIARIO|          PRESTACION|           PRESTADOR|FECHASERVICIO|TIPOATENCION|       TIPOPRESTADOR|   ESPECIALIDAD|      TIPOPRESTACION|       SERVICIOSALUD|MONTOUNITARIO|CANTIDAD|MONTORECLAMADO|MONTOAJUSTADO|MONTOUSUARIO|MONTOCOPAGO|AUTORIZACIONRELACIONADA|TipoInstitucionPrestador|MONTOASEGURADORA|MONTOEXCEPCION|MONTOCONCESION|MONTOAUTORIZADO|FECHASERVICIO_MONTH|FECHASERVICIO_MONTH_NUMBER|DIFERENCIA_MONTO_RECLAMADO_AUTORIZADO|DIFERENCIA_MONTO_RECLAMADO_AUTORIZADO_USUARIO|MONTOAJUSTADO_ABS|MONTOCONCESION_ABS|DIFERENCIA_ABSOLUTA_MONTO_RECLAMADO_AUTORIZADO|DIAS_HABITACION|FECHASERVICIO_FIN|TIPO_ESPECIALIDAD|\n",
      "+------------+---------------------------+--------------------+--------------------+-------------+------------+--------------------+---------------+--------------------+--------------------+-------------+--------+--------------+-------------+------------+-----------+-----------------------+------------------------+----------------+--------------+--------------+---------------+-------------------+--------------------------+-------------------------------------+---------------------------------------------+-----------------+------------------+----------------------------------------------+---------------+-----------------+-----------------+\n",
      "|    42316928|                  N-2124705|MATERIALES DESECH...|MELOSA CLINICA BR...|   2021-01-01| AMBULATORIA|CLINICAS, HOSPITA...|CENTROS MEDICOS|SERVICIOS ESPECIA...|EMERGENCIA TRIAGE...|        12.12|       1|         12.12|          0.0|         0.0|        0.0|                   null|         CENTROS MÉDICOS|           12.12|           0.0|           0.0|          12.12|            January|                         1|                                  0.0|                                          0.0|              0.0|               0.0|                                           0.0|           null|       2021-01-02|  CENTROS MEDICOS|\n",
      "+------------+---------------------------+--------------------+--------------------+-------------+------------+--------------------+---------------+--------------------+--------------------+-------------+--------+--------------+-------------+------------+-----------+-----------------------+------------------------+----------------+--------------+--------------+---------------+-------------------+--------------------------+-------------------------------------+---------------------------------------------+-----------------+------------------+----------------------------------------------+---------------+-----------------+-----------------+\n",
      "only showing top 1 row\n",
      "\n"
     ]
    }
   ],
   "source": [
    "dftest.show(1)"
   ]
  },
  {
   "cell_type": "code",
   "execution_count": null,
   "metadata": {},
   "outputs": [],
   "source": [
    "shape = get_shape(dftest)\n",
    "print(shape)"
   ]
  },
  {
   "cell_type": "code",
   "execution_count": 55,
   "metadata": {},
   "outputs": [],
   "source": [
    "def alertas_montos_1(df):\n",
    "    df = df.withColumn('ERROR_MONTO_RECLAMADO', when(col('DIFERENCIA_MONTO_RECLAMADO_AUTORIZADO_USUARIO') != 0, 1).otherwise(0)) \\\n",
    "           .withColumn('TIENE_MONTO_EXCEPCION', when(abs(col('MONTOEXCEPCION')) > 0, 1).otherwise(0)) \\\n",
    "           .withColumn('ERROR_MONTO_AUTORIZADO2', when(abs(col('MONTOAUTORIZADO') - col('MONTOASEGURADORA') - col('MONTOCONCESION') - col('MONTOEXCEPCION')) > 0.1, 1).otherwise(0)) \\\n",
    "           .withColumn('ERROR_CONSECION', when(col('MONTOCONCESION_ABS') > 0.2 * col('MONTOAUTORIZADO'), 1).otherwise(0)) \\\n",
    "           .withColumn('ERROR_MONTO_AUTORIZADO1', when(col('MONTOAUTORIZADO') > col('MONTORECLAMADO'), 1).otherwise(0))\n",
    "    \n",
    "    return df\n",
    "\n",
    "# Uso de la función\n",
    "dftest = alertas_montos_1(dftest)\n"
   ]
  },
  {
   "cell_type": "code",
   "execution_count": 56,
   "metadata": {},
   "outputs": [],
   "source": [
    "# Uso de la función\n",
    "dftest = alertas_montos_1(dftest)"
   ]
  },
  {
   "cell_type": "code",
   "execution_count": 57,
   "metadata": {},
   "outputs": [
    {
     "name": "stdout",
     "output_type": "stream",
     "text": [
      "+------------+---------------------------+--------------------+--------------------+-------------+------------+--------------------+---------------+--------------------+--------------------+-------------+--------+--------------+-------------+------------+-----------+-----------------------+------------------------+----------------+--------------+--------------+---------------+-------------------+--------------------------+-------------------------------------+---------------------------------------------+-----------------+------------------+----------------------------------------------+---------------+-----------------+-----------------+---------------------+---------------------+-----------------------+---------------+-----------------------+\n",
      "|AUTORIZACION|CLIENTEAFILIADOBENEFICIARIO|          PRESTACION|           PRESTADOR|FECHASERVICIO|TIPOATENCION|       TIPOPRESTADOR|   ESPECIALIDAD|      TIPOPRESTACION|       SERVICIOSALUD|MONTOUNITARIO|CANTIDAD|MONTORECLAMADO|MONTOAJUSTADO|MONTOUSUARIO|MONTOCOPAGO|AUTORIZACIONRELACIONADA|TipoInstitucionPrestador|MONTOASEGURADORA|MONTOEXCEPCION|MONTOCONCESION|MONTOAUTORIZADO|FECHASERVICIO_MONTH|FECHASERVICIO_MONTH_NUMBER|DIFERENCIA_MONTO_RECLAMADO_AUTORIZADO|DIFERENCIA_MONTO_RECLAMADO_AUTORIZADO_USUARIO|MONTOAJUSTADO_ABS|MONTOCONCESION_ABS|DIFERENCIA_ABSOLUTA_MONTO_RECLAMADO_AUTORIZADO|DIAS_HABITACION|FECHASERVICIO_FIN|TIPO_ESPECIALIDAD|ERROR_MONTO_RECLAMADO|TIENE_MONTO_EXCEPCION|ERROR_MONTO_AUTORIZADO2|ERROR_CONSECION|ERROR_MONTO_AUTORIZADO1|\n",
      "+------------+---------------------------+--------------------+--------------------+-------------+------------+--------------------+---------------+--------------------+--------------------+-------------+--------+--------------+-------------+------------+-----------+-----------------------+------------------------+----------------+--------------+--------------+---------------+-------------------+--------------------------+-------------------------------------+---------------------------------------------+-----------------+------------------+----------------------------------------------+---------------+-----------------+-----------------+---------------------+---------------------+-----------------------+---------------+-----------------------+\n",
      "|    42316928|                  N-2124705|MATERIALES DESECH...|MELOSA CLINICA BR...|   2021-01-01| AMBULATORIA|CLINICAS, HOSPITA...|CENTROS MEDICOS|SERVICIOS ESPECIA...|EMERGENCIA TRIAGE...|        12.12|       1|         12.12|          0.0|         0.0|        0.0|                   null|         CENTROS MÉDICOS|           12.12|           0.0|           0.0|          12.12|            January|                         1|                                  0.0|                                          0.0|              0.0|               0.0|                                           0.0|           null|       2021-01-02|  CENTROS MEDICOS|                    0|                    0|                      0|              0|                      0|\n",
      "+------------+---------------------------+--------------------+--------------------+-------------+------------+--------------------+---------------+--------------------+--------------------+-------------+--------+--------------+-------------+------------+-----------+-----------------------+------------------------+----------------+--------------+--------------+---------------+-------------------+--------------------------+-------------------------------------+---------------------------------------------+-----------------+------------------+----------------------------------------------+---------------+-----------------+-----------------+---------------------+---------------------+-----------------------+---------------+-----------------------+\n",
      "only showing top 1 row\n",
      "\n"
     ]
    }
   ],
   "source": [
    "dftest.show(1)"
   ]
  },
  {
   "cell_type": "code",
   "execution_count": null,
   "metadata": {},
   "outputs": [],
   "source": [
    "shape = get_shape(dftest)\n",
    "print(shape)"
   ]
  },
  {
   "cell_type": "code",
   "execution_count": 58,
   "metadata": {},
   "outputs": [],
   "source": [
    "def alertas_dias_habitacion(df):\n",
    "    # Alertas para Reglas de Negocio, relacionada a los dias de habitación\n",
    "    df = df.withColumn('LIM_2_DIAS_HABITACION_EXCEDIDO', when(col('DIAS_HABITACION') > 2, 1).otherwise(0)) \\\n",
    "           .withColumn('LIM_6_DIAS_HABITACION_EXCEDIDO', when(col('DIAS_HABITACION') > 6, 1).otherwise(0))\n",
    "    \n",
    "    return df"
   ]
  },
  {
   "cell_type": "code",
   "execution_count": 59,
   "metadata": {},
   "outputs": [
    {
     "name": "stdout",
     "output_type": "stream",
     "text": [
      "+------------+---------------------------+--------------------+--------------------+-------------+------------+--------------------+---------------+--------------------+--------------------+-------------+--------+--------------+-------------+------------+-----------+-----------------------+------------------------+----------------+--------------+--------------+---------------+-------------------+--------------------------+-------------------------------------+---------------------------------------------+-----------------+------------------+----------------------------------------------+---------------+-----------------+-----------------+---------------------+---------------------+-----------------------+---------------+-----------------------+------------------------------+------------------------------+\n",
      "|AUTORIZACION|CLIENTEAFILIADOBENEFICIARIO|          PRESTACION|           PRESTADOR|FECHASERVICIO|TIPOATENCION|       TIPOPRESTADOR|   ESPECIALIDAD|      TIPOPRESTACION|       SERVICIOSALUD|MONTOUNITARIO|CANTIDAD|MONTORECLAMADO|MONTOAJUSTADO|MONTOUSUARIO|MONTOCOPAGO|AUTORIZACIONRELACIONADA|TipoInstitucionPrestador|MONTOASEGURADORA|MONTOEXCEPCION|MONTOCONCESION|MONTOAUTORIZADO|FECHASERVICIO_MONTH|FECHASERVICIO_MONTH_NUMBER|DIFERENCIA_MONTO_RECLAMADO_AUTORIZADO|DIFERENCIA_MONTO_RECLAMADO_AUTORIZADO_USUARIO|MONTOAJUSTADO_ABS|MONTOCONCESION_ABS|DIFERENCIA_ABSOLUTA_MONTO_RECLAMADO_AUTORIZADO|DIAS_HABITACION|FECHASERVICIO_FIN|TIPO_ESPECIALIDAD|ERROR_MONTO_RECLAMADO|TIENE_MONTO_EXCEPCION|ERROR_MONTO_AUTORIZADO2|ERROR_CONSECION|ERROR_MONTO_AUTORIZADO1|LIM_2_DIAS_HABITACION_EXCEDIDO|LIM_6_DIAS_HABITACION_EXCEDIDO|\n",
      "+------------+---------------------------+--------------------+--------------------+-------------+------------+--------------------+---------------+--------------------+--------------------+-------------+--------+--------------+-------------+------------+-----------+-----------------------+------------------------+----------------+--------------+--------------+---------------+-------------------+--------------------------+-------------------------------------+---------------------------------------------+-----------------+------------------+----------------------------------------------+---------------+-----------------+-----------------+---------------------+---------------------+-----------------------+---------------+-----------------------+------------------------------+------------------------------+\n",
      "|    42316928|                  N-2124705|MATERIALES DESECH...|MELOSA CLINICA BR...|   2021-01-01| AMBULATORIA|CLINICAS, HOSPITA...|CENTROS MEDICOS|SERVICIOS ESPECIA...|EMERGENCIA TRIAGE...|        12.12|       1|         12.12|          0.0|         0.0|        0.0|                   null|         CENTROS MÉDICOS|           12.12|           0.0|           0.0|          12.12|            January|                         1|                                  0.0|                                          0.0|              0.0|               0.0|                                           0.0|           null|       2021-01-02|  CENTROS MEDICOS|                    0|                    0|                      0|              0|                      0|                             0|                             0|\n",
      "+------------+---------------------------+--------------------+--------------------+-------------+------------+--------------------+---------------+--------------------+--------------------+-------------+--------+--------------+-------------+------------+-----------+-----------------------+------------------------+----------------+--------------+--------------+---------------+-------------------+--------------------------+-------------------------------------+---------------------------------------------+-----------------+------------------+----------------------------------------------+---------------+-----------------+-----------------+---------------------+---------------------+-----------------------+---------------+-----------------------+------------------------------+------------------------------+\n",
      "only showing top 1 row\n",
      "\n"
     ]
    }
   ],
   "source": [
    "dftest = alertas_dias_habitacion(dftest)\n",
    "dftest.show(1)"
   ]
  },
  {
   "cell_type": "code",
   "execution_count": null,
   "metadata": {},
   "outputs": [],
   "source": [
    "shape = get_shape(dftest)\n",
    "print(shape)"
   ]
  },
  {
   "cell_type": "code",
   "execution_count": 60,
   "metadata": {},
   "outputs": [],
   "source": [
    "def indicadores_de_atencion(df):\n",
    "    df = df.withColumn('ATENCION_AMBULATORIA', when(col('TIPOATENCION') == 'AMBULATORIA', 1).otherwise(0)) \\\n",
    "           .withColumn('ATENCION_HOSPITALARIA', when(col('TIPOATENCION') == 'HOSPITALARIA', 1).otherwise(0))\n",
    "    \n",
    "    return df"
   ]
  },
  {
   "cell_type": "code",
   "execution_count": 61,
   "metadata": {},
   "outputs": [],
   "source": [
    "dftest = indicadores_de_atencion(dftest)"
   ]
  },
  {
   "cell_type": "code",
   "execution_count": null,
   "metadata": {},
   "outputs": [],
   "source": [
    "shape = get_shape(dftest)\n",
    "print(shape)"
   ]
  },
  {
   "cell_type": "code",
   "execution_count": 62,
   "metadata": {},
   "outputs": [
    {
     "name": "stdout",
     "output_type": "stream",
     "text": [
      "+------------+---------------------------+--------------------+--------------------+-------------+------------+--------------------+---------------+--------------------+--------------------+-------------+--------+--------------+-------------+------------+-----------+-----------------------+------------------------+----------------+--------------+--------------+---------------+-------------------+--------------------------+-------------------------------------+---------------------------------------------+-----------------+------------------+----------------------------------------------+---------------+-----------------+-----------------+---------------------+---------------------+-----------------------+---------------+-----------------------+------------------------------+------------------------------+--------------------+---------------------+\n",
      "|AUTORIZACION|CLIENTEAFILIADOBENEFICIARIO|          PRESTACION|           PRESTADOR|FECHASERVICIO|TIPOATENCION|       TIPOPRESTADOR|   ESPECIALIDAD|      TIPOPRESTACION|       SERVICIOSALUD|MONTOUNITARIO|CANTIDAD|MONTORECLAMADO|MONTOAJUSTADO|MONTOUSUARIO|MONTOCOPAGO|AUTORIZACIONRELACIONADA|TipoInstitucionPrestador|MONTOASEGURADORA|MONTOEXCEPCION|MONTOCONCESION|MONTOAUTORIZADO|FECHASERVICIO_MONTH|FECHASERVICIO_MONTH_NUMBER|DIFERENCIA_MONTO_RECLAMADO_AUTORIZADO|DIFERENCIA_MONTO_RECLAMADO_AUTORIZADO_USUARIO|MONTOAJUSTADO_ABS|MONTOCONCESION_ABS|DIFERENCIA_ABSOLUTA_MONTO_RECLAMADO_AUTORIZADO|DIAS_HABITACION|FECHASERVICIO_FIN|TIPO_ESPECIALIDAD|ERROR_MONTO_RECLAMADO|TIENE_MONTO_EXCEPCION|ERROR_MONTO_AUTORIZADO2|ERROR_CONSECION|ERROR_MONTO_AUTORIZADO1|LIM_2_DIAS_HABITACION_EXCEDIDO|LIM_6_DIAS_HABITACION_EXCEDIDO|ATENCION_AMBULATORIA|ATENCION_HOSPITALARIA|\n",
      "+------------+---------------------------+--------------------+--------------------+-------------+------------+--------------------+---------------+--------------------+--------------------+-------------+--------+--------------+-------------+------------+-----------+-----------------------+------------------------+----------------+--------------+--------------+---------------+-------------------+--------------------------+-------------------------------------+---------------------------------------------+-----------------+------------------+----------------------------------------------+---------------+-----------------+-----------------+---------------------+---------------------+-----------------------+---------------+-----------------------+------------------------------+------------------------------+--------------------+---------------------+\n",
      "|    42316928|                  N-2124705|MATERIALES DESECH...|MELOSA CLINICA BR...|   2021-01-01| AMBULATORIA|CLINICAS, HOSPITA...|CENTROS MEDICOS|SERVICIOS ESPECIA...|EMERGENCIA TRIAGE...|        12.12|       1|         12.12|          0.0|         0.0|        0.0|                   null|         CENTROS MÉDICOS|           12.12|           0.0|           0.0|          12.12|            January|                         1|                                  0.0|                                          0.0|              0.0|               0.0|                                           0.0|           null|       2021-01-02|  CENTROS MEDICOS|                    0|                    0|                      0|              0|                      0|                             0|                             0|                   1|                    0|\n",
      "+------------+---------------------------+--------------------+--------------------+-------------+------------+--------------------+---------------+--------------------+--------------------+-------------+--------+--------------+-------------+------------+-----------+-----------------------+------------------------+----------------+--------------+--------------+---------------+-------------------+--------------------------+-------------------------------------+---------------------------------------------+-----------------+------------------+----------------------------------------------+---------------+-----------------+-----------------+---------------------+---------------------+-----------------------+---------------+-----------------------+------------------------------+------------------------------+--------------------+---------------------+\n",
      "only showing top 1 row\n",
      "\n"
     ]
    }
   ],
   "source": [
    "dftest.show(1)"
   ]
  },
  {
   "cell_type": "code",
   "execution_count": 63,
   "metadata": {},
   "outputs": [],
   "source": [
    "def indicadores_de_prestador(df):\n",
    "    df = df.withColumn('CENTROS_MEDICOS', when(col('TIPO_ESPECIALIDAD') == 'CENTROS MEDICOS', 1).otherwise(0)) \\\n",
    "           .withColumn('CENTRO_DIAGNOSTICO', when(col('TIPO_ESPECIALIDAD') == 'CTROS. DIAGNOSTICOS', 1).otherwise(0)) \\\n",
    "           .withColumn('LABORATORIO_CLINICO', when(col('TIPO_ESPECIALIDAD') == 'LABORATORIO CLINICO DE HEMATOLOGIA Y BAN', 1).otherwise(0)) \\\n",
    "           .withColumn('ATENCION_FARMACEUTICA', when(col('TIPO_ESPECIALIDAD') == 'ATENCION FARMACEUTICA', 1).otherwise(0)) \\\n",
    "           .withColumn('OTRA_ESPECIALIDAD', when(col('TIPO_ESPECIALIDAD') == 'OTROS', 1).otherwise(0)) \\\n",
    "           .withColumn('MEDICO_ESPECIALISTA', when(col('TIPOPRESTADOR') == 'MEDICOS Y/O ESPECIALISTAS', 1).otherwise(0)) \\\n",
    "           .withColumn('ES_CONSULTA', when(col('PRESTACION').contains('CONSULTA'), 1).otherwise(0))\n",
    "    \n",
    "    return df"
   ]
  },
  {
   "cell_type": "code",
   "execution_count": 64,
   "metadata": {},
   "outputs": [],
   "source": [
    "dftest = indicadores_de_prestador(dftest)"
   ]
  },
  {
   "cell_type": "code",
   "execution_count": null,
   "metadata": {},
   "outputs": [],
   "source": [
    "shape = get_shape(dftest)\n",
    "print(shape)"
   ]
  },
  {
   "cell_type": "code",
   "execution_count": 65,
   "metadata": {},
   "outputs": [
    {
     "name": "stdout",
     "output_type": "stream",
     "text": [
      "+------------+---------------------------+--------------------+--------------------+-------------+------------+--------------------+---------------+--------------------+--------------------+-------------+--------+--------------+-------------+------------+-----------+-----------------------+------------------------+----------------+--------------+--------------+---------------+-------------------+--------------------------+-------------------------------------+---------------------------------------------+-----------------+------------------+----------------------------------------------+---------------+-----------------+-----------------+---------------------+---------------------+-----------------------+---------------+-----------------------+------------------------------+------------------------------+--------------------+---------------------+---------------+------------------+-------------------+---------------------+-----------------+-------------------+-----------+\n",
      "|AUTORIZACION|CLIENTEAFILIADOBENEFICIARIO|          PRESTACION|           PRESTADOR|FECHASERVICIO|TIPOATENCION|       TIPOPRESTADOR|   ESPECIALIDAD|      TIPOPRESTACION|       SERVICIOSALUD|MONTOUNITARIO|CANTIDAD|MONTORECLAMADO|MONTOAJUSTADO|MONTOUSUARIO|MONTOCOPAGO|AUTORIZACIONRELACIONADA|TipoInstitucionPrestador|MONTOASEGURADORA|MONTOEXCEPCION|MONTOCONCESION|MONTOAUTORIZADO|FECHASERVICIO_MONTH|FECHASERVICIO_MONTH_NUMBER|DIFERENCIA_MONTO_RECLAMADO_AUTORIZADO|DIFERENCIA_MONTO_RECLAMADO_AUTORIZADO_USUARIO|MONTOAJUSTADO_ABS|MONTOCONCESION_ABS|DIFERENCIA_ABSOLUTA_MONTO_RECLAMADO_AUTORIZADO|DIAS_HABITACION|FECHASERVICIO_FIN|TIPO_ESPECIALIDAD|ERROR_MONTO_RECLAMADO|TIENE_MONTO_EXCEPCION|ERROR_MONTO_AUTORIZADO2|ERROR_CONSECION|ERROR_MONTO_AUTORIZADO1|LIM_2_DIAS_HABITACION_EXCEDIDO|LIM_6_DIAS_HABITACION_EXCEDIDO|ATENCION_AMBULATORIA|ATENCION_HOSPITALARIA|CENTROS_MEDICOS|CENTRO_DIAGNOSTICO|LABORATORIO_CLINICO|ATENCION_FARMACEUTICA|OTRA_ESPECIALIDAD|MEDICO_ESPECIALISTA|ES_CONSULTA|\n",
      "+------------+---------------------------+--------------------+--------------------+-------------+------------+--------------------+---------------+--------------------+--------------------+-------------+--------+--------------+-------------+------------+-----------+-----------------------+------------------------+----------------+--------------+--------------+---------------+-------------------+--------------------------+-------------------------------------+---------------------------------------------+-----------------+------------------+----------------------------------------------+---------------+-----------------+-----------------+---------------------+---------------------+-----------------------+---------------+-----------------------+------------------------------+------------------------------+--------------------+---------------------+---------------+------------------+-------------------+---------------------+-----------------+-------------------+-----------+\n",
      "|    42316928|                  N-2124705|MATERIALES DESECH...|MELOSA CLINICA BR...|   2021-01-01| AMBULATORIA|CLINICAS, HOSPITA...|CENTROS MEDICOS|SERVICIOS ESPECIA...|EMERGENCIA TRIAGE...|        12.12|       1|         12.12|          0.0|         0.0|        0.0|                   null|         CENTROS MÉDICOS|           12.12|           0.0|           0.0|          12.12|            January|                         1|                                  0.0|                                          0.0|              0.0|               0.0|                                           0.0|           null|       2021-01-02|  CENTROS MEDICOS|                    0|                    0|                      0|              0|                      0|                             0|                             0|                   1|                    0|              1|                 0|                  0|                    0|                0|                  0|          0|\n",
      "+------------+---------------------------+--------------------+--------------------+-------------+------------+--------------------+---------------+--------------------+--------------------+-------------+--------+--------------+-------------+------------+-----------+-----------------------+------------------------+----------------+--------------+--------------+---------------+-------------------+--------------------------+-------------------------------------+---------------------------------------------+-----------------+------------------+----------------------------------------------+---------------+-----------------+-----------------+---------------------+---------------------+-----------------------+---------------+-----------------------+------------------------------+------------------------------+--------------------+---------------------+---------------+------------------+-------------------+---------------------+-----------------+-------------------+-----------+\n",
      "only showing top 1 row\n",
      "\n"
     ]
    }
   ],
   "source": [
    "dftest.show(1)"
   ]
  },
  {
   "cell_type": "code",
   "execution_count": 66,
   "metadata": {},
   "outputs": [],
   "source": [
    "def indicadores_de_procedimiento(df):\n",
    "    df = df.withColumn('OTROS_SERVICIOS', when(col('PRESTACION') == 'OTROS SERVICIOS NO CUBIERTOS', 1).otherwise(0)) \\\n",
    "           .withColumn('MEDICINAS_INTERNAMIENTO', when(col('PRESTACION') == 'Medicinas Durante Internamiento todo tipo', 1).otherwise(0)) \\\n",
    "           .withColumn('MATERIALES_DESECHABLES', when(col('PRESTACION') == 'MATERIALES DESECHABLES', 1).otherwise(0))\n",
    "    \n",
    "    return df\n",
    "\n",
    "def metricas(df):\n",
    "    df = df.withColumn('MONTO_USUARIO_PER_CAPITA', col('MONTOUSUARIO') / col('CANTIDAD')) \\\n",
    "           .withColumn('DIFERENCIA_RECLAMADO_AUTORIZADO', col('MONTORECLAMADO') - col('MONTOAUTORIZADO'))\n",
    "    \n",
    "    return df"
   ]
  },
  {
   "cell_type": "code",
   "execution_count": 67,
   "metadata": {},
   "outputs": [],
   "source": [
    "dftest = indicadores_de_procedimiento(dftest)\n",
    "dftest = metricas(dftest)"
   ]
  },
  {
   "cell_type": "code",
   "execution_count": null,
   "metadata": {},
   "outputs": [],
   "source": [
    "shape = get_shape(dftest)\n",
    "print(shape)"
   ]
  },
  {
   "cell_type": "code",
   "execution_count": 68,
   "metadata": {},
   "outputs": [
    {
     "name": "stdout",
     "output_type": "stream",
     "text": [
      "+------------+---------------------------+--------------------+--------------------+-------------+------------+--------------------+---------------+--------------------+--------------------+-------------+--------+--------------+-------------+------------+-----------+-----------------------+------------------------+----------------+--------------+--------------+---------------+-------------------+--------------------------+-------------------------------------+---------------------------------------------+-----------------+------------------+----------------------------------------------+---------------+-----------------+-----------------+---------------------+---------------------+-----------------------+---------------+-----------------------+------------------------------+------------------------------+--------------------+---------------------+---------------+------------------+-------------------+---------------------+-----------------+-------------------+-----------+---------------+-----------------------+----------------------+------------------------+-------------------------------+\n",
      "|AUTORIZACION|CLIENTEAFILIADOBENEFICIARIO|          PRESTACION|           PRESTADOR|FECHASERVICIO|TIPOATENCION|       TIPOPRESTADOR|   ESPECIALIDAD|      TIPOPRESTACION|       SERVICIOSALUD|MONTOUNITARIO|CANTIDAD|MONTORECLAMADO|MONTOAJUSTADO|MONTOUSUARIO|MONTOCOPAGO|AUTORIZACIONRELACIONADA|TipoInstitucionPrestador|MONTOASEGURADORA|MONTOEXCEPCION|MONTOCONCESION|MONTOAUTORIZADO|FECHASERVICIO_MONTH|FECHASERVICIO_MONTH_NUMBER|DIFERENCIA_MONTO_RECLAMADO_AUTORIZADO|DIFERENCIA_MONTO_RECLAMADO_AUTORIZADO_USUARIO|MONTOAJUSTADO_ABS|MONTOCONCESION_ABS|DIFERENCIA_ABSOLUTA_MONTO_RECLAMADO_AUTORIZADO|DIAS_HABITACION|FECHASERVICIO_FIN|TIPO_ESPECIALIDAD|ERROR_MONTO_RECLAMADO|TIENE_MONTO_EXCEPCION|ERROR_MONTO_AUTORIZADO2|ERROR_CONSECION|ERROR_MONTO_AUTORIZADO1|LIM_2_DIAS_HABITACION_EXCEDIDO|LIM_6_DIAS_HABITACION_EXCEDIDO|ATENCION_AMBULATORIA|ATENCION_HOSPITALARIA|CENTROS_MEDICOS|CENTRO_DIAGNOSTICO|LABORATORIO_CLINICO|ATENCION_FARMACEUTICA|OTRA_ESPECIALIDAD|MEDICO_ESPECIALISTA|ES_CONSULTA|OTROS_SERVICIOS|MEDICINAS_INTERNAMIENTO|MATERIALES_DESECHABLES|MONTO_USUARIO_PER_CAPITA|DIFERENCIA_RECLAMADO_AUTORIZADO|\n",
      "+------------+---------------------------+--------------------+--------------------+-------------+------------+--------------------+---------------+--------------------+--------------------+-------------+--------+--------------+-------------+------------+-----------+-----------------------+------------------------+----------------+--------------+--------------+---------------+-------------------+--------------------------+-------------------------------------+---------------------------------------------+-----------------+------------------+----------------------------------------------+---------------+-----------------+-----------------+---------------------+---------------------+-----------------------+---------------+-----------------------+------------------------------+------------------------------+--------------------+---------------------+---------------+------------------+-------------------+---------------------+-----------------+-------------------+-----------+---------------+-----------------------+----------------------+------------------------+-------------------------------+\n",
      "|    42316928|                  N-2124705|MATERIALES DESECH...|MELOSA CLINICA BR...|   2021-01-01| AMBULATORIA|CLINICAS, HOSPITA...|CENTROS MEDICOS|SERVICIOS ESPECIA...|EMERGENCIA TRIAGE...|        12.12|       1|         12.12|          0.0|         0.0|        0.0|                   null|         CENTROS MÉDICOS|           12.12|           0.0|           0.0|          12.12|            January|                         1|                                  0.0|                                          0.0|              0.0|               0.0|                                           0.0|           null|       2021-01-02|  CENTROS MEDICOS|                    0|                    0|                      0|              0|                      0|                             0|                             0|                   1|                    0|              1|                 0|                  0|                    0|                0|                  0|          0|              0|                      0|                     1|                     0.0|                            0.0|\n",
      "+------------+---------------------------+--------------------+--------------------+-------------+------------+--------------------+---------------+--------------------+--------------------+-------------+--------+--------------+-------------+------------+-----------+-----------------------+------------------------+----------------+--------------+--------------+---------------+-------------------+--------------------------+-------------------------------------+---------------------------------------------+-----------------+------------------+----------------------------------------------+---------------+-----------------+-----------------+---------------------+---------------------+-----------------------+---------------+-----------------------+------------------------------+------------------------------+--------------------+---------------------+---------------+------------------+-------------------+---------------------+-----------------+-------------------+-----------+---------------+-----------------------+----------------------+------------------------+-------------------------------+\n",
      "only showing top 1 row\n",
      "\n"
     ]
    }
   ],
   "source": [
    "dftest.show(1)"
   ]
  },
  {
   "cell_type": "code",
   "execution_count": null,
   "metadata": {},
   "outputs": [],
   "source": [
    "type(valores_referencia_cups_df)"
   ]
  },
  {
   "cell_type": "code",
   "execution_count": 69,
   "metadata": {},
   "outputs": [],
   "source": [
    "def calcular_prestaciones_excedidas(consolidated_df, valores_referencia_cups_df):\n",
    "    # Combinar los DataFrames en función de la columna 'PRESTACION' en consolidated_df\n",
    "    # y la columna 'cupsNombre' en valores_referencia_cups_df\n",
    "    merged_df = consolidated_df.join(\n",
    "        valores_referencia_cups_df.select(['cupsNombre', 'cupsMaxVecesDia']),\n",
    "        consolidated_df['PRESTACION'] == valores_referencia_cups_df['cupsNombre'],\n",
    "        how='left'\n",
    "    )\n",
    "\n",
    "    # Crear una nueva columna 'LIM_CANTIDAD_PRESTACION_EXCEDIDO' que es 1 si 'CANTIDAD'\n",
    "    # excede 'cupsMaxVecesDia' y 0 en caso contrario\n",
    "    merged_df = merged_df.withColumn(\n",
    "        'LIM_CANTIDAD_PRESTACION_EXCEDIDO',\n",
    "        when(col('CANTIDAD') > col('cupsMaxVecesDia'), 1).otherwise(0)\n",
    "    )\n",
    "\n",
    "    # Eliminar las columnas innecesarias del resultado\n",
    "    result_df = merged_df.drop('cupsMaxVecesDia', 'cupsNombre')\n",
    "    \n",
    "    return result_df"
   ]
  },
  {
   "cell_type": "code",
   "execution_count": 70,
   "metadata": {},
   "outputs": [],
   "source": [
    "dftest = calcular_prestaciones_excedidas(dftest, valores_referencia_cups_df)"
   ]
  },
  {
   "cell_type": "code",
   "execution_count": null,
   "metadata": {},
   "outputs": [],
   "source": [
    "shape = get_shape(dftest)\n",
    "print(shape)"
   ]
  },
  {
   "cell_type": "code",
   "execution_count": 71,
   "metadata": {},
   "outputs": [
    {
     "name": "stdout",
     "output_type": "stream",
     "text": [
      "+------------+---------------------------+--------------------+--------------------+-------------+------------+--------------------+---------------+--------------------+--------------------+-------------+--------+--------------+-------------+------------+-----------+-----------------------+------------------------+----------------+--------------+--------------+---------------+-------------------+--------------------------+-------------------------------------+---------------------------------------------+-----------------+------------------+----------------------------------------------+---------------+-----------------+-----------------+---------------------+---------------------+-----------------------+---------------+-----------------------+------------------------------+------------------------------+--------------------+---------------------+---------------+------------------+-------------------+---------------------+-----------------+-------------------+-----------+---------------+-----------------------+----------------------+------------------------+-------------------------------+--------------------------------+\n",
      "|AUTORIZACION|CLIENTEAFILIADOBENEFICIARIO|          PRESTACION|           PRESTADOR|FECHASERVICIO|TIPOATENCION|       TIPOPRESTADOR|   ESPECIALIDAD|      TIPOPRESTACION|       SERVICIOSALUD|MONTOUNITARIO|CANTIDAD|MONTORECLAMADO|MONTOAJUSTADO|MONTOUSUARIO|MONTOCOPAGO|AUTORIZACIONRELACIONADA|TipoInstitucionPrestador|MONTOASEGURADORA|MONTOEXCEPCION|MONTOCONCESION|MONTOAUTORIZADO|FECHASERVICIO_MONTH|FECHASERVICIO_MONTH_NUMBER|DIFERENCIA_MONTO_RECLAMADO_AUTORIZADO|DIFERENCIA_MONTO_RECLAMADO_AUTORIZADO_USUARIO|MONTOAJUSTADO_ABS|MONTOCONCESION_ABS|DIFERENCIA_ABSOLUTA_MONTO_RECLAMADO_AUTORIZADO|DIAS_HABITACION|FECHASERVICIO_FIN|TIPO_ESPECIALIDAD|ERROR_MONTO_RECLAMADO|TIENE_MONTO_EXCEPCION|ERROR_MONTO_AUTORIZADO2|ERROR_CONSECION|ERROR_MONTO_AUTORIZADO1|LIM_2_DIAS_HABITACION_EXCEDIDO|LIM_6_DIAS_HABITACION_EXCEDIDO|ATENCION_AMBULATORIA|ATENCION_HOSPITALARIA|CENTROS_MEDICOS|CENTRO_DIAGNOSTICO|LABORATORIO_CLINICO|ATENCION_FARMACEUTICA|OTRA_ESPECIALIDAD|MEDICO_ESPECIALISTA|ES_CONSULTA|OTROS_SERVICIOS|MEDICINAS_INTERNAMIENTO|MATERIALES_DESECHABLES|MONTO_USUARIO_PER_CAPITA|DIFERENCIA_RECLAMADO_AUTORIZADO|LIM_CANTIDAD_PRESTACION_EXCEDIDO|\n",
      "+------------+---------------------------+--------------------+--------------------+-------------+------------+--------------------+---------------+--------------------+--------------------+-------------+--------+--------------+-------------+------------+-----------+-----------------------+------------------------+----------------+--------------+--------------+---------------+-------------------+--------------------------+-------------------------------------+---------------------------------------------+-----------------+------------------+----------------------------------------------+---------------+-----------------+-----------------+---------------------+---------------------+-----------------------+---------------+-----------------------+------------------------------+------------------------------+--------------------+---------------------+---------------+------------------+-------------------+---------------------+-----------------+-------------------+-----------+---------------+-----------------------+----------------------+------------------------+-------------------------------+--------------------------------+\n",
      "|    42316928|                  N-2124705|MATERIALES DESECH...|MELOSA CLINICA BR...|   2021-01-01| AMBULATORIA|CLINICAS, HOSPITA...|CENTROS MEDICOS|SERVICIOS ESPECIA...|EMERGENCIA TRIAGE...|        12.12|       1|         12.12|          0.0|         0.0|        0.0|                   null|         CENTROS MÉDICOS|           12.12|           0.0|           0.0|          12.12|            January|                         1|                                  0.0|                                          0.0|              0.0|               0.0|                                           0.0|           null|       2021-01-02|  CENTROS MEDICOS|                    0|                    0|                      0|              0|                      0|                             0|                             0|                   1|                    0|              1|                 0|                  0|                    0|                0|                  0|          0|              0|                      0|                     1|                     0.0|                            0.0|                               0|\n",
      "+------------+---------------------------+--------------------+--------------------+-------------+------------+--------------------+---------------+--------------------+--------------------+-------------+--------+--------------+-------------+------------+-----------+-----------------------+------------------------+----------------+--------------+--------------+---------------+-------------------+--------------------------+-------------------------------------+---------------------------------------------+-----------------+------------------+----------------------------------------------+---------------+-----------------+-----------------+---------------------+---------------------+-----------------------+---------------+-----------------------+------------------------------+------------------------------+--------------------+---------------------+---------------+------------------+-------------------+---------------------+-----------------+-------------------+-----------+---------------+-----------------------+----------------------+------------------------+-------------------------------+--------------------------------+\n",
      "only showing top 1 row\n",
      "\n"
     ]
    }
   ],
   "source": [
    "dftest.show(1)"
   ]
  },
  {
   "cell_type": "code",
   "execution_count": 72,
   "metadata": {},
   "outputs": [],
   "source": [
    "# Visita al mismo especialista mayor a 2 por mes\n",
    "from pyspark.sql import functions as F\n",
    "from pyspark.sql.window import Window\n",
    "\n",
    "def misma_especialidad_diff_especialista(spark_df, lim_especialista=2):\n",
    "    # Filtrar por pacientes que hayan visitado a diferentes especialistas en la misma especialidad más de dos veces al mes\n",
    "    cant_especialistas_diferentes = spark_df.filter(\n",
    "        (spark_df['MEDICO_ESPECIALISTA'] == 1) & (spark_df['ES_CONSULTA'] == 1)\n",
    "    ).groupBy(\n",
    "        'CLIENTEAFILIADOBENEFICIARIO', 'ESPECIALIDAD', 'FECHASERVICIO_MONTH_NUMBER', 'FECHASERVICIO_MONTH'\n",
    "    ).agg(\n",
    "        F.countDistinct(\"PRESTADOR\").alias(\"CANT_ESPECIALISTAS_DIFERENTES\"),\n",
    "        F.collect_set(\"AUTORIZACION\").alias(\"AUTORIZACIONES\"),\n",
    "    ).orderBy(\"CANT_ESPECIALISTAS_DIFERENTES\", ascending=False)\n",
    "    \n",
    "    # Filtrar por pacientes que hayan visitado a más de dos especialistas diferentes en un mes\n",
    "    cant_especialistas_diferentes = cant_especialistas_diferentes.filter(\n",
    "        cant_especialistas_diferentes[\"CANT_ESPECIALISTAS_DIFERENTES\"] > lim_especialista\n",
    "    )\n",
    "    \n",
    "    # Explode para tener una autorización por fila\n",
    "    cant_especialistas_diferentes = cant_especialistas_diferentes.selectExpr(\"*\", \"explode(AUTORIZACIONES) as AUTORIZACION_EXPLODED\")\n",
    "    autorizaciones_especialistas_diferentes = cant_especialistas_diferentes.select(\"AUTORIZACION_EXPLODED\").distinct()\n",
    "    \n",
    "    # Crear nueva columna en spark_df\n",
    "    spark_df = spark_df.join(autorizaciones_especialistas_diferentes, spark_df[\"AUTORIZACION\"] == autorizaciones_especialistas_diferentes[\"AUTORIZACION_EXPLODED\"], \"left\")\n",
    "    spark_df = spark_df.withColumn(\n",
    "        \"MISMA_ESPECIALIDAD_DIFF_ESPECIALISTA\",\n",
    "        (\n",
    "            (spark_df[\"MEDICO_ESPECIALISTA\"] == 1) &\n",
    "            (spark_df[\"ES_CONSULTA\"] == 1) &\n",
    "            F.when(spark_df[\"AUTORIZACION_EXPLODED\"].isNotNull(), True).otherwise(False)\n",
    "        ).cast(\"integer\")\n",
    "    ).drop(\"AUTORIZACION_EXPLODED\")\n",
    "\n",
    "    return spark_df\n"
   ]
  },
  {
   "cell_type": "code",
   "execution_count": 73,
   "metadata": {},
   "outputs": [],
   "source": [
    "dftest = misma_especialidad_diff_especialista(dftest)"
   ]
  },
  {
   "cell_type": "code",
   "execution_count": null,
   "metadata": {},
   "outputs": [],
   "source": [
    "shape = get_shape(dftest)\n",
    "print(shape)"
   ]
  },
  {
   "cell_type": "code",
   "execution_count": 74,
   "metadata": {},
   "outputs": [
    {
     "name": "stdout",
     "output_type": "stream",
     "text": [
      "+------------+---------------------------+--------------------+--------------------+-------------+------------+--------------------+---------------+--------------------+--------------------+-------------+--------+--------------+-------------+------------+-----------+-----------------------+------------------------+----------------+--------------+--------------+---------------+-------------------+--------------------------+-------------------------------------+---------------------------------------------+-----------------+------------------+----------------------------------------------+---------------+-----------------+-----------------+---------------------+---------------------+-----------------------+---------------+-----------------------+------------------------------+------------------------------+--------------------+---------------------+---------------+------------------+-------------------+---------------------+-----------------+-------------------+-----------+---------------+-----------------------+----------------------+------------------------+-------------------------------+--------------------------------+------------------------------------+\n",
      "|AUTORIZACION|CLIENTEAFILIADOBENEFICIARIO|          PRESTACION|           PRESTADOR|FECHASERVICIO|TIPOATENCION|       TIPOPRESTADOR|   ESPECIALIDAD|      TIPOPRESTACION|       SERVICIOSALUD|MONTOUNITARIO|CANTIDAD|MONTORECLAMADO|MONTOAJUSTADO|MONTOUSUARIO|MONTOCOPAGO|AUTORIZACIONRELACIONADA|TipoInstitucionPrestador|MONTOASEGURADORA|MONTOEXCEPCION|MONTOCONCESION|MONTOAUTORIZADO|FECHASERVICIO_MONTH|FECHASERVICIO_MONTH_NUMBER|DIFERENCIA_MONTO_RECLAMADO_AUTORIZADO|DIFERENCIA_MONTO_RECLAMADO_AUTORIZADO_USUARIO|MONTOAJUSTADO_ABS|MONTOCONCESION_ABS|DIFERENCIA_ABSOLUTA_MONTO_RECLAMADO_AUTORIZADO|DIAS_HABITACION|FECHASERVICIO_FIN|TIPO_ESPECIALIDAD|ERROR_MONTO_RECLAMADO|TIENE_MONTO_EXCEPCION|ERROR_MONTO_AUTORIZADO2|ERROR_CONSECION|ERROR_MONTO_AUTORIZADO1|LIM_2_DIAS_HABITACION_EXCEDIDO|LIM_6_DIAS_HABITACION_EXCEDIDO|ATENCION_AMBULATORIA|ATENCION_HOSPITALARIA|CENTROS_MEDICOS|CENTRO_DIAGNOSTICO|LABORATORIO_CLINICO|ATENCION_FARMACEUTICA|OTRA_ESPECIALIDAD|MEDICO_ESPECIALISTA|ES_CONSULTA|OTROS_SERVICIOS|MEDICINAS_INTERNAMIENTO|MATERIALES_DESECHABLES|MONTO_USUARIO_PER_CAPITA|DIFERENCIA_RECLAMADO_AUTORIZADO|LIM_CANTIDAD_PRESTACION_EXCEDIDO|MISMA_ESPECIALIDAD_DIFF_ESPECIALISTA|\n",
      "+------------+---------------------------+--------------------+--------------------+-------------+------------+--------------------+---------------+--------------------+--------------------+-------------+--------+--------------+-------------+------------+-----------+-----------------------+------------------------+----------------+--------------+--------------+---------------+-------------------+--------------------------+-------------------------------------+---------------------------------------------+-----------------+------------------+----------------------------------------------+---------------+-----------------+-----------------+---------------------+---------------------+-----------------------+---------------+-----------------------+------------------------------+------------------------------+--------------------+---------------------+---------------+------------------+-------------------+---------------------+-----------------+-------------------+-----------+---------------+-----------------------+----------------------+------------------------+-------------------------------+--------------------------------+------------------------------------+\n",
      "|    42316928|                  N-2124705|MATERIALES DESECH...|MELOSA CLINICA BR...|   2021-01-01| AMBULATORIA|CLINICAS, HOSPITA...|CENTROS MEDICOS|SERVICIOS ESPECIA...|EMERGENCIA TRIAGE...|        12.12|       1|         12.12|          0.0|         0.0|        0.0|                   null|         CENTROS MÉDICOS|           12.12|           0.0|           0.0|          12.12|            January|                         1|                                  0.0|                                          0.0|              0.0|               0.0|                                           0.0|           null|       2021-01-02|  CENTROS MEDICOS|                    0|                    0|                      0|              0|                      0|                             0|                             0|                   1|                    0|              1|                 0|                  0|                    0|                0|                  0|          0|              0|                      0|                     1|                     0.0|                            0.0|                               0|                                   0|\n",
      "+------------+---------------------------+--------------------+--------------------+-------------+------------+--------------------+---------------+--------------------+--------------------+-------------+--------+--------------+-------------+------------+-----------+-----------------------+------------------------+----------------+--------------+--------------+---------------+-------------------+--------------------------+-------------------------------------+---------------------------------------------+-----------------+------------------+----------------------------------------------+---------------+-----------------+-----------------+---------------------+---------------------+-----------------------+---------------+-----------------------+------------------------------+------------------------------+--------------------+---------------------+---------------+------------------+-------------------+---------------------+-----------------+-------------------+-----------+---------------+-----------------------+----------------------+------------------------+-------------------------------+--------------------------------+------------------------------------+\n",
      "only showing top 1 row\n",
      "\n"
     ]
    }
   ],
   "source": [
    "dftest.show(1)"
   ]
  },
  {
   "cell_type": "code",
   "execution_count": 80,
   "metadata": {},
   "outputs": [],
   "source": [
    "# Visita al mismo especialista mayor a 2 por mes\n",
    "from pyspark.sql import functions as F\n",
    "\n",
    "def visita_mismo_especialista(spark_df, lim_consultas_mes=2):\n",
    "    \n",
    "    # Agregar una columna con el año y el mes de 'FECHASERVICIO'\n",
    "    spark_df = spark_df.withColumn(\n",
    "        'FECHASERVICIO_YEAR_MONTH', \n",
    "        F.concat(F.year(\"FECHASERVICIO\"), F.lit('-'), F.month(\"FECHASERVICIO\"))\n",
    "    )\n",
    "    \n",
    "    # Agrupar por 'CLIENTEAFILIADOBENEFICIARIO', 'PRESTADOR' y 'FECHASERVICIO_YEAR_MONTH'\n",
    "    cant_visitas_especialista = spark_df.filter(\n",
    "        (spark_df['MEDICO_ESPECIALISTA'] == 1) &\n",
    "        (spark_df['ES_CONSULTA'] == 1)\n",
    "    ).groupBy(\n",
    "        'CLIENTEAFILIADOBENEFICIARIO', 'PRESTADOR', 'FECHASERVICIO_YEAR_MONTH'\n",
    "    ).agg(\n",
    "        F.countDistinct(\"FECHASERVICIO\").alias(\"NUM_VISITAS\"),\n",
    "        F.collect_set(\"AUTORIZACION\").alias(\"AUTORIZACIONES\"),\n",
    "    )\n",
    "    \n",
    "    # Filtrar por el límite máximo de visitas permitido por mes\n",
    "    cant_visitas_especialista = cant_visitas_especialista.filter(\n",
    "        cant_visitas_especialista[\"NUM_VISITAS\"] > lim_consultas_mes\n",
    "    )\n",
    "    \n",
    "    # Expandir la columna 'AUTORIZACIONES'\n",
    "    cant_visitas_especialista = cant_visitas_especialista.selectExpr(\"*\", \"explode(AUTORIZACIONES) as AUTORIZACION_EXPLODED\")\n",
    "    autorizaciones_visitas_especialista = cant_visitas_especialista.select(\"AUTORIZACION_EXPLODED\").distinct()\n",
    "    \n",
    "    # Agregar el indicador 'LIM_CONSULTAS_EXCEDIDO_MES'\n",
    "    spark_df = spark_df.join(autorizaciones_visitas_especialista, spark_df[\"AUTORIZACION\"] == autorizaciones_visitas_especialista[\"AUTORIZACION_EXPLODED\"], \"left\")\n",
    "    spark_df = spark_df.withColumn(\n",
    "        \"LIM_CONSULTAS_EXCEDIDO_MES\",\n",
    "        (\n",
    "            (spark_df[\"MEDICO_ESPECIALISTA\"] == 1) &\n",
    "            (spark_df[\"ES_CONSULTA\"] == 1) &\n",
    "            F.when(spark_df[\"AUTORIZACION_EXPLODED\"].isNotNull(), True).otherwise(False)\n",
    "        ).cast(\"integer\")\n",
    "    ).drop(\"AUTORIZACION_EXPLODED\").drop(\"FECHASERVICIO_YEAR_MONTH\")\n",
    "\n",
    "    return spark_df\n"
   ]
  },
  {
   "cell_type": "code",
   "execution_count": 81,
   "metadata": {},
   "outputs": [],
   "source": [
    "dftest = visita_mismo_especialista(dftest)"
   ]
  },
  {
   "cell_type": "code",
   "execution_count": null,
   "metadata": {},
   "outputs": [],
   "source": [
    "shape = get_shape(dftest)\n",
    "print(shape)"
   ]
  },
  {
   "cell_type": "code",
   "execution_count": 82,
   "metadata": {},
   "outputs": [
    {
     "name": "stdout",
     "output_type": "stream",
     "text": [
      "+------------+---------------------------+--------------------+--------------------+-------------+------------+--------------------+---------------+--------------------+--------------------+-------------+--------+--------------+-------------+------------+-----------+-----------------------+------------------------+----------------+--------------+--------------+---------------+-------------------+--------------------------+-------------------------------------+---------------------------------------------+-----------------+------------------+----------------------------------------------+---------------+-----------------+-----------------+---------------------+---------------------+-----------------------+---------------+-----------------------+------------------------------+------------------------------+--------------------+---------------------+---------------+------------------+-------------------+---------------------+-----------------+-------------------+-----------+---------------+-----------------------+----------------------+------------------------+-------------------------------+--------------------------------+------------------------------------+--------------------------+\n",
      "|AUTORIZACION|CLIENTEAFILIADOBENEFICIARIO|          PRESTACION|           PRESTADOR|FECHASERVICIO|TIPOATENCION|       TIPOPRESTADOR|   ESPECIALIDAD|      TIPOPRESTACION|       SERVICIOSALUD|MONTOUNITARIO|CANTIDAD|MONTORECLAMADO|MONTOAJUSTADO|MONTOUSUARIO|MONTOCOPAGO|AUTORIZACIONRELACIONADA|TipoInstitucionPrestador|MONTOASEGURADORA|MONTOEXCEPCION|MONTOCONCESION|MONTOAUTORIZADO|FECHASERVICIO_MONTH|FECHASERVICIO_MONTH_NUMBER|DIFERENCIA_MONTO_RECLAMADO_AUTORIZADO|DIFERENCIA_MONTO_RECLAMADO_AUTORIZADO_USUARIO|MONTOAJUSTADO_ABS|MONTOCONCESION_ABS|DIFERENCIA_ABSOLUTA_MONTO_RECLAMADO_AUTORIZADO|DIAS_HABITACION|FECHASERVICIO_FIN|TIPO_ESPECIALIDAD|ERROR_MONTO_RECLAMADO|TIENE_MONTO_EXCEPCION|ERROR_MONTO_AUTORIZADO2|ERROR_CONSECION|ERROR_MONTO_AUTORIZADO1|LIM_2_DIAS_HABITACION_EXCEDIDO|LIM_6_DIAS_HABITACION_EXCEDIDO|ATENCION_AMBULATORIA|ATENCION_HOSPITALARIA|CENTROS_MEDICOS|CENTRO_DIAGNOSTICO|LABORATORIO_CLINICO|ATENCION_FARMACEUTICA|OTRA_ESPECIALIDAD|MEDICO_ESPECIALISTA|ES_CONSULTA|OTROS_SERVICIOS|MEDICINAS_INTERNAMIENTO|MATERIALES_DESECHABLES|MONTO_USUARIO_PER_CAPITA|DIFERENCIA_RECLAMADO_AUTORIZADO|LIM_CANTIDAD_PRESTACION_EXCEDIDO|MISMA_ESPECIALIDAD_DIFF_ESPECIALISTA|LIM_CONSULTAS_EXCEDIDO_MES|\n",
      "+------------+---------------------------+--------------------+--------------------+-------------+------------+--------------------+---------------+--------------------+--------------------+-------------+--------+--------------+-------------+------------+-----------+-----------------------+------------------------+----------------+--------------+--------------+---------------+-------------------+--------------------------+-------------------------------------+---------------------------------------------+-----------------+------------------+----------------------------------------------+---------------+-----------------+-----------------+---------------------+---------------------+-----------------------+---------------+-----------------------+------------------------------+------------------------------+--------------------+---------------------+---------------+------------------+-------------------+---------------------+-----------------+-------------------+-----------+---------------+-----------------------+----------------------+------------------------+-------------------------------+--------------------------------+------------------------------------+--------------------------+\n",
      "|    42316928|                  N-2124705|MATERIALES DESECH...|MELOSA CLINICA BR...|   2021-01-01| AMBULATORIA|CLINICAS, HOSPITA...|CENTROS MEDICOS|SERVICIOS ESPECIA...|EMERGENCIA TRIAGE...|        12.12|       1|         12.12|          0.0|         0.0|        0.0|                   null|         CENTROS MÉDICOS|           12.12|           0.0|           0.0|          12.12|            January|                         1|                                  0.0|                                          0.0|              0.0|               0.0|                                           0.0|           null|       2021-01-02|  CENTROS MEDICOS|                    0|                    0|                      0|              0|                      0|                             0|                             0|                   1|                    0|              1|                 0|                  0|                    0|                0|                  0|          0|              0|                      0|                     1|                     0.0|                            0.0|                               0|                                   0|                         0|\n",
      "+------------+---------------------------+--------------------+--------------------+-------------+------------+--------------------+---------------+--------------------+--------------------+-------------+--------+--------------+-------------+------------+-----------+-----------------------+------------------------+----------------+--------------+--------------+---------------+-------------------+--------------------------+-------------------------------------+---------------------------------------------+-----------------+------------------+----------------------------------------------+---------------+-----------------+-----------------+---------------------+---------------------+-----------------------+---------------+-----------------------+------------------------------+------------------------------+--------------------+---------------------+---------------+------------------+-------------------+---------------------+-----------------+-------------------+-----------+---------------+-----------------------+----------------------+------------------------+-------------------------------+--------------------------------+------------------------------------+--------------------------+\n",
      "only showing top 1 row\n",
      "\n"
     ]
    }
   ],
   "source": [
    "dftest.show(1)"
   ]
  },
  {
   "cell_type": "code",
   "execution_count": 83,
   "metadata": {},
   "outputs": [],
   "source": [
    "## Límite Emergencias excedido en el mes\n",
    "\n",
    "from pyspark.sql import functions as F\n",
    "\n",
    "def limite_emergencias_excedido(spark_df):\n",
    "    # Crear la columna \"ES_EMERGENCIA\"\n",
    "    spark_df = spark_df.withColumn(\n",
    "        \"ES_EMERGENCIA\",\n",
    "        F.when(F.col(\"SERVICIOSALUD\").contains(\"EMERGENCIA\"), 1).otherwise(0)\n",
    "    )\n",
    "    \n",
    "    # Contar la cantidad de autorizaciones de emergencias por mes y cliente\n",
    "    freq_emergencias_mes = spark_df.filter(\n",
    "        spark_df[\"ES_EMERGENCIA\"] == 1\n",
    "    ).groupBy(\n",
    "        \"CLIENTEAFILIADOBENEFICIARIO\", \"FECHASERVICIO_MONTH_NUMBER\", \"FECHASERVICIO_MONTH\"\n",
    "    ).agg(\n",
    "        F.countDistinct(\"AUTORIZACION\").alias(\"nunique\"),\n",
    "        F.collect_set(\"AUTORIZACION\").alias(\"unique\"),\n",
    "    )\n",
    "    \n",
    "    # Desagregar la columna \"AUTORIZACIONES\" y filtrar las autorizaciones que exceden el límite de emergencias\n",
    "    freq_emergencias_mes = freq_emergencias_mes.selectExpr(\"*\", \"explode(unique) as AUTORIZACION_EXPLODED\")\n",
    "    freq_emergencias_mes = freq_emergencias_mes.filter(freq_emergencias_mes[\"nunique\"] > 2)\n",
    "    \n",
    "    autorizaciones_emergencias_excedida = freq_emergencias_mes.select(\"AUTORIZACION_EXPLODED\").distinct()\n",
    "    \n",
    "    # Crear la columna \"LIM_EMERGENCIAS_EXCEDIDO_MES\"\n",
    "    spark_df = spark_df.join(autorizaciones_emergencias_excedida, spark_df[\"AUTORIZACION\"] == autorizaciones_emergencias_excedida[\"AUTORIZACION_EXPLODED\"], \"left\")\n",
    "    spark_df = spark_df.withColumn(\n",
    "        \"LIM_EMERGENCIAS_EXCEDIDO_MES\",\n",
    "        (\n",
    "            (spark_df[\"ES_EMERGENCIA\"] == 1) &\n",
    "            F.when(spark_df[\"AUTORIZACION_EXPLODED\"].isNotNull(), True).otherwise(False)\n",
    "        ).cast(\"integer\")\n",
    "    ).drop(\"AUTORIZACION_EXPLODED\")\n",
    "\n",
    "    return spark_df\n"
   ]
  },
  {
   "cell_type": "code",
   "execution_count": 84,
   "metadata": {},
   "outputs": [],
   "source": [
    "dftest = limite_emergencias_excedido(dftest)"
   ]
  },
  {
   "cell_type": "code",
   "execution_count": null,
   "metadata": {},
   "outputs": [],
   "source": [
    "shape = get_shape(dftest)\n",
    "print(shape)"
   ]
  },
  {
   "cell_type": "code",
   "execution_count": 85,
   "metadata": {},
   "outputs": [
    {
     "name": "stdout",
     "output_type": "stream",
     "text": [
      "+------------+---------------------------+--------------------+--------------------+-------------+------------+--------------------+---------------+--------------------+--------------------+-------------+--------+--------------+-------------+------------+-----------+-----------------------+------------------------+----------------+--------------+--------------+---------------+-------------------+--------------------------+-------------------------------------+---------------------------------------------+-----------------+------------------+----------------------------------------------+---------------+-----------------+-----------------+---------------------+---------------------+-----------------------+---------------+-----------------------+------------------------------+------------------------------+--------------------+---------------------+---------------+------------------+-------------------+---------------------+-----------------+-------------------+-----------+---------------+-----------------------+----------------------+------------------------+-------------------------------+--------------------------------+------------------------------------+--------------------------+-------------+----------------------------+\n",
      "|AUTORIZACION|CLIENTEAFILIADOBENEFICIARIO|          PRESTACION|           PRESTADOR|FECHASERVICIO|TIPOATENCION|       TIPOPRESTADOR|   ESPECIALIDAD|      TIPOPRESTACION|       SERVICIOSALUD|MONTOUNITARIO|CANTIDAD|MONTORECLAMADO|MONTOAJUSTADO|MONTOUSUARIO|MONTOCOPAGO|AUTORIZACIONRELACIONADA|TipoInstitucionPrestador|MONTOASEGURADORA|MONTOEXCEPCION|MONTOCONCESION|MONTOAUTORIZADO|FECHASERVICIO_MONTH|FECHASERVICIO_MONTH_NUMBER|DIFERENCIA_MONTO_RECLAMADO_AUTORIZADO|DIFERENCIA_MONTO_RECLAMADO_AUTORIZADO_USUARIO|MONTOAJUSTADO_ABS|MONTOCONCESION_ABS|DIFERENCIA_ABSOLUTA_MONTO_RECLAMADO_AUTORIZADO|DIAS_HABITACION|FECHASERVICIO_FIN|TIPO_ESPECIALIDAD|ERROR_MONTO_RECLAMADO|TIENE_MONTO_EXCEPCION|ERROR_MONTO_AUTORIZADO2|ERROR_CONSECION|ERROR_MONTO_AUTORIZADO1|LIM_2_DIAS_HABITACION_EXCEDIDO|LIM_6_DIAS_HABITACION_EXCEDIDO|ATENCION_AMBULATORIA|ATENCION_HOSPITALARIA|CENTROS_MEDICOS|CENTRO_DIAGNOSTICO|LABORATORIO_CLINICO|ATENCION_FARMACEUTICA|OTRA_ESPECIALIDAD|MEDICO_ESPECIALISTA|ES_CONSULTA|OTROS_SERVICIOS|MEDICINAS_INTERNAMIENTO|MATERIALES_DESECHABLES|MONTO_USUARIO_PER_CAPITA|DIFERENCIA_RECLAMADO_AUTORIZADO|LIM_CANTIDAD_PRESTACION_EXCEDIDO|MISMA_ESPECIALIDAD_DIFF_ESPECIALISTA|LIM_CONSULTAS_EXCEDIDO_MES|ES_EMERGENCIA|LIM_EMERGENCIAS_EXCEDIDO_MES|\n",
      "+------------+---------------------------+--------------------+--------------------+-------------+------------+--------------------+---------------+--------------------+--------------------+-------------+--------+--------------+-------------+------------+-----------+-----------------------+------------------------+----------------+--------------+--------------+---------------+-------------------+--------------------------+-------------------------------------+---------------------------------------------+-----------------+------------------+----------------------------------------------+---------------+-----------------+-----------------+---------------------+---------------------+-----------------------+---------------+-----------------------+------------------------------+------------------------------+--------------------+---------------------+---------------+------------------+-------------------+---------------------+-----------------+-------------------+-----------+---------------+-----------------------+----------------------+------------------------+-------------------------------+--------------------------------+------------------------------------+--------------------------+-------------+----------------------------+\n",
      "|    42316928|                  N-2124705|MATERIALES DESECH...|MELOSA CLINICA BR...|   2021-01-01| AMBULATORIA|CLINICAS, HOSPITA...|CENTROS MEDICOS|SERVICIOS ESPECIA...|EMERGENCIA TRIAGE...|        12.12|       1|         12.12|          0.0|         0.0|        0.0|                   null|         CENTROS MÉDICOS|           12.12|           0.0|           0.0|          12.12|            January|                         1|                                  0.0|                                          0.0|              0.0|               0.0|                                           0.0|           null|       2021-01-02|  CENTROS MEDICOS|                    0|                    0|                      0|              0|                      0|                             0|                             0|                   1|                    0|              1|                 0|                  0|                    0|                0|                  0|          0|              0|                      0|                     1|                     0.0|                            0.0|                               0|                                   0|                         0|            1|                           0|\n",
      "+------------+---------------------------+--------------------+--------------------+-------------+------------+--------------------+---------------+--------------------+--------------------+-------------+--------+--------------+-------------+------------+-----------+-----------------------+------------------------+----------------+--------------+--------------+---------------+-------------------+--------------------------+-------------------------------------+---------------------------------------------+-----------------+------------------+----------------------------------------------+---------------+-----------------+-----------------+---------------------+---------------------+-----------------------+---------------+-----------------------+------------------------------+------------------------------+--------------------+---------------------+---------------+------------------+-------------------+---------------------+-----------------+-------------------+-----------+---------------+-----------------------+----------------------+------------------------+-------------------------------+--------------------------------+------------------------------------+--------------------------+-------------+----------------------------+\n",
      "only showing top 1 row\n",
      "\n"
     ]
    }
   ],
   "source": [
    "dftest.show(1)"
   ]
  },
  {
   "cell_type": "code",
   "execution_count": 86,
   "metadata": {},
   "outputs": [],
   "source": [
    "# Consultas que no generan medicamento pt1\n",
    "\n",
    "def df_autorizaciones_cond_consulta(df):\n",
    "    # Filtrar las filas con MEDICO_ESPECIALISTA == 1 y ES_CONSULTA == 1\n",
    "    consultas_df = df.filter((F.col('MEDICO_ESPECIALISTA') == 1) & (F.col('ES_CONSULTA') == 1))\n",
    "    \n",
    "    # Obtener los valores únicos de la columna 'AUTORIZACION' y convertirlos en un conjunto (set)\n",
    "    autorizaciones_cond_consulta = set(\n",
    "        row['AUTORIZACION'] for row in consultas_df.select('AUTORIZACION').distinct().collect()\n",
    "    )\n",
    "    \n",
    "    return autorizaciones_cond_consulta\n",
    "\n",
    "# Llamar a la función y guardar el resultado en la variable autorizaciones_cond_consulta\n",
    "autorizaciones_cond_consulta = df_autorizaciones_cond_consulta(dftest)\n"
   ]
  },
  {
   "cell_type": "code",
   "execution_count": null,
   "metadata": {},
   "outputs": [],
   "source": [
    "type(autorizaciones_cond_consulta)"
   ]
  },
  {
   "cell_type": "code",
   "execution_count": 87,
   "metadata": {},
   "outputs": [],
   "source": [
    "# Consultas que no generan medicamento pt2\n",
    "\n",
    "\n",
    "from pyspark.sql import functions as F\n",
    "from pyspark.sql.types import StructType, StructField, StringType, TimestampType\n",
    "import datetime\n",
    "\n",
    "def generar_nuevas_consultas(spark_df, autorizaciones):\n",
    "    # Filtrar el DataFrame utilizando las autorizaciones del conjunto (set) proporcionado\n",
    "    consultas_atipicas_df = spark_df.filter(spark_df['AUTORIZACION'].isin(autorizaciones))\n",
    "    consultas_sample = consultas_atipicas_df.select('CLIENTEAFILIADOBENEFICIARIO', 'FECHASERVICIO').na.drop()\n",
    "\n",
    "    # Ajustar la fecha en 16 días\n",
    "    consultas_sample = consultas_sample.withColumn(\n",
    "        'FECHASERVICIO', F.expr(\"date_add(FECHASERVICIO, -16)\")\n",
    "    )\n",
    "\n",
    "    consultas_sample_rdd = consultas_sample.rdd.flatMap(lambda x: [(x[0], x[1] + datetime.timedelta(days=i)) for i in range(32)])\n",
    "\n",
    "    new_consultas_dates_schema = StructType([\n",
    "        StructField(\"CLIENTEAFILIADOBENEFICIARIO\", StringType(), True),\n",
    "        StructField(\"FECHASERVICIO\", TimestampType(), True),\n",
    "    ])\n",
    "\n",
    "    new_consultas_dates_df = consultas_sample_rdd.toDF(schema=new_consultas_dates_schema)\n",
    "\n",
    "    return new_consultas_dates_df\n",
    "\n",
    "\n",
    "\n"
   ]
  },
  {
   "cell_type": "code",
   "execution_count": 88,
   "metadata": {},
   "outputs": [],
   "source": [
    "# Llamar a la función y guardar el resultado en la variable new_consultas_dates_df\n",
    "new_consultas_dates_df = generar_nuevas_consultas(dftest, autorizaciones_cond_consulta)"
   ]
  },
  {
   "cell_type": "code",
   "execution_count": 89,
   "metadata": {},
   "outputs": [
    {
     "data": {
      "text/plain": [
       "pyspark.sql.dataframe.DataFrame"
      ]
     },
     "execution_count": 89,
     "metadata": {},
     "output_type": "execute_result"
    }
   ],
   "source": [
    "type(new_consultas_dates_df)"
   ]
  },
  {
   "cell_type": "code",
   "execution_count": 90,
   "metadata": {},
   "outputs": [],
   "source": [
    "# Consultas que no generan medicamento pt3\n",
    "\n",
    "from pyspark.sql import functions as F\n",
    "\n",
    "def agregar_columna_consultas_sin_lab_med(consolidated_df, new_consultas_dates_df):\n",
    "    # Combinar consolidated_df y new_consultas_dates_df usando CLIENTEAFILIADOBENEFICIARIO y FECHASERVICIO\n",
    "    consultas_tracking_df = consolidated_df.join(\n",
    "        new_consultas_dates_df,\n",
    "        on=['CLIENTEAFILIADOBENEFICIARIO', 'FECHASERVICIO'],\n",
    "        how='inner'\n",
    "    )\n",
    "\n",
    "    # Agrupar por cliente y contar el número de prestaciones\n",
    "    sample = consultas_tracking_df.groupBy(['CLIENTEAFILIADOBENEFICIARIO']).agg(\n",
    "        F.count(\"PRESTACION\").alias(\"NUM_PRESTACIONES\")\n",
    "    )\n",
    "\n",
    "    # Filtrar los usuarios con una única prestación\n",
    "    usuarios = sample.filter(sample['NUM_PRESTACIONES'] == 1).select('CLIENTEAFILIADOBENEFICIARIO')\n",
    "\n",
    "    # Filtrar el DataFrame por los usuarios y excluir las filas con la especialidad 'PSICOLOGIA'\n",
    "    sample_consultas_tracking_df = consultas_tracking_df.join(usuarios, on='CLIENTEAFILIADOBENEFICIARIO', how='inner')\n",
    "    sample_consultas_tracking_df = sample_consultas_tracking_df.filter(sample_consultas_tracking_df['ESPECIALIDAD'] != 'PSICOLOGIA')\n",
    "\n",
    "    # Obtener las autorizaciones únicas\n",
    "    autorizaciones_cond_consulta_sin_lab_meds = sample_consultas_tracking_df.select(\"AUTORIZACION\").distinct()\n",
    "\n",
    "    # Agregar la columna 'CONSULTAS_SIN_LAB_MED' al DataFrame original\n",
    "    consolidated_df = consolidated_df.join(autorizaciones_cond_consulta_sin_lab_meds, on=\"AUTORIZACION\", how=\"left\")\n",
    "    consolidated_df = consolidated_df.withColumn(\n",
    "        \"CONSULTAS_SIN_LAB_MED\",\n",
    "        F.when(consolidated_df[\"AUTORIZACION\"].isNotNull(), 1).otherwise(0)\n",
    "    )\n",
    "\n",
    "    return consolidated_df\n",
    "\n"
   ]
  },
  {
   "cell_type": "code",
   "execution_count": 91,
   "metadata": {},
   "outputs": [],
   "source": [
    "# Llamar a la función para aplicar los cambios en el DataFrame original\n",
    "dftest = agregar_columna_consultas_sin_lab_med(dftest, new_consultas_dates_df)\n"
   ]
  },
  {
   "cell_type": "code",
   "execution_count": 94,
   "metadata": {},
   "outputs": [
    {
     "data": {
      "text/plain": [
       "pyspark.sql.dataframe.DataFrame"
      ]
     },
     "execution_count": 94,
     "metadata": {},
     "output_type": "execute_result"
    }
   ],
   "source": [
    "type(dftest)"
   ]
  },
  {
   "cell_type": "code",
   "execution_count": 97,
   "metadata": {},
   "outputs": [
    {
     "ename": "ConnectionRefusedError",
     "evalue": "[WinError 10061] No se puede establecer una conexión ya que el equipo de destino denegó expresamente dicha conexión",
     "output_type": "error",
     "traceback": [
      "\u001b[1;31m---------------------------------------------------------------------------\u001b[0m",
      "\u001b[1;31mConnectionRefusedError\u001b[0m                    Traceback (most recent call last)",
      "\u001b[1;32m~\\AppData\\Local\\Temp/ipykernel_10380/2597158287.py\u001b[0m in \u001b[0;36m<module>\u001b[1;34m\u001b[0m\n\u001b[1;32m----> 1\u001b[1;33m \u001b[0mshape\u001b[0m \u001b[1;33m=\u001b[0m \u001b[0mget_shape\u001b[0m\u001b[1;33m(\u001b[0m\u001b[0mdftest\u001b[0m\u001b[1;33m)\u001b[0m\u001b[1;33m\u001b[0m\u001b[1;33m\u001b[0m\u001b[0m\n\u001b[0m\u001b[0;32m      2\u001b[0m \u001b[0mprint\u001b[0m\u001b[1;33m(\u001b[0m\u001b[0mshape\u001b[0m\u001b[1;33m)\u001b[0m\u001b[1;33m\u001b[0m\u001b[1;33m\u001b[0m\u001b[0m\n",
      "\u001b[1;32m~\\AppData\\Local\\Temp/ipykernel_10380/705141758.py\u001b[0m in \u001b[0;36mget_shape\u001b[1;34m(dataframe)\u001b[0m\n\u001b[0;32m      1\u001b[0m \u001b[1;32mdef\u001b[0m \u001b[0mget_shape\u001b[0m\u001b[1;33m(\u001b[0m\u001b[0mdataframe\u001b[0m\u001b[1;33m)\u001b[0m\u001b[1;33m:\u001b[0m\u001b[1;33m\u001b[0m\u001b[1;33m\u001b[0m\u001b[0m\n\u001b[1;32m----> 2\u001b[1;33m     \u001b[0mrow_count\u001b[0m \u001b[1;33m=\u001b[0m \u001b[0mdataframe\u001b[0m\u001b[1;33m.\u001b[0m\u001b[0mcount\u001b[0m\u001b[1;33m(\u001b[0m\u001b[1;33m)\u001b[0m\u001b[1;33m\u001b[0m\u001b[1;33m\u001b[0m\u001b[0m\n\u001b[0m\u001b[0;32m      3\u001b[0m     \u001b[0mcolumn_count\u001b[0m \u001b[1;33m=\u001b[0m \u001b[0mlen\u001b[0m\u001b[1;33m(\u001b[0m\u001b[0mdataframe\u001b[0m\u001b[1;33m.\u001b[0m\u001b[0mcolumns\u001b[0m\u001b[1;33m)\u001b[0m\u001b[1;33m\u001b[0m\u001b[1;33m\u001b[0m\u001b[0m\n\u001b[0;32m      4\u001b[0m     \u001b[1;32mreturn\u001b[0m \u001b[1;33m(\u001b[0m\u001b[0mrow_count\u001b[0m\u001b[1;33m,\u001b[0m \u001b[0mcolumn_count\u001b[0m\u001b[1;33m)\u001b[0m\u001b[1;33m\u001b[0m\u001b[1;33m\u001b[0m\u001b[0m\n\u001b[0;32m      5\u001b[0m \u001b[1;33m\u001b[0m\u001b[0m\n",
      "\u001b[1;32m~\\AppData\\Local\\Packages\\PythonSoftwareFoundation.Python.3.9_qbz5n2kfra8p0\\LocalCache\\local-packages\\Python39\\site-packages\\pyspark\\sql\\dataframe.py\u001b[0m in \u001b[0;36mcount\u001b[1;34m(self)\u001b[0m\n\u001b[0;32m   1191\u001b[0m         \u001b[1;36m3\u001b[0m\u001b[1;33m\u001b[0m\u001b[1;33m\u001b[0m\u001b[0m\n\u001b[0;32m   1192\u001b[0m         \"\"\"\n\u001b[1;32m-> 1193\u001b[1;33m         \u001b[1;32mreturn\u001b[0m \u001b[0mint\u001b[0m\u001b[1;33m(\u001b[0m\u001b[0mself\u001b[0m\u001b[1;33m.\u001b[0m\u001b[0m_jdf\u001b[0m\u001b[1;33m.\u001b[0m\u001b[0mcount\u001b[0m\u001b[1;33m(\u001b[0m\u001b[1;33m)\u001b[0m\u001b[1;33m)\u001b[0m\u001b[1;33m\u001b[0m\u001b[1;33m\u001b[0m\u001b[0m\n\u001b[0m\u001b[0;32m   1194\u001b[0m \u001b[1;33m\u001b[0m\u001b[0m\n\u001b[0;32m   1195\u001b[0m     \u001b[1;32mdef\u001b[0m \u001b[0mcollect\u001b[0m\u001b[1;33m(\u001b[0m\u001b[0mself\u001b[0m\u001b[1;33m)\u001b[0m \u001b[1;33m->\u001b[0m \u001b[0mList\u001b[0m\u001b[1;33m[\u001b[0m\u001b[0mRow\u001b[0m\u001b[1;33m]\u001b[0m\u001b[1;33m:\u001b[0m\u001b[1;33m\u001b[0m\u001b[1;33m\u001b[0m\u001b[0m\n",
      "\u001b[1;32m~\\AppData\\Local\\Packages\\PythonSoftwareFoundation.Python.3.9_qbz5n2kfra8p0\\LocalCache\\local-packages\\Python39\\site-packages\\py4j\\java_gateway.py\u001b[0m in \u001b[0;36m__call__\u001b[1;34m(self, *args)\u001b[0m\n\u001b[0;32m   1319\u001b[0m             \u001b[0mproto\u001b[0m\u001b[1;33m.\u001b[0m\u001b[0mEND_COMMAND_PART\u001b[0m\u001b[1;33m\u001b[0m\u001b[1;33m\u001b[0m\u001b[0m\n\u001b[0;32m   1320\u001b[0m \u001b[1;33m\u001b[0m\u001b[0m\n\u001b[1;32m-> 1321\u001b[1;33m         \u001b[0manswer\u001b[0m \u001b[1;33m=\u001b[0m \u001b[0mself\u001b[0m\u001b[1;33m.\u001b[0m\u001b[0mgateway_client\u001b[0m\u001b[1;33m.\u001b[0m\u001b[0msend_command\u001b[0m\u001b[1;33m(\u001b[0m\u001b[0mcommand\u001b[0m\u001b[1;33m)\u001b[0m\u001b[1;33m\u001b[0m\u001b[1;33m\u001b[0m\u001b[0m\n\u001b[0m\u001b[0;32m   1322\u001b[0m         return_value = get_return_value(\n\u001b[0;32m   1323\u001b[0m             answer, self.gateway_client, self.target_id, self.name)\n",
      "\u001b[1;32m~\\AppData\\Local\\Packages\\PythonSoftwareFoundation.Python.3.9_qbz5n2kfra8p0\\LocalCache\\local-packages\\Python39\\site-packages\\py4j\\java_gateway.py\u001b[0m in \u001b[0;36msend_command\u001b[1;34m(self, command, retry, binary)\u001b[0m\n\u001b[0;32m   1034\u001b[0m          \u001b[1;32mif\u001b[0m\u001b[0;31m \u001b[0m\u001b[0;31m`\u001b[0m\u001b[0mbinary\u001b[0m\u001b[0;31m`\u001b[0m \u001b[1;32mis\u001b[0m\u001b[0;31m \u001b[0m\u001b[0;31m`\u001b[0m\u001b[1;32mTrue\u001b[0m\u001b[0;31m`\u001b[0m\u001b[1;33m.\u001b[0m\u001b[1;33m\u001b[0m\u001b[1;33m\u001b[0m\u001b[0m\n\u001b[0;32m   1035\u001b[0m         \"\"\"\n\u001b[1;32m-> 1036\u001b[1;33m         \u001b[0mconnection\u001b[0m \u001b[1;33m=\u001b[0m \u001b[0mself\u001b[0m\u001b[1;33m.\u001b[0m\u001b[0m_get_connection\u001b[0m\u001b[1;33m(\u001b[0m\u001b[1;33m)\u001b[0m\u001b[1;33m\u001b[0m\u001b[1;33m\u001b[0m\u001b[0m\n\u001b[0m\u001b[0;32m   1037\u001b[0m         \u001b[1;32mtry\u001b[0m\u001b[1;33m:\u001b[0m\u001b[1;33m\u001b[0m\u001b[1;33m\u001b[0m\u001b[0m\n\u001b[0;32m   1038\u001b[0m             \u001b[0mresponse\u001b[0m \u001b[1;33m=\u001b[0m \u001b[0mconnection\u001b[0m\u001b[1;33m.\u001b[0m\u001b[0msend_command\u001b[0m\u001b[1;33m(\u001b[0m\u001b[0mcommand\u001b[0m\u001b[1;33m)\u001b[0m\u001b[1;33m\u001b[0m\u001b[1;33m\u001b[0m\u001b[0m\n",
      "\u001b[1;32m~\\AppData\\Local\\Packages\\PythonSoftwareFoundation.Python.3.9_qbz5n2kfra8p0\\LocalCache\\local-packages\\Python39\\site-packages\\py4j\\clientserver.py\u001b[0m in \u001b[0;36m_get_connection\u001b[1;34m(self)\u001b[0m\n\u001b[0;32m    282\u001b[0m \u001b[1;33m\u001b[0m\u001b[0m\n\u001b[0;32m    283\u001b[0m         \u001b[1;32mif\u001b[0m \u001b[0mconnection\u001b[0m \u001b[1;32mis\u001b[0m \u001b[1;32mNone\u001b[0m \u001b[1;32mor\u001b[0m \u001b[0mconnection\u001b[0m\u001b[1;33m.\u001b[0m\u001b[0msocket\u001b[0m \u001b[1;32mis\u001b[0m \u001b[1;32mNone\u001b[0m\u001b[1;33m:\u001b[0m\u001b[1;33m\u001b[0m\u001b[1;33m\u001b[0m\u001b[0m\n\u001b[1;32m--> 284\u001b[1;33m             \u001b[0mconnection\u001b[0m \u001b[1;33m=\u001b[0m \u001b[0mself\u001b[0m\u001b[1;33m.\u001b[0m\u001b[0m_create_new_connection\u001b[0m\u001b[1;33m(\u001b[0m\u001b[1;33m)\u001b[0m\u001b[1;33m\u001b[0m\u001b[1;33m\u001b[0m\u001b[0m\n\u001b[0m\u001b[0;32m    285\u001b[0m         \u001b[1;32mreturn\u001b[0m \u001b[0mconnection\u001b[0m\u001b[1;33m\u001b[0m\u001b[1;33m\u001b[0m\u001b[0m\n\u001b[0;32m    286\u001b[0m \u001b[1;33m\u001b[0m\u001b[0m\n",
      "\u001b[1;32m~\\AppData\\Local\\Packages\\PythonSoftwareFoundation.Python.3.9_qbz5n2kfra8p0\\LocalCache\\local-packages\\Python39\\site-packages\\py4j\\clientserver.py\u001b[0m in \u001b[0;36m_create_new_connection\u001b[1;34m(self)\u001b[0m\n\u001b[0;32m    289\u001b[0m             \u001b[0mself\u001b[0m\u001b[1;33m.\u001b[0m\u001b[0mjava_parameters\u001b[0m\u001b[1;33m,\u001b[0m \u001b[0mself\u001b[0m\u001b[1;33m.\u001b[0m\u001b[0mpython_parameters\u001b[0m\u001b[1;33m,\u001b[0m\u001b[1;33m\u001b[0m\u001b[1;33m\u001b[0m\u001b[0m\n\u001b[0;32m    290\u001b[0m             self.gateway_property, self)\n\u001b[1;32m--> 291\u001b[1;33m         \u001b[0mconnection\u001b[0m\u001b[1;33m.\u001b[0m\u001b[0mconnect_to_java_server\u001b[0m\u001b[1;33m(\u001b[0m\u001b[1;33m)\u001b[0m\u001b[1;33m\u001b[0m\u001b[1;33m\u001b[0m\u001b[0m\n\u001b[0m\u001b[0;32m    292\u001b[0m         \u001b[0mself\u001b[0m\u001b[1;33m.\u001b[0m\u001b[0mset_thread_connection\u001b[0m\u001b[1;33m(\u001b[0m\u001b[0mconnection\u001b[0m\u001b[1;33m)\u001b[0m\u001b[1;33m\u001b[0m\u001b[1;33m\u001b[0m\u001b[0m\n\u001b[0;32m    293\u001b[0m         \u001b[1;32mreturn\u001b[0m \u001b[0mconnection\u001b[0m\u001b[1;33m\u001b[0m\u001b[1;33m\u001b[0m\u001b[0m\n",
      "\u001b[1;32m~\\AppData\\Local\\Packages\\PythonSoftwareFoundation.Python.3.9_qbz5n2kfra8p0\\LocalCache\\local-packages\\Python39\\site-packages\\py4j\\clientserver.py\u001b[0m in \u001b[0;36mconnect_to_java_server\u001b[1;34m(self)\u001b[0m\n\u001b[0;32m    436\u001b[0m                 self.socket = self.ssl_context.wrap_socket(\n\u001b[0;32m    437\u001b[0m                     self.socket, server_hostname=self.java_address)\n\u001b[1;32m--> 438\u001b[1;33m             \u001b[0mself\u001b[0m\u001b[1;33m.\u001b[0m\u001b[0msocket\u001b[0m\u001b[1;33m.\u001b[0m\u001b[0mconnect\u001b[0m\u001b[1;33m(\u001b[0m\u001b[1;33m(\u001b[0m\u001b[0mself\u001b[0m\u001b[1;33m.\u001b[0m\u001b[0mjava_address\u001b[0m\u001b[1;33m,\u001b[0m \u001b[0mself\u001b[0m\u001b[1;33m.\u001b[0m\u001b[0mjava_port\u001b[0m\u001b[1;33m)\u001b[0m\u001b[1;33m)\u001b[0m\u001b[1;33m\u001b[0m\u001b[1;33m\u001b[0m\u001b[0m\n\u001b[0m\u001b[0;32m    439\u001b[0m             \u001b[0mself\u001b[0m\u001b[1;33m.\u001b[0m\u001b[0mstream\u001b[0m \u001b[1;33m=\u001b[0m \u001b[0mself\u001b[0m\u001b[1;33m.\u001b[0m\u001b[0msocket\u001b[0m\u001b[1;33m.\u001b[0m\u001b[0mmakefile\u001b[0m\u001b[1;33m(\u001b[0m\u001b[1;34m\"rb\"\u001b[0m\u001b[1;33m)\u001b[0m\u001b[1;33m\u001b[0m\u001b[1;33m\u001b[0m\u001b[0m\n\u001b[0;32m    440\u001b[0m             \u001b[0mself\u001b[0m\u001b[1;33m.\u001b[0m\u001b[0mis_connected\u001b[0m \u001b[1;33m=\u001b[0m \u001b[1;32mTrue\u001b[0m\u001b[1;33m\u001b[0m\u001b[1;33m\u001b[0m\u001b[0m\n",
      "\u001b[1;31mConnectionRefusedError\u001b[0m: [WinError 10061] No se puede establecer una conexión ya que el equipo de destino denegó expresamente dicha conexión"
     ]
    }
   ],
   "source": [
    "shape = get_shape(dftest)\n",
    "print(shape)"
   ]
  },
  {
   "cell_type": "code",
   "execution_count": null,
   "metadata": {},
   "outputs": [],
   "source": [
    "dftest.filter(dftest['CONSULTAS_SIN_LAB_MED'] == 1).show()"
   ]
  },
  {
   "cell_type": "code",
   "execution_count": null,
   "metadata": {},
   "outputs": [],
   "source": [
    "# Distribución de medicamentos > 20% pt1\n",
    "\n",
    "from pyspark.sql import functions as F\n",
    "from pyspark.sql.window import Window\n",
    "\n",
    "\n",
    "def calcular_porcentaje_tipo_prestacion(consolidated_df):\n",
    "    # Asignar el valor de la columna AUTORIZACION a AUTORIZACIONRELACIONADA donde AUTORIZACION está en autorizaciones_padres_list\n",
    "    autorizaciones_padres_list = consolidated_df.select(\"AUTORIZACIONRELACIONADA\").distinct().na.drop().rdd.flatMap(lambda x: x).collect()\n",
    "    consolidated_df = consolidated_df.withColumn(\"AUTORIZACIONRELACIONADA\", F.when(consolidated_df[\"AUTORIZACION\"].isin(autorizaciones_padres_list), consolidated_df[\"AUTORIZACION\"]).otherwise(consolidated_df[\"AUTORIZACIONRELACIONADA\"]))\n",
    "\n",
    "    # Agrupar y calcular las métricas para cada grupo\n",
    "    eventos_agrupados_df = consolidated_df.groupBy(\"AUTORIZACIONRELACIONADA\", \"TIPOPRESTACION\") \\\n",
    "        .agg(\n",
    "            F.countDistinct(\"AUTORIZACION\").alias(\"NUM_AUTORIZACIONES\"),\n",
    "            F.count(\"PRESTACION\").alias(\"NUM_PROCEDIMIENTOS\"),\n",
    "            F.sum(\"MONTORECLAMADO\").alias(\"MONTO_RECLAMADO\"),\n",
    "            F.sum(\"MONTOAUTORIZADO\").alias(\"MONTO_AUTORIZADO\")\n",
    "        ).orderBy(\"MONTO_RECLAMADO\", ascending=False)\n",
    "\n",
    "    # Crear una tabla dinámica con MONTO_RECLAMADO como valor\n",
    "    eventos_agrupados_pivot_df = eventos_agrupados_df.groupBy(\"AUTORIZACIONRELACIONADA\") \\\n",
    "        .pivot(\"TIPOPRESTACION\") \\\n",
    "        .agg(F.sum(\"MONTO_RECLAMADO\").alias(\"MONTO_RECLAMADO\")) \\\n",
    "        .na.fill(0)\n",
    "\n",
    "    # Calcular el total de MONTO_RECLAMADO para cada AUTORIZACIONRELACIONADA\n",
    "    total_columns = [column for column in eventos_agrupados_pivot_df.columns if column != \"AUTORIZACIONRELACIONADA\"]\n",
    "    eventos_agrupados_pivot_df = eventos_agrupados_pivot_df.withColumn(\"TOTAL\", sum(F.col(column) for column in total_columns))\n",
    "\n",
    "    # Calcular el porcentaje de MONTO_RECLAMADO por TIPOPRESTACION\n",
    "    eventos_agrupados_pivot_percent_df = eventos_agrupados_pivot_df.select(\"AUTORIZACIONRELACIONADA\", \"TOTAL\")\n",
    "    for column in total_columns:\n",
    "        eventos_agrupados_pivot_percent_df = eventos_agrupados_pivot_percent_df.withColumn(column, (F.col(column) / F.col(\"TOTAL\")))\n",
    "\n",
    "    return eventos_agrupados_pivot_percent_df.drop(\"TOTAL\")\n",
    "\n",
    "\n",
    "\n"
   ]
  },
  {
   "cell_type": "code",
   "execution_count": null,
   "metadata": {},
   "outputs": [],
   "source": [
    "# Llamar a la función y guardar el resultado en la variable eventos_agrupados_pivot_percent_df\n",
    "eventos_agrupados_pivot_percent_df = calcular_porcentaje_tipo_prestacion(dftest)\n"
   ]
  },
  {
   "cell_type": "code",
   "execution_count": null,
   "metadata": {},
   "outputs": [],
   "source": [
    "eventos_agrupados_pivot_percent_df.show()"
   ]
  },
  {
   "cell_type": "code",
   "execution_count": null,
   "metadata": {},
   "outputs": [],
   "source": [
    "print(dftest.count(), len(dftest.columns))"
   ]
  },
  {
   "cell_type": "code",
   "execution_count": null,
   "metadata": {},
   "outputs": [],
   "source": [
    "# Distribución de medicamentos > 20% pt2\n",
    "\n",
    "from functools import reduce\n",
    "from pyspark.sql import DataFrame\n",
    "\n",
    "def calcular_lim_dist_meds_excedido(df, eventos_agrupados_pivot_percent_df):\n",
    "    # Preparar las variables para el proceso de \"melt\"\n",
    "    value_vars = eventos_agrupados_pivot_percent_df.columns\n",
    "    id_vars = value_vars[0]\n",
    "    value_vars = value_vars[1:]\n",
    "\n",
    "    # Aplicar el proceso de \"melt\" en el DataFrame\n",
    "    melted_dataframes = [eventos_agrupados_pivot_percent_df.select(id_vars, F.lit(c).alias(\"TIPOPRESTACION\"), F.col(c).alias(\"% Total Monto del Evento\")) for c in value_vars]\n",
    "    eventos_melt = reduce(DataFrame.unionAll, melted_dataframes)\n",
    "\n",
    "    # Filtrar el DataFrame\n",
    "    eventos_melt = eventos_melt.filter(F.col('TIPOPRESTACION') != '').filter(F.col('% Total Monto del Evento') > 0)\n",
    "\n",
    "    # Aplicar la máscara y obtener los outliers\n",
    "    eventos_melt_mask = (F.col(\"% Total Monto del Evento\") > 0.2) & (F.col(\"TIPOPRESTACION\").contains('MEDICAMENTOS'))\n",
    "    eventos_melt_outliers = eventos_melt.filter(eventos_melt_mask)\n",
    "\n",
    "    # Obtener las autorizaciones únicas\n",
    "    autorizaciones_padres_dist_meds = [row['AUTORIZACIONRELACIONADA'] for row in eventos_melt_outliers.select('AUTORIZACIONRELACIONADA').distinct().collect()]\n",
    "\n",
    "    # Calcular la columna LIM_DIST_MEDS_EXCEDIDO y agregarla al DataFrame\n",
    "    df = df.withColumn('LIM_DIST_MEDS_EXCEDIDO', F.when(F.col('AUTORIZACIONRELACIONADA').isin(autorizaciones_padres_dist_meds), 1).otherwise(0))\n",
    "\n",
    "    return df"
   ]
  },
  {
   "cell_type": "code",
   "execution_count": null,
   "metadata": {},
   "outputs": [],
   "source": [
    "dftest = calcular_lim_dist_meds_excedido(dftest, eventos_agrupados_pivot_percent_df)"
   ]
  },
  {
   "cell_type": "code",
   "execution_count": null,
   "metadata": {},
   "outputs": [],
   "source": []
  },
  {
   "cell_type": "code",
   "execution_count": null,
   "metadata": {},
   "outputs": [],
   "source": []
  },
  {
   "cell_type": "code",
   "execution_count": null,
   "metadata": {},
   "outputs": [],
   "source": [
    "spark.stop()"
   ]
  },
  {
   "cell_type": "code",
   "execution_count": null,
   "metadata": {},
   "outputs": [],
   "source": []
  }
 ],
 "metadata": {
  "kernelspec": {
   "display_name": "Python 3",
   "language": "python",
   "name": "python3"
  },
  "language_info": {
   "codemirror_mode": {
    "name": "ipython",
    "version": 3
   },
   "file_extension": ".py",
   "mimetype": "text/x-python",
   "name": "python",
   "nbconvert_exporter": "python",
   "pygments_lexer": "ipython3",
   "version": "3.9.13"
  },
  "orig_nbformat": 4
 },
 "nbformat": 4,
 "nbformat_minor": 2
}
